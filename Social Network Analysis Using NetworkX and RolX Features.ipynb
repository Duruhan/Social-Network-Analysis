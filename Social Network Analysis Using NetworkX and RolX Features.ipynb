{
 "cells": [
  {
   "cell_type": "code",
   "execution_count": 1,
   "id": "33895527",
   "metadata": {},
   "outputs": [],
   "source": [
    "import networkx as nx\n",
    "import pandas as pd\n",
    "import numpy as np\n",
    "\n",
    "from matplotlib import pyplot as plt\n",
    "import seaborn as sns\n",
    "%matplotlib inline"
   ]
  },
  {
   "cell_type": "code",
   "execution_count": 2,
   "id": "6d2eaacd",
   "metadata": {},
   "outputs": [
    {
     "name": "stdout",
     "output_type": "stream",
     "text": [
      "348\n"
     ]
    },
    {
     "data": {
      "text/plain": [
       "[('0', '1'), ('0', '316'), ('0', '146'), ('0', '221'), ('0', '18')]"
      ]
     },
     "execution_count": 2,
     "metadata": {},
     "output_type": "execute_result"
    }
   ],
   "source": [
    "myEdgeList = nx.read_edgelist(\"stdcommnet.edges\")\n",
    "print(len(myEdgeList.nodes()))\n",
    "list(myEdgeList.edges())[:5]"
   ]
  },
  {
   "cell_type": "code",
   "execution_count": 3,
   "id": "6b9bcd41",
   "metadata": {},
   "outputs": [
    {
     "data": {
      "text/html": [
       "<div>\n",
       "<style scoped>\n",
       "    .dataframe tbody tr th:only-of-type {\n",
       "        vertical-align: middle;\n",
       "    }\n",
       "\n",
       "    .dataframe tbody tr th {\n",
       "        vertical-align: top;\n",
       "    }\n",
       "\n",
       "    .dataframe thead th {\n",
       "        text-align: right;\n",
       "    }\n",
       "</style>\n",
       "<table border=\"1\" class=\"dataframe\">\n",
       "  <thead>\n",
       "    <tr style=\"text-align: right;\">\n",
       "      <th></th>\n",
       "      <th>stdid</th>\n",
       "      <th>label</th>\n",
       "    </tr>\n",
       "  </thead>\n",
       "  <tbody>\n",
       "    <tr>\n",
       "      <th>0</th>\n",
       "      <td>0</td>\n",
       "      <td>MIS</td>\n",
       "    </tr>\n",
       "    <tr>\n",
       "      <th>1</th>\n",
       "      <td>1</td>\n",
       "      <td>unknown</td>\n",
       "    </tr>\n",
       "    <tr>\n",
       "      <th>2</th>\n",
       "      <td>2</td>\n",
       "      <td>CS</td>\n",
       "    </tr>\n",
       "    <tr>\n",
       "      <th>3</th>\n",
       "      <td>3</td>\n",
       "      <td>unknown</td>\n",
       "    </tr>\n",
       "    <tr>\n",
       "      <th>4</th>\n",
       "      <td>4</td>\n",
       "      <td>unknown</td>\n",
       "    </tr>\n",
       "  </tbody>\n",
       "</table>\n",
       "</div>"
      ],
      "text/plain": [
       "   stdid    label\n",
       "0      0      MIS\n",
       "1      1  unknown\n",
       "2      2       CS\n",
       "3      3  unknown\n",
       "4      4  unknown"
      ]
     },
     "execution_count": 3,
     "metadata": {},
     "output_type": "execute_result"
    }
   ],
   "source": [
    "data = pd.read_csv(\"stddepartments.txt\", sep = \" \")\n",
    "data.head()"
   ]
  },
  {
   "cell_type": "code",
   "execution_count": 4,
   "id": "9286db32",
   "metadata": {},
   "outputs": [
    {
     "name": "stdout",
     "output_type": "stream",
     "text": [
      "(348, 1)\n"
     ]
    },
    {
     "data": {
      "text/html": [
       "<div>\n",
       "<style scoped>\n",
       "    .dataframe tbody tr th:only-of-type {\n",
       "        vertical-align: middle;\n",
       "    }\n",
       "\n",
       "    .dataframe tbody tr th {\n",
       "        vertical-align: top;\n",
       "    }\n",
       "\n",
       "    .dataframe thead th {\n",
       "        text-align: right;\n",
       "    }\n",
       "</style>\n",
       "<table border=\"1\" class=\"dataframe\">\n",
       "  <thead>\n",
       "    <tr style=\"text-align: right;\">\n",
       "      <th></th>\n",
       "      <th>label</th>\n",
       "    </tr>\n",
       "  </thead>\n",
       "  <tbody>\n",
       "    <tr>\n",
       "      <th>0</th>\n",
       "      <td>MIS</td>\n",
       "    </tr>\n",
       "    <tr>\n",
       "      <th>1</th>\n",
       "      <td>unknown</td>\n",
       "    </tr>\n",
       "    <tr>\n",
       "      <th>2</th>\n",
       "      <td>CS</td>\n",
       "    </tr>\n",
       "    <tr>\n",
       "      <th>3</th>\n",
       "      <td>unknown</td>\n",
       "    </tr>\n",
       "    <tr>\n",
       "      <th>4</th>\n",
       "      <td>unknown</td>\n",
       "    </tr>\n",
       "  </tbody>\n",
       "</table>\n",
       "</div>"
      ],
      "text/plain": [
       "     label\n",
       "0      MIS\n",
       "1  unknown\n",
       "2       CS\n",
       "3  unknown\n",
       "4  unknown"
      ]
     },
     "execution_count": 4,
     "metadata": {},
     "output_type": "execute_result"
    }
   ],
   "source": [
    "data.set_index(\"stdid\", inplace=True, drop = True)\n",
    "data.rename_axis(None, inplace=True)\n",
    "print(data.shape)\n",
    "data.head()"
   ]
  },
  {
   "cell_type": "code",
   "execution_count": 5,
   "id": "5162e919",
   "metadata": {},
   "outputs": [
    {
     "data": {
      "text/plain": [
       "Int64Index([   0,    1,    2,    3,    4,    7,    8,    9,   11,   12,\n",
       "            ...\n",
       "             969,  972,  982,  990,  992,  993,  996,  998, 1000, 1001],\n",
       "           dtype='int64', length=348)"
      ]
     },
     "execution_count": 5,
     "metadata": {},
     "output_type": "execute_result"
    }
   ],
   "source": [
    "data.index"
   ]
  },
  {
   "cell_type": "code",
   "execution_count": 6,
   "id": "9d5dfab1",
   "metadata": {},
   "outputs": [
    {
     "name": "stdout",
     "output_type": "stream",
     "text": [
      "(348, 8)\n"
     ]
    },
    {
     "data": {
      "text/html": [
       "<div>\n",
       "<style scoped>\n",
       "    .dataframe tbody tr th:only-of-type {\n",
       "        vertical-align: middle;\n",
       "    }\n",
       "\n",
       "    .dataframe tbody tr th {\n",
       "        vertical-align: top;\n",
       "    }\n",
       "\n",
       "    .dataframe thead th {\n",
       "        text-align: right;\n",
       "    }\n",
       "</style>\n",
       "<table border=\"1\" class=\"dataframe\">\n",
       "  <thead>\n",
       "    <tr style=\"text-align: right;\">\n",
       "      <th></th>\n",
       "      <th>label</th>\n",
       "      <th>Triangle</th>\n",
       "      <th>PageRank</th>\n",
       "      <th>EigenvectorCentrality</th>\n",
       "      <th>ClusteringCoefficient</th>\n",
       "      <th>ClosenessCentrality</th>\n",
       "      <th>BetweennennCentrality</th>\n",
       "      <th>DegreeCentrality</th>\n",
       "    </tr>\n",
       "  </thead>\n",
       "  <tbody>\n",
       "    <tr>\n",
       "      <th>0</th>\n",
       "      <td>MIS</td>\n",
       "      <td>130</td>\n",
       "      <td>0.003665</td>\n",
       "      <td>0.035426</td>\n",
       "      <td>0.471014</td>\n",
       "      <td>0.004689</td>\n",
       "      <td>0.004689</td>\n",
       "      <td>0.074928</td>\n",
       "    </tr>\n",
       "    <tr>\n",
       "      <th>1</th>\n",
       "      <td>unknown</td>\n",
       "      <td>97</td>\n",
       "      <td>0.003522</td>\n",
       "      <td>0.033586</td>\n",
       "      <td>0.383399</td>\n",
       "      <td>0.003313</td>\n",
       "      <td>0.003313</td>\n",
       "      <td>0.072046</td>\n",
       "    </tr>\n",
       "    <tr>\n",
       "      <th>2</th>\n",
       "      <td>CS</td>\n",
       "      <td>299</td>\n",
       "      <td>0.006285</td>\n",
       "      <td>0.030224</td>\n",
       "      <td>0.425320</td>\n",
       "      <td>0.024914</td>\n",
       "      <td>0.024914</td>\n",
       "      <td>0.115274</td>\n",
       "    </tr>\n",
       "    <tr>\n",
       "      <th>3</th>\n",
       "      <td>unknown</td>\n",
       "      <td>251</td>\n",
       "      <td>0.004688</td>\n",
       "      <td>0.036006</td>\n",
       "      <td>0.539785</td>\n",
       "      <td>0.008720</td>\n",
       "      <td>0.008720</td>\n",
       "      <td>0.095101</td>\n",
       "    </tr>\n",
       "    <tr>\n",
       "      <th>4</th>\n",
       "      <td>unknown</td>\n",
       "      <td>308</td>\n",
       "      <td>0.005945</td>\n",
       "      <td>0.037620</td>\n",
       "      <td>0.415655</td>\n",
       "      <td>0.019443</td>\n",
       "      <td>0.019443</td>\n",
       "      <td>0.118156</td>\n",
       "    </tr>\n",
       "  </tbody>\n",
       "</table>\n",
       "</div>"
      ],
      "text/plain": [
       "     label  Triangle  PageRank  EigenvectorCentrality  ClusteringCoefficient  \\\n",
       "0      MIS       130  0.003665               0.035426               0.471014   \n",
       "1  unknown        97  0.003522               0.033586               0.383399   \n",
       "2       CS       299  0.006285               0.030224               0.425320   \n",
       "3  unknown       251  0.004688               0.036006               0.539785   \n",
       "4  unknown       308  0.005945               0.037620               0.415655   \n",
       "\n",
       "   ClosenessCentrality  BetweennennCentrality  DegreeCentrality  \n",
       "0             0.004689               0.004689          0.074928  \n",
       "1             0.003313               0.003313          0.072046  \n",
       "2             0.024914               0.024914          0.115274  \n",
       "3             0.008720               0.008720          0.095101  \n",
       "4             0.019443               0.019443          0.118156  "
      ]
     },
     "execution_count": 6,
     "metadata": {},
     "output_type": "execute_result"
    }
   ],
   "source": [
    "#Features Generated using NetworkX\n",
    "\n",
    "triangles = nx.triangles(myEdgeList)\n",
    "pageRank= nx.pagerank(myEdgeList)\n",
    "eigenvectorCentrality = nx.eigenvector_centrality(myEdgeList)\n",
    "clustringCoefficient = nx.clustering(myEdgeList)\n",
    "closenessCentrality = nx.betweenness_centrality(myEdgeList)\n",
    "betweennessCentrality = nx.betweenness_centrality(myEdgeList)\n",
    "degreeCentrality = nx.degree_centrality(myEdgeList)\n",
    "\n",
    "cols = [triangles, pageRank, eigenvectorCentrality,clustringCoefficient, closenessCentrality, betweennessCentrality, degreeCentrality]\n",
    "names = [\"Triangle\", \"PageRank\", \"EigenvectorCentrality\", \"ClusteringCoefficient\", \"ClosenessCentrality\", \"BetweennennCentrality\", \"DegreeCentrality\"]\n",
    "for i in range(len(cols)):\n",
    "    data[names[i]] = data.index.map({int(k): v for k, v in cols[i].items()})\n",
    "print(data.shape)\n",
    "data.head()"
   ]
  },
  {
   "cell_type": "code",
   "execution_count": 7,
   "id": "4fa7ec33",
   "metadata": {},
   "outputs": [
    {
     "name": "stdout",
     "output_type": "stream",
     "text": [
      "(348, 11)\n"
     ]
    },
    {
     "data": {
      "text/html": [
       "<div>\n",
       "<style scoped>\n",
       "    .dataframe tbody tr th:only-of-type {\n",
       "        vertical-align: middle;\n",
       "    }\n",
       "\n",
       "    .dataframe tbody tr th {\n",
       "        vertical-align: top;\n",
       "    }\n",
       "\n",
       "    .dataframe thead th {\n",
       "        text-align: right;\n",
       "    }\n",
       "</style>\n",
       "<table border=\"1\" class=\"dataframe\">\n",
       "  <thead>\n",
       "    <tr style=\"text-align: right;\">\n",
       "      <th></th>\n",
       "      <th>label</th>\n",
       "      <th>Triangle</th>\n",
       "      <th>PageRank</th>\n",
       "      <th>EigenvectorCentrality</th>\n",
       "      <th>ClusteringCoefficient</th>\n",
       "      <th>ClosenessCentrality</th>\n",
       "      <th>BetweennennCentrality</th>\n",
       "      <th>DegreeCentrality</th>\n",
       "      <th>CentralityDifference</th>\n",
       "      <th>Degrees</th>\n",
       "      <th>MeanNumberOfConnections</th>\n",
       "    </tr>\n",
       "  </thead>\n",
       "  <tbody>\n",
       "    <tr>\n",
       "      <th>0</th>\n",
       "      <td>MIS</td>\n",
       "      <td>130</td>\n",
       "      <td>0.003665</td>\n",
       "      <td>0.035426</td>\n",
       "      <td>0.471014</td>\n",
       "      <td>0.004689</td>\n",
       "      <td>0.004689</td>\n",
       "      <td>0.074928</td>\n",
       "      <td>0.039502</td>\n",
       "      <td>26</td>\n",
       "      <td>28.576923</td>\n",
       "    </tr>\n",
       "    <tr>\n",
       "      <th>1</th>\n",
       "      <td>unknown</td>\n",
       "      <td>97</td>\n",
       "      <td>0.003522</td>\n",
       "      <td>0.033586</td>\n",
       "      <td>0.383399</td>\n",
       "      <td>0.003313</td>\n",
       "      <td>0.003313</td>\n",
       "      <td>0.072046</td>\n",
       "      <td>0.038460</td>\n",
       "      <td>25</td>\n",
       "      <td>30.360000</td>\n",
       "    </tr>\n",
       "    <tr>\n",
       "      <th>2</th>\n",
       "      <td>CS</td>\n",
       "      <td>299</td>\n",
       "      <td>0.006285</td>\n",
       "      <td>0.030224</td>\n",
       "      <td>0.425320</td>\n",
       "      <td>0.024914</td>\n",
       "      <td>0.024914</td>\n",
       "      <td>0.115274</td>\n",
       "      <td>0.085050</td>\n",
       "      <td>40</td>\n",
       "      <td>22.150000</td>\n",
       "    </tr>\n",
       "    <tr>\n",
       "      <th>3</th>\n",
       "      <td>unknown</td>\n",
       "      <td>251</td>\n",
       "      <td>0.004688</td>\n",
       "      <td>0.036006</td>\n",
       "      <td>0.539785</td>\n",
       "      <td>0.008720</td>\n",
       "      <td>0.008720</td>\n",
       "      <td>0.095101</td>\n",
       "      <td>0.059095</td>\n",
       "      <td>33</td>\n",
       "      <td>28.787879</td>\n",
       "    </tr>\n",
       "    <tr>\n",
       "      <th>4</th>\n",
       "      <td>unknown</td>\n",
       "      <td>308</td>\n",
       "      <td>0.005945</td>\n",
       "      <td>0.037620</td>\n",
       "      <td>0.415655</td>\n",
       "      <td>0.019443</td>\n",
       "      <td>0.019443</td>\n",
       "      <td>0.118156</td>\n",
       "      <td>0.080535</td>\n",
       "      <td>41</td>\n",
       "      <td>24.682927</td>\n",
       "    </tr>\n",
       "  </tbody>\n",
       "</table>\n",
       "</div>"
      ],
      "text/plain": [
       "     label  Triangle  PageRank  EigenvectorCentrality  ClusteringCoefficient  \\\n",
       "0      MIS       130  0.003665               0.035426               0.471014   \n",
       "1  unknown        97  0.003522               0.033586               0.383399   \n",
       "2       CS       299  0.006285               0.030224               0.425320   \n",
       "3  unknown       251  0.004688               0.036006               0.539785   \n",
       "4  unknown       308  0.005945               0.037620               0.415655   \n",
       "\n",
       "   ClosenessCentrality  BetweennennCentrality  DegreeCentrality  \\\n",
       "0             0.004689               0.004689          0.074928   \n",
       "1             0.003313               0.003313          0.072046   \n",
       "2             0.024914               0.024914          0.115274   \n",
       "3             0.008720               0.008720          0.095101   \n",
       "4             0.019443               0.019443          0.118156   \n",
       "\n",
       "   CentralityDifference  Degrees  MeanNumberOfConnections  \n",
       "0              0.039502       26                28.576923  \n",
       "1              0.038460       25                30.360000  \n",
       "2              0.085050       40                22.150000  \n",
       "3              0.059095       33                28.787879  \n",
       "4              0.080535       41                24.682927  "
      ]
     },
     "execution_count": 7,
     "metadata": {},
     "output_type": "execute_result"
    }
   ],
   "source": [
    "#Custom Features\n",
    "\n",
    "centralityDifference = {}\n",
    "for node in myEdgeList.nodes():\n",
    "    centralityDifference[node] = degreeCentrality[node] - eigenvectorCentrality[node]\n",
    "\n",
    "degrees = {node: myEdgeList.degree(node) for node in myEdgeList.nodes()}\n",
    "\n",
    "meanNumberOfConnections = {}\n",
    "for node in myEdgeList.nodes():\n",
    "    neigborConnectionSize = sum(myEdgeList.degree(neighbor) for neighbor in myEdgeList.neighbors(node) if neighbor != node)\n",
    "    meanNumberOfConnections[node] = neigborConnectionSize / degrees[node]    \n",
    "\n",
    "cols = [centralityDifference, degrees,meanNumberOfConnections]\n",
    "names = [\"CentralityDifference\", \"Degrees\", \"MeanNumberOfConnections\"]\n",
    "        \n",
    "for i in range(len(cols)):\n",
    "    data[names[i]] = data.index.map({int(k): v for k, v in cols[i].items()})\n",
    "\n",
    "print(data.shape)\n",
    "data.head()"
   ]
  },
  {
   "cell_type": "markdown",
   "id": "16e166df",
   "metadata": {},
   "source": [
    "Let's check for the correlations."
   ]
  },
  {
   "cell_type": "code",
   "execution_count": 8,
   "id": "ee1f7a78",
   "metadata": {},
   "outputs": [
    {
     "data": {
      "text/plain": [
       "<Axes: >"
      ]
     },
     "execution_count": 8,
     "metadata": {},
     "output_type": "execute_result"
    },
    {
     "data": {
      "image/png": "[encoded data removed]",
      "text/plain": [
       "<Figure size 1200x1200 with 2 Axes>"
      ]
     },
     "metadata": {},
     "output_type": "display_data"
    }
   ],
   "source": [
    "plt.figure(figsize = (12,12))\n",
    "sns.heatmap(data.iloc[:,1:].corr(), annot=True, square = True, cmap='coolwarm')"
   ]
  },
  {
   "cell_type": "markdown",
   "id": "09a1471f",
   "metadata": {},
   "source": [
    "I have noticed that there are some highly correlated features. I will drop some of them to enhance the performance of the model that I will tune at a later stage.\n",
    "\n",
    "- Degrees and DegreesCentrality seem to be exactly the same. I will check for the distribution of the data to decide which one to drop.\n",
    "\n",
    "- ClosenessCentrality and BetweennessCentrality are identical too. I will drop one of them either.\n",
    "\n",
    "- Triangle, Pagerank and DegreeCentrality are strongly correlated. I will drop two of them."
   ]
  },
  {
   "cell_type": "code",
   "execution_count": 9,
   "id": "d1e9bf22",
   "metadata": {},
   "outputs": [
    {
     "data": {
      "text/html": [
       "<div>\n",
       "<style scoped>\n",
       "    .dataframe tbody tr th:only-of-type {\n",
       "        vertical-align: middle;\n",
       "    }\n",
       "\n",
       "    .dataframe tbody tr th {\n",
       "        vertical-align: top;\n",
       "    }\n",
       "\n",
       "    .dataframe thead th {\n",
       "        text-align: right;\n",
       "    }\n",
       "</style>\n",
       "<table border=\"1\" class=\"dataframe\">\n",
       "  <thead>\n",
       "    <tr style=\"text-align: right;\">\n",
       "      <th></th>\n",
       "      <th>Triangle</th>\n",
       "      <th>PageRank</th>\n",
       "      <th>EigenvectorCentrality</th>\n",
       "      <th>ClusteringCoefficient</th>\n",
       "      <th>ClosenessCentrality</th>\n",
       "      <th>BetweennennCentrality</th>\n",
       "      <th>DegreeCentrality</th>\n",
       "      <th>CentralityDifference</th>\n",
       "      <th>Degrees</th>\n",
       "      <th>MeanNumberOfConnections</th>\n",
       "    </tr>\n",
       "  </thead>\n",
       "  <tbody>\n",
       "    <tr>\n",
       "      <th>count</th>\n",
       "      <td>348.000000</td>\n",
       "      <td>348.000000</td>\n",
       "      <td>348.000000</td>\n",
       "      <td>348.000000</td>\n",
       "      <td>348.000000</td>\n",
       "      <td>348.000000</td>\n",
       "      <td>348.000000</td>\n",
       "      <td>348.000000</td>\n",
       "      <td>348.000000</td>\n",
       "      <td>348.000000</td>\n",
       "    </tr>\n",
       "    <tr>\n",
       "      <th>mean</th>\n",
       "      <td>100.577586</td>\n",
       "      <td>0.002874</td>\n",
       "      <td>0.037286</td>\n",
       "      <td>0.485394</td>\n",
       "      <td>0.005278</td>\n",
       "      <td>0.005278</td>\n",
       "      <td>0.055053</td>\n",
       "      <td>0.017767</td>\n",
       "      <td>19.103448</td>\n",
       "      <td>29.992314</td>\n",
       "    </tr>\n",
       "    <tr>\n",
       "      <th>std</th>\n",
       "      <td>119.492863</td>\n",
       "      <td>0.001957</td>\n",
       "      <td>0.038569</td>\n",
       "      <td>0.259528</td>\n",
       "      <td>0.011206</td>\n",
       "      <td>0.011206</td>\n",
       "      <td>0.044824</td>\n",
       "      <td>0.022771</td>\n",
       "      <td>15.553966</td>\n",
       "      <td>8.524063</td>\n",
       "    </tr>\n",
       "    <tr>\n",
       "      <th>min</th>\n",
       "      <td>0.000000</td>\n",
       "      <td>0.000540</td>\n",
       "      <td>0.000003</td>\n",
       "      <td>0.000000</td>\n",
       "      <td>0.000000</td>\n",
       "      <td>0.000000</td>\n",
       "      <td>0.002882</td>\n",
       "      <td>-0.017777</td>\n",
       "      <td>1.000000</td>\n",
       "      <td>1.000000</td>\n",
       "    </tr>\n",
       "    <tr>\n",
       "      <th>25%</th>\n",
       "      <td>6.750000</td>\n",
       "      <td>0.001390</td>\n",
       "      <td>0.008597</td>\n",
       "      <td>0.333333</td>\n",
       "      <td>0.000056</td>\n",
       "      <td>0.000056</td>\n",
       "      <td>0.017291</td>\n",
       "      <td>0.001704</td>\n",
       "      <td>6.000000</td>\n",
       "      <td>26.000000</td>\n",
       "    </tr>\n",
       "    <tr>\n",
       "      <th>50%</th>\n",
       "      <td>56.000000</td>\n",
       "      <td>0.002455</td>\n",
       "      <td>0.023331</td>\n",
       "      <td>0.484517</td>\n",
       "      <td>0.000603</td>\n",
       "      <td>0.000603</td>\n",
       "      <td>0.046110</td>\n",
       "      <td>0.011589</td>\n",
       "      <td>16.000000</td>\n",
       "      <td>30.826923</td>\n",
       "    </tr>\n",
       "    <tr>\n",
       "      <th>75%</th>\n",
       "      <td>159.500000</td>\n",
       "      <td>0.003899</td>\n",
       "      <td>0.053066</td>\n",
       "      <td>0.651786</td>\n",
       "      <td>0.005193</td>\n",
       "      <td>0.005193</td>\n",
       "      <td>0.080692</td>\n",
       "      <td>0.029387</td>\n",
       "      <td>28.000000</td>\n",
       "      <td>34.598584</td>\n",
       "    </tr>\n",
       "    <tr>\n",
       "      <th>max</th>\n",
       "      <td>639.000000</td>\n",
       "      <td>0.011534</td>\n",
       "      <td>0.183682</td>\n",
       "      <td>1.000000</td>\n",
       "      <td>0.091501</td>\n",
       "      <td>0.091501</td>\n",
       "      <td>0.236311</td>\n",
       "      <td>0.099185</td>\n",
       "      <td>82.000000</td>\n",
       "      <td>67.500000</td>\n",
       "    </tr>\n",
       "  </tbody>\n",
       "</table>\n",
       "</div>"
      ],
      "text/plain": [
       "         Triangle    PageRank  EigenvectorCentrality  ClusteringCoefficient  \\\n",
       "count  348.000000  348.000000             348.000000             348.000000   \n",
       "mean   100.577586    0.002874               0.037286               0.485394   \n",
       "std    119.492863    0.001957               0.038569               0.259528   \n",
       "min      0.000000    0.000540               0.000003               0.000000   \n",
       "25%      6.750000    0.001390               0.008597               0.333333   \n",
       "50%     56.000000    0.002455               0.023331               0.484517   \n",
       "75%    159.500000    0.003899               0.053066               0.651786   \n",
       "max    639.000000    0.011534               0.183682               1.000000   \n",
       "\n",
       "       ClosenessCentrality  BetweennennCentrality  DegreeCentrality  \\\n",
       "count           348.000000             348.000000        348.000000   \n",
       "mean              0.005278               0.005278          0.055053   \n",
       "std               0.011206               0.011206          0.044824   \n",
       "min               0.000000               0.000000          0.002882   \n",
       "25%               0.000056               0.000056          0.017291   \n",
       "50%               0.000603               0.000603          0.046110   \n",
       "75%               0.005193               0.005193          0.080692   \n",
       "max               0.091501               0.091501          0.236311   \n",
       "\n",
       "       CentralityDifference     Degrees  MeanNumberOfConnections  \n",
       "count            348.000000  348.000000               348.000000  \n",
       "mean               0.017767   19.103448                29.992314  \n",
       "std                0.022771   15.553966                 8.524063  \n",
       "min               -0.017777    1.000000                 1.000000  \n",
       "25%                0.001704    6.000000                26.000000  \n",
       "50%                0.011589   16.000000                30.826923  \n",
       "75%                0.029387   28.000000                34.598584  \n",
       "max                0.099185   82.000000                67.500000  "
      ]
     },
     "execution_count": 9,
     "metadata": {},
     "output_type": "execute_result"
    }
   ],
   "source": [
    "data.describe()"
   ]
  },
  {
   "cell_type": "code",
   "execution_count": 10,
   "id": "fcc65566",
   "metadata": {},
   "outputs": [],
   "source": [
    "data.drop([\"Degrees\", \"BetweennennCentrality\", \"Triangle\", \"DegreeCentrality\"], axis = 1, inplace = True)"
   ]
  },
  {
   "cell_type": "code",
   "execution_count": 11,
   "id": "f82c5972",
   "metadata": {},
   "outputs": [
    {
     "data": {
      "text/plain": [
       "<Axes: >"
      ]
     },
     "execution_count": 11,
     "metadata": {},
     "output_type": "execute_result"
    },
    {
     "data": {
      "image/png": "[encoded data removed]",
      "text/plain": [
       "<Figure size 1200x1200 with 2 Axes>"
      ]
     },
     "metadata": {},
     "output_type": "display_data"
    }
   ],
   "source": [
    "plt.figure(figsize = (12,12))\n",
    "sns.heatmap(data.iloc[:,1:].corr(), annot=True, square = True, cmap='coolwarm')"
   ]
  },
  {
   "cell_type": "markdown",
   "id": "5b6a3868",
   "metadata": {},
   "source": [
    "Correlation between features looks far better now. Let's check for the distribution of the data."
   ]
  },
  {
   "cell_type": "code",
   "execution_count": 12,
   "id": "c3abe06f",
   "metadata": {},
   "outputs": [
    {
     "data": {
      "image/png": "[encoded data removed]",
      "text/plain": [
       "<Figure size 1200x500 with 1 Axes>"
      ]
     },
     "metadata": {},
     "output_type": "display_data"
    },
    {
     "data": {
      "image/png": "[encoded data removed]",
      "text/plain": [
       "<Figure size 1200x500 with 1 Axes>"
      ]
     },
     "metadata": {},
     "output_type": "display_data"
    },
    {
     "data": {
      "image/png": "[encoded data removed]",
      "text/plain": [
       "<Figure size 1200x500 with 1 Axes>"
      ]
     },
     "metadata": {},
     "output_type": "display_data"
    },
    {
     "data": {
      "image/png": "[encoded data removed]",
      "text/plain": [
       "<Figure size 1200x500 with 1 Axes>"
      ]
     },
     "metadata": {},
     "output_type": "display_data"
    },
    {
     "data": {
      "image/png": "[encoded data removed]",
      "text/plain": [
       "<Figure size 1200x500 with 1 Axes>"
      ]
     },
     "metadata": {},
     "output_type": "display_data"
    },
    {
     "data": {
      "image/png": "[encoded data removed]",
      "text/plain": [
       "<Figure size 1200x500 with 1 Axes>"
      ]
     },
     "metadata": {},
     "output_type": "display_data"
    }
   ],
   "source": [
    "myColumns = data.columns[1:]\n",
    "\n",
    "for i in myColumns:\n",
    "    plt.figure(figsize = (12,5))\n",
    "    plt.hist(data[i], bins = 30)\n",
    "    plt.title(str(i))\n",
    "    plt.show()"
   ]
  },
  {
   "cell_type": "code",
   "execution_count": 13,
   "id": "da624ba0",
   "metadata": {},
   "outputs": [
    {
     "data": {
      "text/html": [
       "<div>\n",
       "<style scoped>\n",
       "    .dataframe tbody tr th:only-of-type {\n",
       "        vertical-align: middle;\n",
       "    }\n",
       "\n",
       "    .dataframe tbody tr th {\n",
       "        vertical-align: top;\n",
       "    }\n",
       "\n",
       "    .dataframe thead th {\n",
       "        text-align: right;\n",
       "    }\n",
       "</style>\n",
       "<table border=\"1\" class=\"dataframe\">\n",
       "  <thead>\n",
       "    <tr style=\"text-align: right;\">\n",
       "      <th></th>\n",
       "      <th>PageRank</th>\n",
       "      <th>EigenvectorCentrality</th>\n",
       "      <th>ClusteringCoefficient</th>\n",
       "      <th>ClosenessCentrality</th>\n",
       "      <th>CentralityDifference</th>\n",
       "      <th>MeanNumberOfConnections</th>\n",
       "    </tr>\n",
       "  </thead>\n",
       "  <tbody>\n",
       "    <tr>\n",
       "      <th>count</th>\n",
       "      <td>348.000000</td>\n",
       "      <td>348.000000</td>\n",
       "      <td>348.000000</td>\n",
       "      <td>348.000000</td>\n",
       "      <td>348.000000</td>\n",
       "      <td>348.000000</td>\n",
       "    </tr>\n",
       "    <tr>\n",
       "      <th>mean</th>\n",
       "      <td>0.002874</td>\n",
       "      <td>0.037286</td>\n",
       "      <td>0.485394</td>\n",
       "      <td>0.005278</td>\n",
       "      <td>0.017767</td>\n",
       "      <td>29.992314</td>\n",
       "    </tr>\n",
       "    <tr>\n",
       "      <th>std</th>\n",
       "      <td>0.001957</td>\n",
       "      <td>0.038569</td>\n",
       "      <td>0.259528</td>\n",
       "      <td>0.011206</td>\n",
       "      <td>0.022771</td>\n",
       "      <td>8.524063</td>\n",
       "    </tr>\n",
       "    <tr>\n",
       "      <th>min</th>\n",
       "      <td>0.000540</td>\n",
       "      <td>0.000003</td>\n",
       "      <td>0.000000</td>\n",
       "      <td>0.000000</td>\n",
       "      <td>-0.017777</td>\n",
       "      <td>1.000000</td>\n",
       "    </tr>\n",
       "    <tr>\n",
       "      <th>25%</th>\n",
       "      <td>0.001390</td>\n",
       "      <td>0.008597</td>\n",
       "      <td>0.333333</td>\n",
       "      <td>0.000056</td>\n",
       "      <td>0.001704</td>\n",
       "      <td>26.000000</td>\n",
       "    </tr>\n",
       "    <tr>\n",
       "      <th>50%</th>\n",
       "      <td>0.002455</td>\n",
       "      <td>0.023331</td>\n",
       "      <td>0.484517</td>\n",
       "      <td>0.000603</td>\n",
       "      <td>0.011589</td>\n",
       "      <td>30.826923</td>\n",
       "    </tr>\n",
       "    <tr>\n",
       "      <th>75%</th>\n",
       "      <td>0.003899</td>\n",
       "      <td>0.053066</td>\n",
       "      <td>0.651786</td>\n",
       "      <td>0.005193</td>\n",
       "      <td>0.029387</td>\n",
       "      <td>34.598584</td>\n",
       "    </tr>\n",
       "    <tr>\n",
       "      <th>max</th>\n",
       "      <td>0.011534</td>\n",
       "      <td>0.183682</td>\n",
       "      <td>1.000000</td>\n",
       "      <td>0.091501</td>\n",
       "      <td>0.099185</td>\n",
       "      <td>67.500000</td>\n",
       "    </tr>\n",
       "  </tbody>\n",
       "</table>\n",
       "</div>"
      ],
      "text/plain": [
       "         PageRank  EigenvectorCentrality  ClusteringCoefficient  \\\n",
       "count  348.000000             348.000000             348.000000   \n",
       "mean     0.002874               0.037286               0.485394   \n",
       "std      0.001957               0.038569               0.259528   \n",
       "min      0.000540               0.000003               0.000000   \n",
       "25%      0.001390               0.008597               0.333333   \n",
       "50%      0.002455               0.023331               0.484517   \n",
       "75%      0.003899               0.053066               0.651786   \n",
       "max      0.011534               0.183682               1.000000   \n",
       "\n",
       "       ClosenessCentrality  CentralityDifference  MeanNumberOfConnections  \n",
       "count           348.000000            348.000000               348.000000  \n",
       "mean              0.005278              0.017767                29.992314  \n",
       "std               0.011206              0.022771                 8.524063  \n",
       "min               0.000000             -0.017777                 1.000000  \n",
       "25%               0.000056              0.001704                26.000000  \n",
       "50%               0.000603              0.011589                30.826923  \n",
       "75%               0.005193              0.029387                34.598584  \n",
       "max               0.091501              0.099185                67.500000  "
      ]
     },
     "execution_count": 13,
     "metadata": {},
     "output_type": "execute_result"
    }
   ],
   "source": [
    "data.describe()"
   ]
  },
  {
   "cell_type": "markdown",
   "id": "d13d0e46",
   "metadata": {},
   "source": [
    "Scale and shape of the data varies a lot. I am planning to use tree based models for this homework so this will not be a problem.\n",
    "\n",
    "I might still scale the data using StandardScaler. I will decide later."
   ]
  },
  {
   "cell_type": "code",
   "execution_count": 14,
   "id": "62dadaf3",
   "metadata": {},
   "outputs": [],
   "source": [
    "from sklearn import preprocessing as pre\n",
    "from sklearn import compose as com\n",
    "from sklearn import pipeline as pip\n",
    "from sklearn import metrics as met"
   ]
  },
  {
   "cell_type": "markdown",
   "id": "064e31a0",
   "metadata": {},
   "source": [
    "I will try creating a new dataframe containing Node2Vec features."
   ]
  },
  {
   "cell_type": "code",
   "execution_count": 15,
   "id": "1e1587dd",
   "metadata": {},
   "outputs": [],
   "source": [
    "from sklearn import base\n",
    "from node2vec import Node2Vec"
   ]
  },
  {
   "cell_type": "code",
   "execution_count": 16,
   "id": "f4d3ab5a",
   "metadata": {},
   "outputs": [
    {
     "data": {
      "application/vnd.jupyter.widget-view+json": {
       "model_id": "eef36d60ff48458a9abff831f526f033",
       "version_major": 2,
       "version_minor": 0
      },
      "text/plain": [
       "Computing transition probabilities:   0%|          | 0/348 [00:00<?, ?it/s]"
      ]
     },
     "metadata": {},
     "output_type": "display_data"
    },
    {
     "name": "stderr",
     "output_type": "stream",
     "text": [
      "Generating walks (CPU: 1): 100%|█████████████████████████████████████████████████████| 200/200 [00:10<00:00, 19.34it/s]\n"
     ]
    },
    {
     "data": {
      "text/html": [
       "<div>\n",
       "<style scoped>\n",
       "    .dataframe tbody tr th:only-of-type {\n",
       "        vertical-align: middle;\n",
       "    }\n",
       "\n",
       "    .dataframe tbody tr th {\n",
       "        vertical-align: top;\n",
       "    }\n",
       "\n",
       "    .dataframe thead th {\n",
       "        text-align: right;\n",
       "    }\n",
       "</style>\n",
       "<table border=\"1\" class=\"dataframe\">\n",
       "  <thead>\n",
       "    <tr style=\"text-align: right;\">\n",
       "      <th></th>\n",
       "      <th>0</th>\n",
       "      <th>1</th>\n",
       "      <th>2</th>\n",
       "      <th>3</th>\n",
       "      <th>4</th>\n",
       "      <th>5</th>\n",
       "      <th>6</th>\n",
       "      <th>7</th>\n",
       "      <th>8</th>\n",
       "      <th>9</th>\n",
       "    </tr>\n",
       "  </thead>\n",
       "  <tbody>\n",
       "    <tr>\n",
       "      <th>0</th>\n",
       "      <td>0.647725</td>\n",
       "      <td>-0.549868</td>\n",
       "      <td>0.385330</td>\n",
       "      <td>0.784622</td>\n",
       "      <td>-0.510680</td>\n",
       "      <td>0.412637</td>\n",
       "      <td>1.246600</td>\n",
       "      <td>0.278664</td>\n",
       "      <td>0.173364</td>\n",
       "      <td>0.674813</td>\n",
       "    </tr>\n",
       "    <tr>\n",
       "      <th>1</th>\n",
       "      <td>0.662025</td>\n",
       "      <td>-0.499140</td>\n",
       "      <td>-0.221454</td>\n",
       "      <td>0.811862</td>\n",
       "      <td>-0.145577</td>\n",
       "      <td>0.134952</td>\n",
       "      <td>1.321101</td>\n",
       "      <td>0.295526</td>\n",
       "      <td>-0.603631</td>\n",
       "      <td>0.042976</td>\n",
       "    </tr>\n",
       "    <tr>\n",
       "      <th>316</th>\n",
       "      <td>0.715039</td>\n",
       "      <td>-0.540285</td>\n",
       "      <td>-0.105606</td>\n",
       "      <td>1.142340</td>\n",
       "      <td>-0.158074</td>\n",
       "      <td>0.468704</td>\n",
       "      <td>1.637908</td>\n",
       "      <td>0.620827</td>\n",
       "      <td>0.306489</td>\n",
       "      <td>0.444976</td>\n",
       "    </tr>\n",
       "    <tr>\n",
       "      <th>146</th>\n",
       "      <td>0.418805</td>\n",
       "      <td>-0.985380</td>\n",
       "      <td>-0.072412</td>\n",
       "      <td>0.283718</td>\n",
       "      <td>0.345255</td>\n",
       "      <td>0.173789</td>\n",
       "      <td>1.702311</td>\n",
       "      <td>-0.279751</td>\n",
       "      <td>0.067270</td>\n",
       "      <td>0.477773</td>\n",
       "    </tr>\n",
       "    <tr>\n",
       "      <th>221</th>\n",
       "      <td>0.853522</td>\n",
       "      <td>-0.590712</td>\n",
       "      <td>0.035862</td>\n",
       "      <td>0.504828</td>\n",
       "      <td>-0.397137</td>\n",
       "      <td>-0.026791</td>\n",
       "      <td>1.125145</td>\n",
       "      <td>0.396436</td>\n",
       "      <td>-0.404166</td>\n",
       "      <td>-0.081932</td>\n",
       "    </tr>\n",
       "    <tr>\n",
       "      <th>...</th>\n",
       "      <td>...</td>\n",
       "      <td>...</td>\n",
       "      <td>...</td>\n",
       "      <td>...</td>\n",
       "      <td>...</td>\n",
       "      <td>...</td>\n",
       "      <td>...</td>\n",
       "      <td>...</td>\n",
       "      <td>...</td>\n",
       "      <td>...</td>\n",
       "    </tr>\n",
       "    <tr>\n",
       "      <th>846</th>\n",
       "      <td>0.188349</td>\n",
       "      <td>-1.463326</td>\n",
       "      <td>2.867637</td>\n",
       "      <td>-0.581271</td>\n",
       "      <td>-0.157904</td>\n",
       "      <td>2.476031</td>\n",
       "      <td>3.295472</td>\n",
       "      <td>-2.973216</td>\n",
       "      <td>0.099200</td>\n",
       "      <td>-0.097193</td>\n",
       "    </tr>\n",
       "    <tr>\n",
       "      <th>863</th>\n",
       "      <td>0.319871</td>\n",
       "      <td>-0.386540</td>\n",
       "      <td>1.247294</td>\n",
       "      <td>-1.923870</td>\n",
       "      <td>0.773098</td>\n",
       "      <td>1.384058</td>\n",
       "      <td>1.680620</td>\n",
       "      <td>1.147934</td>\n",
       "      <td>1.009366</td>\n",
       "      <td>0.164845</td>\n",
       "    </tr>\n",
       "    <tr>\n",
       "      <th>901</th>\n",
       "      <td>-0.054477</td>\n",
       "      <td>-0.647205</td>\n",
       "      <td>0.688359</td>\n",
       "      <td>-0.947226</td>\n",
       "      <td>1.324296</td>\n",
       "      <td>0.304587</td>\n",
       "      <td>0.945331</td>\n",
       "      <td>0.098142</td>\n",
       "      <td>0.658021</td>\n",
       "      <td>-1.470370</td>\n",
       "    </tr>\n",
       "    <tr>\n",
       "      <th>982</th>\n",
       "      <td>0.050174</td>\n",
       "      <td>-0.653731</td>\n",
       "      <td>0.786663</td>\n",
       "      <td>-1.072877</td>\n",
       "      <td>1.322378</td>\n",
       "      <td>0.212710</td>\n",
       "      <td>0.932999</td>\n",
       "      <td>0.133855</td>\n",
       "      <td>0.601199</td>\n",
       "      <td>-1.312776</td>\n",
       "    </tr>\n",
       "    <tr>\n",
       "      <th>992</th>\n",
       "      <td>-0.597377</td>\n",
       "      <td>-1.463742</td>\n",
       "      <td>0.174635</td>\n",
       "      <td>0.154251</td>\n",
       "      <td>1.059052</td>\n",
       "      <td>1.149713</td>\n",
       "      <td>-0.340592</td>\n",
       "      <td>-0.193722</td>\n",
       "      <td>-0.135870</td>\n",
       "      <td>-1.214252</td>\n",
       "    </tr>\n",
       "  </tbody>\n",
       "</table>\n",
       "<p>348 rows × 10 columns</p>\n",
       "</div>"
      ],
      "text/plain": [
       "            0         1         2         3         4         5         6  \\\n",
       "0    0.647725 -0.549868  0.385330  0.784622 -0.510680  0.412637  1.246600   \n",
       "1    0.662025 -0.499140 -0.221454  0.811862 -0.145577  0.134952  1.321101   \n",
       "316  0.715039 -0.540285 -0.105606  1.142340 -0.158074  0.468704  1.637908   \n",
       "146  0.418805 -0.985380 -0.072412  0.283718  0.345255  0.173789  1.702311   \n",
       "221  0.853522 -0.590712  0.035862  0.504828 -0.397137 -0.026791  1.125145   \n",
       "..        ...       ...       ...       ...       ...       ...       ...   \n",
       "846  0.188349 -1.463326  2.867637 -0.581271 -0.157904  2.476031  3.295472   \n",
       "863  0.319871 -0.386540  1.247294 -1.923870  0.773098  1.384058  1.680620   \n",
       "901 -0.054477 -0.647205  0.688359 -0.947226  1.324296  0.304587  0.945331   \n",
       "982  0.050174 -0.653731  0.786663 -1.072877  1.322378  0.212710  0.932999   \n",
       "992 -0.597377 -1.463742  0.174635  0.154251  1.059052  1.149713 -0.340592   \n",
       "\n",
       "            7         8         9  \n",
       "0    0.278664  0.173364  0.674813  \n",
       "1    0.295526 -0.603631  0.042976  \n",
       "316  0.620827  0.306489  0.444976  \n",
       "146 -0.279751  0.067270  0.477773  \n",
       "221  0.396436 -0.404166 -0.081932  \n",
       "..        ...       ...       ...  \n",
       "846 -2.973216  0.099200 -0.097193  \n",
       "863  1.147934  1.009366  0.164845  \n",
       "901  0.098142  0.658021 -1.470370  \n",
       "982  0.133855  0.601199 -1.312776  \n",
       "992 -0.193722 -0.135870 -1.214252  \n",
       "\n",
       "[348 rows x 10 columns]"
      ]
     },
     "execution_count": 16,
     "metadata": {},
     "output_type": "execute_result"
    }
   ],
   "source": [
    "n2v = Node2Vec(myEdgeList, dimensions=10, num_walks=200, walk_length=30, p=1, q=1)\n",
    "n2vModel = n2v.fit(window=4, min_count=1, batch_words=4)\n",
    "\n",
    "n2vDic = dict()\n",
    "for node in myEdgeList.nodes():\n",
    "    n2vDic[node] = n2vModel.wv[str(node)]\n",
    "dfN2v = pd.DataFrame(n2vDic).T\n",
    "dfN2v.index = pd.to_numeric(dfN2v.index)\n",
    "dfN2v"
   ]
  },
  {
   "cell_type": "code",
   "execution_count": 17,
   "id": "4f3956a6",
   "metadata": {},
   "outputs": [
    {
     "data": {
      "text/plain": [
       "Int64Index([  0,   1, 316, 146, 221,  18, 734, 459, 215,  73,\n",
       "            ...\n",
       "            634, 635, 790, 802, 844, 846, 863, 901, 982, 992],\n",
       "           dtype='int64', length=348)"
      ]
     },
     "execution_count": 17,
     "metadata": {},
     "output_type": "execute_result"
    }
   ],
   "source": [
    "dfN2v.index"
   ]
  },
  {
   "cell_type": "code",
   "execution_count": 18,
   "id": "6f15e2ff",
   "metadata": {},
   "outputs": [
    {
     "data": {
      "text/html": [
       "<div>\n",
       "<style scoped>\n",
       "    .dataframe tbody tr th:only-of-type {\n",
       "        vertical-align: middle;\n",
       "    }\n",
       "\n",
       "    .dataframe tbody tr th {\n",
       "        vertical-align: top;\n",
       "    }\n",
       "\n",
       "    .dataframe thead th {\n",
       "        text-align: right;\n",
       "    }\n",
       "</style>\n",
       "<table border=\"1\" class=\"dataframe\">\n",
       "  <thead>\n",
       "    <tr style=\"text-align: right;\">\n",
       "      <th></th>\n",
       "      <th>label</th>\n",
       "      <th>PageRank</th>\n",
       "      <th>EigenvectorCentrality</th>\n",
       "      <th>ClusteringCoefficient</th>\n",
       "      <th>ClosenessCentrality</th>\n",
       "      <th>CentralityDifference</th>\n",
       "      <th>MeanNumberOfConnections</th>\n",
       "      <th>0</th>\n",
       "      <th>1</th>\n",
       "      <th>2</th>\n",
       "      <th>3</th>\n",
       "      <th>4</th>\n",
       "      <th>5</th>\n",
       "      <th>6</th>\n",
       "      <th>7</th>\n",
       "      <th>8</th>\n",
       "      <th>9</th>\n",
       "    </tr>\n",
       "  </thead>\n",
       "  <tbody>\n",
       "    <tr>\n",
       "      <th>0</th>\n",
       "      <td>MIS</td>\n",
       "      <td>0.003665</td>\n",
       "      <td>0.035426</td>\n",
       "      <td>0.471014</td>\n",
       "      <td>0.004689</td>\n",
       "      <td>0.039502</td>\n",
       "      <td>28.576923</td>\n",
       "      <td>0.647725</td>\n",
       "      <td>-0.549868</td>\n",
       "      <td>0.385330</td>\n",
       "      <td>0.784622</td>\n",
       "      <td>-0.510680</td>\n",
       "      <td>0.412637</td>\n",
       "      <td>1.246600</td>\n",
       "      <td>0.278664</td>\n",
       "      <td>0.173364</td>\n",
       "      <td>0.674813</td>\n",
       "    </tr>\n",
       "    <tr>\n",
       "      <th>1</th>\n",
       "      <td>unknown</td>\n",
       "      <td>0.003522</td>\n",
       "      <td>0.033586</td>\n",
       "      <td>0.383399</td>\n",
       "      <td>0.003313</td>\n",
       "      <td>0.038460</td>\n",
       "      <td>30.360000</td>\n",
       "      <td>0.662025</td>\n",
       "      <td>-0.499140</td>\n",
       "      <td>-0.221454</td>\n",
       "      <td>0.811862</td>\n",
       "      <td>-0.145577</td>\n",
       "      <td>0.134952</td>\n",
       "      <td>1.321101</td>\n",
       "      <td>0.295526</td>\n",
       "      <td>-0.603631</td>\n",
       "      <td>0.042976</td>\n",
       "    </tr>\n",
       "    <tr>\n",
       "      <th>2</th>\n",
       "      <td>CS</td>\n",
       "      <td>0.006285</td>\n",
       "      <td>0.030224</td>\n",
       "      <td>0.425320</td>\n",
       "      <td>0.024914</td>\n",
       "      <td>0.085050</td>\n",
       "      <td>22.150000</td>\n",
       "      <td>0.251722</td>\n",
       "      <td>0.626512</td>\n",
       "      <td>1.173644</td>\n",
       "      <td>-0.892865</td>\n",
       "      <td>0.547541</td>\n",
       "      <td>0.678001</td>\n",
       "      <td>0.872861</td>\n",
       "      <td>0.671017</td>\n",
       "      <td>-0.030255</td>\n",
       "      <td>-0.965849</td>\n",
       "    </tr>\n",
       "    <tr>\n",
       "      <th>3</th>\n",
       "      <td>unknown</td>\n",
       "      <td>0.004688</td>\n",
       "      <td>0.036006</td>\n",
       "      <td>0.539785</td>\n",
       "      <td>0.008720</td>\n",
       "      <td>0.059095</td>\n",
       "      <td>28.787879</td>\n",
       "      <td>0.397258</td>\n",
       "      <td>0.198447</td>\n",
       "      <td>0.564016</td>\n",
       "      <td>-0.820741</td>\n",
       "      <td>0.896780</td>\n",
       "      <td>0.645079</td>\n",
       "      <td>0.765785</td>\n",
       "      <td>0.655244</td>\n",
       "      <td>-0.017534</td>\n",
       "      <td>-0.817028</td>\n",
       "    </tr>\n",
       "    <tr>\n",
       "      <th>4</th>\n",
       "      <td>unknown</td>\n",
       "      <td>0.005945</td>\n",
       "      <td>0.037620</td>\n",
       "      <td>0.415655</td>\n",
       "      <td>0.019443</td>\n",
       "      <td>0.080535</td>\n",
       "      <td>24.682927</td>\n",
       "      <td>0.139427</td>\n",
       "      <td>0.095314</td>\n",
       "      <td>0.642274</td>\n",
       "      <td>-1.122423</td>\n",
       "      <td>0.763099</td>\n",
       "      <td>0.652181</td>\n",
       "      <td>0.699366</td>\n",
       "      <td>0.869595</td>\n",
       "      <td>-0.212661</td>\n",
       "      <td>-0.700698</td>\n",
       "    </tr>\n",
       "    <tr>\n",
       "      <th>...</th>\n",
       "      <td>...</td>\n",
       "      <td>...</td>\n",
       "      <td>...</td>\n",
       "      <td>...</td>\n",
       "      <td>...</td>\n",
       "      <td>...</td>\n",
       "      <td>...</td>\n",
       "      <td>...</td>\n",
       "      <td>...</td>\n",
       "      <td>...</td>\n",
       "      <td>...</td>\n",
       "      <td>...</td>\n",
       "      <td>...</td>\n",
       "      <td>...</td>\n",
       "      <td>...</td>\n",
       "      <td>...</td>\n",
       "      <td>...</td>\n",
       "    </tr>\n",
       "    <tr>\n",
       "      <th>993</th>\n",
       "      <td>unknown</td>\n",
       "      <td>0.000571</td>\n",
       "      <td>0.000772</td>\n",
       "      <td>0.000000</td>\n",
       "      <td>0.000000</td>\n",
       "      <td>0.002110</td>\n",
       "      <td>35.000000</td>\n",
       "      <td>0.884792</td>\n",
       "      <td>0.741019</td>\n",
       "      <td>0.624090</td>\n",
       "      <td>-0.335367</td>\n",
       "      <td>1.199799</td>\n",
       "      <td>1.307382</td>\n",
       "      <td>1.352786</td>\n",
       "      <td>1.002881</td>\n",
       "      <td>0.681224</td>\n",
       "      <td>-0.858588</td>\n",
       "    </tr>\n",
       "    <tr>\n",
       "      <th>996</th>\n",
       "      <td>DA</td>\n",
       "      <td>0.000542</td>\n",
       "      <td>0.004093</td>\n",
       "      <td>0.000000</td>\n",
       "      <td>0.000000</td>\n",
       "      <td>-0.001211</td>\n",
       "      <td>43.000000</td>\n",
       "      <td>-0.605359</td>\n",
       "      <td>-1.687343</td>\n",
       "      <td>1.514147</td>\n",
       "      <td>0.187411</td>\n",
       "      <td>-0.192444</td>\n",
       "      <td>-0.815206</td>\n",
       "      <td>0.397458</td>\n",
       "      <td>0.487102</td>\n",
       "      <td>0.261975</td>\n",
       "      <td>-0.120134</td>\n",
       "    </tr>\n",
       "    <tr>\n",
       "      <th>998</th>\n",
       "      <td>DA</td>\n",
       "      <td>0.000564</td>\n",
       "      <td>0.002914</td>\n",
       "      <td>0.000000</td>\n",
       "      <td>0.000000</td>\n",
       "      <td>-0.000032</td>\n",
       "      <td>54.000000</td>\n",
       "      <td>0.293695</td>\n",
       "      <td>-0.278710</td>\n",
       "      <td>0.219303</td>\n",
       "      <td>0.079890</td>\n",
       "      <td>-0.083966</td>\n",
       "      <td>1.412703</td>\n",
       "      <td>-0.026269</td>\n",
       "      <td>0.601267</td>\n",
       "      <td>-1.258546</td>\n",
       "      <td>0.548539</td>\n",
       "    </tr>\n",
       "    <tr>\n",
       "      <th>1000</th>\n",
       "      <td>AI</td>\n",
       "      <td>0.000938</td>\n",
       "      <td>0.008943</td>\n",
       "      <td>1.000000</td>\n",
       "      <td>0.000000</td>\n",
       "      <td>0.002585</td>\n",
       "      <td>39.000000</td>\n",
       "      <td>0.712158</td>\n",
       "      <td>-0.900037</td>\n",
       "      <td>0.919124</td>\n",
       "      <td>0.519746</td>\n",
       "      <td>-0.528993</td>\n",
       "      <td>0.907252</td>\n",
       "      <td>-0.034376</td>\n",
       "      <td>-0.780953</td>\n",
       "      <td>-0.921017</td>\n",
       "      <td>-0.260301</td>\n",
       "    </tr>\n",
       "    <tr>\n",
       "      <th>1001</th>\n",
       "      <td>CS</td>\n",
       "      <td>0.001632</td>\n",
       "      <td>0.005701</td>\n",
       "      <td>0.888889</td>\n",
       "      <td>0.000009</td>\n",
       "      <td>0.020235</td>\n",
       "      <td>25.777778</td>\n",
       "      <td>0.112723</td>\n",
       "      <td>0.675802</td>\n",
       "      <td>0.864847</td>\n",
       "      <td>-1.351676</td>\n",
       "      <td>1.252275</td>\n",
       "      <td>1.060933</td>\n",
       "      <td>1.220581</td>\n",
       "      <td>0.902591</td>\n",
       "      <td>-0.900474</td>\n",
       "      <td>-0.474636</td>\n",
       "    </tr>\n",
       "  </tbody>\n",
       "</table>\n",
       "<p>348 rows × 17 columns</p>\n",
       "</div>"
      ],
      "text/plain": [
       "        label  PageRank  EigenvectorCentrality  ClusteringCoefficient  \\\n",
       "0         MIS  0.003665               0.035426               0.471014   \n",
       "1     unknown  0.003522               0.033586               0.383399   \n",
       "2          CS  0.006285               0.030224               0.425320   \n",
       "3     unknown  0.004688               0.036006               0.539785   \n",
       "4     unknown  0.005945               0.037620               0.415655   \n",
       "...       ...       ...                    ...                    ...   \n",
       "993   unknown  0.000571               0.000772               0.000000   \n",
       "996        DA  0.000542               0.004093               0.000000   \n",
       "998        DA  0.000564               0.002914               0.000000   \n",
       "1000       AI  0.000938               0.008943               1.000000   \n",
       "1001       CS  0.001632               0.005701               0.888889   \n",
       "\n",
       "      ClosenessCentrality  CentralityDifference  MeanNumberOfConnections  \\\n",
       "0                0.004689              0.039502                28.576923   \n",
       "1                0.003313              0.038460                30.360000   \n",
       "2                0.024914              0.085050                22.150000   \n",
       "3                0.008720              0.059095                28.787879   \n",
       "4                0.019443              0.080535                24.682927   \n",
       "...                   ...                   ...                      ...   \n",
       "993              0.000000              0.002110                35.000000   \n",
       "996              0.000000             -0.001211                43.000000   \n",
       "998              0.000000             -0.000032                54.000000   \n",
       "1000             0.000000              0.002585                39.000000   \n",
       "1001             0.000009              0.020235                25.777778   \n",
       "\n",
       "             0         1         2         3         4         5         6  \\\n",
       "0     0.647725 -0.549868  0.385330  0.784622 -0.510680  0.412637  1.246600   \n",
       "1     0.662025 -0.499140 -0.221454  0.811862 -0.145577  0.134952  1.321101   \n",
       "2     0.251722  0.626512  1.173644 -0.892865  0.547541  0.678001  0.872861   \n",
       "3     0.397258  0.198447  0.564016 -0.820741  0.896780  0.645079  0.765785   \n",
       "4     0.139427  0.095314  0.642274 -1.122423  0.763099  0.652181  0.699366   \n",
       "...        ...       ...       ...       ...       ...       ...       ...   \n",
       "993   0.884792  0.741019  0.624090 -0.335367  1.199799  1.307382  1.352786   \n",
       "996  -0.605359 -1.687343  1.514147  0.187411 -0.192444 -0.815206  0.397458   \n",
       "998   0.293695 -0.278710  0.219303  0.079890 -0.083966  1.412703 -0.026269   \n",
       "1000  0.712158 -0.900037  0.919124  0.519746 -0.528993  0.907252 -0.034376   \n",
       "1001  0.112723  0.675802  0.864847 -1.351676  1.252275  1.060933  1.220581   \n",
       "\n",
       "             7         8         9  \n",
       "0     0.278664  0.173364  0.674813  \n",
       "1     0.295526 -0.603631  0.042976  \n",
       "2     0.671017 -0.030255 -0.965849  \n",
       "3     0.655244 -0.017534 -0.817028  \n",
       "4     0.869595 -0.212661 -0.700698  \n",
       "...        ...       ...       ...  \n",
       "993   1.002881  0.681224 -0.858588  \n",
       "996   0.487102  0.261975 -0.120134  \n",
       "998   0.601267 -1.258546  0.548539  \n",
       "1000 -0.780953 -0.921017 -0.260301  \n",
       "1001  0.902591 -0.900474 -0.474636  \n",
       "\n",
       "[348 rows x 17 columns]"
      ]
     },
     "execution_count": 18,
     "metadata": {},
     "output_type": "execute_result"
    }
   ],
   "source": [
    "newDF = pd.merge(data, dfN2v, left_index=True, right_index=True)\n",
    "newDF"
   ]
  },
  {
   "cell_type": "markdown",
   "id": "a1b1d125",
   "metadata": {},
   "source": [
    "The code is running as intended. Now I will work on the RolX features."
   ]
  },
  {
   "cell_type": "code",
   "execution_count": 19,
   "id": "7180ca8e",
   "metadata": {},
   "outputs": [
    {
     "data": {
      "text/html": [
       "<div>\n",
       "<style scoped>\n",
       "    .dataframe tbody tr th:only-of-type {\n",
       "        vertical-align: middle;\n",
       "    }\n",
       "\n",
       "    .dataframe tbody tr th {\n",
       "        vertical-align: top;\n",
       "    }\n",
       "\n",
       "    .dataframe thead th {\n",
       "        text-align: right;\n",
       "    }\n",
       "</style>\n",
       "<table border=\"1\" class=\"dataframe\">\n",
       "  <thead>\n",
       "    <tr style=\"text-align: right;\">\n",
       "      <th></th>\n",
       "      <th>internal_edges(mean)(mean)(mean)(mean)</th>\n",
       "      <th>degree(mean)(mean)(mean)</th>\n",
       "      <th>degree(sum)(mean)(mean)</th>\n",
       "      <th>external_edges(mean)(mean)(mean)</th>\n",
       "      <th>internal_edges(mean)(mean)(mean)</th>\n",
       "      <th>degree(mean)(mean)</th>\n",
       "      <th>degree(sum)(mean)</th>\n",
       "      <th>external_edges(mean)(mean)</th>\n",
       "      <th>internal_edges(mean)(mean)</th>\n",
       "      <th>degree(mean)</th>\n",
       "      <th>degree(sum)</th>\n",
       "      <th>external_edges(mean)</th>\n",
       "      <th>internal_edges(mean)</th>\n",
       "      <th>degree</th>\n",
       "      <th>internal_edges</th>\n",
       "      <th>external_edges</th>\n",
       "    </tr>\n",
       "  </thead>\n",
       "  <tbody>\n",
       "    <tr>\n",
       "      <th>0</th>\n",
       "      <td>224.885818</td>\n",
       "      <td>30.846111</td>\n",
       "      <td>879.480479</td>\n",
       "      <td>467.453871</td>\n",
       "      <td>222.361762</td>\n",
       "      <td>30.083952</td>\n",
       "      <td>878.800000</td>\n",
       "      <td>456.392298</td>\n",
       "      <td>214.264513</td>\n",
       "      <td>30.760000</td>\n",
       "      <td>769.0</td>\n",
       "      <td>449.560000</td>\n",
       "      <td>218.520000</td>\n",
       "      <td>26</td>\n",
       "      <td>172</td>\n",
       "      <td>425</td>\n",
       "    </tr>\n",
       "    <tr>\n",
       "      <th>1</th>\n",
       "      <td>221.643083</td>\n",
       "      <td>31.185860</td>\n",
       "      <td>874.958362</td>\n",
       "      <td>474.638366</td>\n",
       "      <td>221.708824</td>\n",
       "      <td>29.697874</td>\n",
       "      <td>916.041667</td>\n",
       "      <td>465.519751</td>\n",
       "      <td>207.415492</td>\n",
       "      <td>32.666667</td>\n",
       "      <td>784.0</td>\n",
       "      <td>467.958333</td>\n",
       "      <td>226.625000</td>\n",
       "      <td>25</td>\n",
       "      <td>139</td>\n",
       "      <td>506</td>\n",
       "    </tr>\n",
       "    <tr>\n",
       "      <th>1000</th>\n",
       "      <td>239.776480</td>\n",
       "      <td>32.475009</td>\n",
       "      <td>984.502922</td>\n",
       "      <td>527.127401</td>\n",
       "      <td>240.226554</td>\n",
       "      <td>31.500212</td>\n",
       "      <td>1189.000000</td>\n",
       "      <td>521.823715</td>\n",
       "      <td>233.293288</td>\n",
       "      <td>39.000000</td>\n",
       "      <td>156.0</td>\n",
       "      <td>646.000000</td>\n",
       "      <td>271.500000</td>\n",
       "      <td>4</td>\n",
       "      <td>14</td>\n",
       "      <td>132</td>\n",
       "    </tr>\n",
       "    <tr>\n",
       "      <th>1001</th>\n",
       "      <td>236.686822</td>\n",
       "      <td>27.867582</td>\n",
       "      <td>727.170308</td>\n",
       "      <td>292.491488</td>\n",
       "      <td>235.956232</td>\n",
       "      <td>26.936064</td>\n",
       "      <td>664.444444</td>\n",
       "      <td>272.296788</td>\n",
       "      <td>228.236725</td>\n",
       "      <td>25.777778</td>\n",
       "      <td>232.0</td>\n",
       "      <td>230.333333</td>\n",
       "      <td>217.888889</td>\n",
       "      <td>9</td>\n",
       "      <td>49</td>\n",
       "      <td>143</td>\n",
       "    </tr>\n",
       "    <tr>\n",
       "      <th>11</th>\n",
       "      <td>285.565813</td>\n",
       "      <td>34.593683</td>\n",
       "      <td>1187.579611</td>\n",
       "      <td>565.500956</td>\n",
       "      <td>289.292080</td>\n",
       "      <td>35.866193</td>\n",
       "      <td>1141.566038</td>\n",
       "      <td>584.745401</td>\n",
       "      <td>304.177173</td>\n",
       "      <td>33.698113</td>\n",
       "      <td>1786.0</td>\n",
       "      <td>582.584906</td>\n",
       "      <td>282.113208</td>\n",
       "      <td>54</td>\n",
       "      <td>541</td>\n",
       "      <td>704</td>\n",
       "    </tr>\n",
       "    <tr>\n",
       "      <th>...</th>\n",
       "      <td>...</td>\n",
       "      <td>...</td>\n",
       "      <td>...</td>\n",
       "      <td>...</td>\n",
       "      <td>...</td>\n",
       "      <td>...</td>\n",
       "      <td>...</td>\n",
       "      <td>...</td>\n",
       "      <td>...</td>\n",
       "      <td>...</td>\n",
       "      <td>...</td>\n",
       "      <td>...</td>\n",
       "      <td>...</td>\n",
       "      <td>...</td>\n",
       "      <td>...</td>\n",
       "      <td>...</td>\n",
       "    </tr>\n",
       "    <tr>\n",
       "      <th>990</th>\n",
       "      <td>237.059083</td>\n",
       "      <td>28.382594</td>\n",
       "      <td>739.580545</td>\n",
       "      <td>310.444648</td>\n",
       "      <td>238.135189</td>\n",
       "      <td>26.999260</td>\n",
       "      <td>736.533333</td>\n",
       "      <td>287.120834</td>\n",
       "      <td>227.081645</td>\n",
       "      <td>28.200000</td>\n",
       "      <td>423.0</td>\n",
       "      <td>252.400000</td>\n",
       "      <td>243.000000</td>\n",
       "      <td>15</td>\n",
       "      <td>97</td>\n",
       "      <td>244</td>\n",
       "    </tr>\n",
       "    <tr>\n",
       "      <th>992</th>\n",
       "      <td>264.750370</td>\n",
       "      <td>35.374207</td>\n",
       "      <td>1103.206790</td>\n",
       "      <td>518.268973</td>\n",
       "      <td>285.948150</td>\n",
       "      <td>36.064815</td>\n",
       "      <td>1242.500000</td>\n",
       "      <td>496.836420</td>\n",
       "      <td>304.089506</td>\n",
       "      <td>42.500000</td>\n",
       "      <td>85.0</td>\n",
       "      <td>455.500000</td>\n",
       "      <td>393.500000</td>\n",
       "      <td>3</td>\n",
       "      <td>3</td>\n",
       "      <td>79</td>\n",
       "    </tr>\n",
       "    <tr>\n",
       "      <th>993</th>\n",
       "      <td>231.002089</td>\n",
       "      <td>28.541203</td>\n",
       "      <td>682.441176</td>\n",
       "      <td>291.990012</td>\n",
       "      <td>242.015789</td>\n",
       "      <td>24.911765</td>\n",
       "      <td>847.000000</td>\n",
       "      <td>271.411765</td>\n",
       "      <td>206.382353</td>\n",
       "      <td>35.000000</td>\n",
       "      <td>35.0</td>\n",
       "      <td>227.000000</td>\n",
       "      <td>310.000000</td>\n",
       "      <td>1</td>\n",
       "      <td>2</td>\n",
       "      <td>32</td>\n",
       "    </tr>\n",
       "    <tr>\n",
       "      <th>996</th>\n",
       "      <td>290.290623</td>\n",
       "      <td>35.307140</td>\n",
       "      <td>1201.571429</td>\n",
       "      <td>583.098739</td>\n",
       "      <td>298.940756</td>\n",
       "      <td>35.666667</td>\n",
       "      <td>1498.000000</td>\n",
       "      <td>603.285714</td>\n",
       "      <td>301.595238</td>\n",
       "      <td>43.000000</td>\n",
       "      <td>43.0</td>\n",
       "      <td>704.000000</td>\n",
       "      <td>397.000000</td>\n",
       "      <td>1</td>\n",
       "      <td>2</td>\n",
       "      <td>40</td>\n",
       "    </tr>\n",
       "    <tr>\n",
       "      <th>998</th>\n",
       "      <td>242.303913</td>\n",
       "      <td>34.384208</td>\n",
       "      <td>903.075472</td>\n",
       "      <td>542.144542</td>\n",
       "      <td>256.074539</td>\n",
       "      <td>28.339623</td>\n",
       "      <td>1502.000000</td>\n",
       "      <td>490.641509</td>\n",
       "      <td>208.037736</td>\n",
       "      <td>54.000000</td>\n",
       "      <td>54.0</td>\n",
       "      <td>738.000000</td>\n",
       "      <td>382.000000</td>\n",
       "      <td>1</td>\n",
       "      <td>2</td>\n",
       "      <td>51</td>\n",
       "    </tr>\n",
       "  </tbody>\n",
       "</table>\n",
       "<p>348 rows × 16 columns</p>\n",
       "</div>"
      ],
      "text/plain": [
       "      internal_edges(mean)(mean)(mean)(mean)  degree(mean)(mean)(mean)  \\\n",
       "0                                 224.885818                 30.846111   \n",
       "1                                 221.643083                 31.185860   \n",
       "1000                              239.776480                 32.475009   \n",
       "1001                              236.686822                 27.867582   \n",
       "11                                285.565813                 34.593683   \n",
       "...                                      ...                       ...   \n",
       "990                               237.059083                 28.382594   \n",
       "992                               264.750370                 35.374207   \n",
       "993                               231.002089                 28.541203   \n",
       "996                               290.290623                 35.307140   \n",
       "998                               242.303913                 34.384208   \n",
       "\n",
       "      degree(sum)(mean)(mean)  external_edges(mean)(mean)(mean)  \\\n",
       "0                  879.480479                        467.453871   \n",
       "1                  874.958362                        474.638366   \n",
       "1000               984.502922                        527.127401   \n",
       "1001               727.170308                        292.491488   \n",
       "11                1187.579611                        565.500956   \n",
       "...                       ...                               ...   \n",
       "990                739.580545                        310.444648   \n",
       "992               1103.206790                        518.268973   \n",
       "993                682.441176                        291.990012   \n",
       "996               1201.571429                        583.098739   \n",
       "998                903.075472                        542.144542   \n",
       "\n",
       "      internal_edges(mean)(mean)(mean)  degree(mean)(mean)  degree(sum)(mean)  \\\n",
       "0                           222.361762           30.083952         878.800000   \n",
       "1                           221.708824           29.697874         916.041667   \n",
       "1000                        240.226554           31.500212        1189.000000   \n",
       "1001                        235.956232           26.936064         664.444444   \n",
       "11                          289.292080           35.866193        1141.566038   \n",
       "...                                ...                 ...                ...   \n",
       "990                         238.135189           26.999260         736.533333   \n",
       "992                         285.948150           36.064815        1242.500000   \n",
       "993                         242.015789           24.911765         847.000000   \n",
       "996                         298.940756           35.666667        1498.000000   \n",
       "998                         256.074539           28.339623        1502.000000   \n",
       "\n",
       "      external_edges(mean)(mean)  internal_edges(mean)(mean)  degree(mean)  \\\n",
       "0                     456.392298                  214.264513     30.760000   \n",
       "1                     465.519751                  207.415492     32.666667   \n",
       "1000                  521.823715                  233.293288     39.000000   \n",
       "1001                  272.296788                  228.236725     25.777778   \n",
       "11                    584.745401                  304.177173     33.698113   \n",
       "...                          ...                         ...           ...   \n",
       "990                   287.120834                  227.081645     28.200000   \n",
       "992                   496.836420                  304.089506     42.500000   \n",
       "993                   271.411765                  206.382353     35.000000   \n",
       "996                   603.285714                  301.595238     43.000000   \n",
       "998                   490.641509                  208.037736     54.000000   \n",
       "\n",
       "      degree(sum)  external_edges(mean)  internal_edges(mean)  degree  \\\n",
       "0           769.0            449.560000            218.520000      26   \n",
       "1           784.0            467.958333            226.625000      25   \n",
       "1000        156.0            646.000000            271.500000       4   \n",
       "1001        232.0            230.333333            217.888889       9   \n",
       "11         1786.0            582.584906            282.113208      54   \n",
       "...           ...                   ...                   ...     ...   \n",
       "990         423.0            252.400000            243.000000      15   \n",
       "992          85.0            455.500000            393.500000       3   \n",
       "993          35.0            227.000000            310.000000       1   \n",
       "996          43.0            704.000000            397.000000       1   \n",
       "998          54.0            738.000000            382.000000       1   \n",
       "\n",
       "      internal_edges  external_edges  \n",
       "0                172             425  \n",
       "1                139             506  \n",
       "1000              14             132  \n",
       "1001              49             143  \n",
       "11               541             704  \n",
       "...              ...             ...  \n",
       "990               97             244  \n",
       "992                3              79  \n",
       "993                2              32  \n",
       "996                2              40  \n",
       "998                2              51  \n",
       "\n",
       "[348 rows x 16 columns]"
      ]
     },
     "execution_count": 19,
     "metadata": {},
     "output_type": "execute_result"
    }
   ],
   "source": [
    "from graphrole import RecursiveFeatureExtractor\n",
    "\n",
    "feat_ext = RecursiveFeatureExtractor(myEdgeList, max_generations=5)\n",
    "rolx_feats = feat_ext.extract_features()\n",
    "rolx_feats.index = pd.to_numeric(rolx_feats.index)\n",
    "rolx_feats"
   ]
  },
  {
   "cell_type": "code",
   "execution_count": 20,
   "id": "179392b3",
   "metadata": {},
   "outputs": [
    {
     "data": {
      "text/plain": [
       "Int64Index([   0,    1, 1000, 1001,   11,   12,  120,  129,  133,  137,\n",
       "            ...\n",
       "             967,  968,  969,  972,  982,  990,  992,  993,  996,  998],\n",
       "           dtype='int64', length=348)"
      ]
     },
     "execution_count": 20,
     "metadata": {},
     "output_type": "execute_result"
    }
   ],
   "source": [
    "rolx_feats.index"
   ]
  },
  {
   "cell_type": "code",
   "execution_count": 21,
   "id": "9794148e",
   "metadata": {},
   "outputs": [
    {
     "data": {
      "text/html": [
       "<div>\n",
       "<style scoped>\n",
       "    .dataframe tbody tr th:only-of-type {\n",
       "        vertical-align: middle;\n",
       "    }\n",
       "\n",
       "    .dataframe tbody tr th {\n",
       "        vertical-align: top;\n",
       "    }\n",
       "\n",
       "    .dataframe thead th {\n",
       "        text-align: right;\n",
       "    }\n",
       "</style>\n",
       "<table border=\"1\" class=\"dataframe\">\n",
       "  <thead>\n",
       "    <tr style=\"text-align: right;\">\n",
       "      <th></th>\n",
       "      <th>label</th>\n",
       "      <th>PageRank</th>\n",
       "      <th>EigenvectorCentrality</th>\n",
       "      <th>ClusteringCoefficient</th>\n",
       "      <th>ClosenessCentrality</th>\n",
       "      <th>CentralityDifference</th>\n",
       "      <th>MeanNumberOfConnections</th>\n",
       "      <th>0</th>\n",
       "      <th>1</th>\n",
       "      <th>2</th>\n",
       "      <th>...</th>\n",
       "      <th>degree(sum)(mean)</th>\n",
       "      <th>external_edges(mean)(mean)</th>\n",
       "      <th>internal_edges(mean)(mean)</th>\n",
       "      <th>degree(mean)</th>\n",
       "      <th>degree(sum)</th>\n",
       "      <th>external_edges(mean)</th>\n",
       "      <th>internal_edges(mean)</th>\n",
       "      <th>degree</th>\n",
       "      <th>internal_edges</th>\n",
       "      <th>external_edges</th>\n",
       "    </tr>\n",
       "  </thead>\n",
       "  <tbody>\n",
       "    <tr>\n",
       "      <th>0</th>\n",
       "      <td>MIS</td>\n",
       "      <td>0.003665</td>\n",
       "      <td>0.035426</td>\n",
       "      <td>0.471014</td>\n",
       "      <td>0.004689</td>\n",
       "      <td>0.039502</td>\n",
       "      <td>28.576923</td>\n",
       "      <td>0.647725</td>\n",
       "      <td>-0.549868</td>\n",
       "      <td>0.385330</td>\n",
       "      <td>...</td>\n",
       "      <td>878.800000</td>\n",
       "      <td>456.392298</td>\n",
       "      <td>214.264513</td>\n",
       "      <td>30.760000</td>\n",
       "      <td>769.0</td>\n",
       "      <td>449.560000</td>\n",
       "      <td>218.520000</td>\n",
       "      <td>26</td>\n",
       "      <td>172</td>\n",
       "      <td>425</td>\n",
       "    </tr>\n",
       "    <tr>\n",
       "      <th>1</th>\n",
       "      <td>unknown</td>\n",
       "      <td>0.003522</td>\n",
       "      <td>0.033586</td>\n",
       "      <td>0.383399</td>\n",
       "      <td>0.003313</td>\n",
       "      <td>0.038460</td>\n",
       "      <td>30.360000</td>\n",
       "      <td>0.662025</td>\n",
       "      <td>-0.499140</td>\n",
       "      <td>-0.221454</td>\n",
       "      <td>...</td>\n",
       "      <td>916.041667</td>\n",
       "      <td>465.519751</td>\n",
       "      <td>207.415492</td>\n",
       "      <td>32.666667</td>\n",
       "      <td>784.0</td>\n",
       "      <td>467.958333</td>\n",
       "      <td>226.625000</td>\n",
       "      <td>25</td>\n",
       "      <td>139</td>\n",
       "      <td>506</td>\n",
       "    </tr>\n",
       "    <tr>\n",
       "      <th>2</th>\n",
       "      <td>CS</td>\n",
       "      <td>0.006285</td>\n",
       "      <td>0.030224</td>\n",
       "      <td>0.425320</td>\n",
       "      <td>0.024914</td>\n",
       "      <td>0.085050</td>\n",
       "      <td>22.150000</td>\n",
       "      <td>0.251722</td>\n",
       "      <td>0.626512</td>\n",
       "      <td>1.173644</td>\n",
       "      <td>...</td>\n",
       "      <td>660.923077</td>\n",
       "      <td>297.715989</td>\n",
       "      <td>246.274005</td>\n",
       "      <td>23.743590</td>\n",
       "      <td>926.0</td>\n",
       "      <td>273.769231</td>\n",
       "      <td>194.487179</td>\n",
       "      <td>40</td>\n",
       "      <td>369</td>\n",
       "      <td>188</td>\n",
       "    </tr>\n",
       "    <tr>\n",
       "      <th>3</th>\n",
       "      <td>unknown</td>\n",
       "      <td>0.004688</td>\n",
       "      <td>0.036006</td>\n",
       "      <td>0.539785</td>\n",
       "      <td>0.008720</td>\n",
       "      <td>0.059095</td>\n",
       "      <td>28.787879</td>\n",
       "      <td>0.397258</td>\n",
       "      <td>0.198447</td>\n",
       "      <td>0.564016</td>\n",
       "      <td>...</td>\n",
       "      <td>884.406250</td>\n",
       "      <td>331.350721</td>\n",
       "      <td>243.846323</td>\n",
       "      <td>30.718750</td>\n",
       "      <td>983.0</td>\n",
       "      <td>377.593750</td>\n",
       "      <td>254.218750</td>\n",
       "      <td>33</td>\n",
       "      <td>310</td>\n",
       "      <td>363</td>\n",
       "    </tr>\n",
       "    <tr>\n",
       "      <th>4</th>\n",
       "      <td>unknown</td>\n",
       "      <td>0.005945</td>\n",
       "      <td>0.037620</td>\n",
       "      <td>0.415655</td>\n",
       "      <td>0.019443</td>\n",
       "      <td>0.080535</td>\n",
       "      <td>24.682927</td>\n",
       "      <td>0.139427</td>\n",
       "      <td>0.095314</td>\n",
       "      <td>0.642274</td>\n",
       "      <td>...</td>\n",
       "      <td>747.950000</td>\n",
       "      <td>326.372158</td>\n",
       "      <td>249.076085</td>\n",
       "      <td>26.325000</td>\n",
       "      <td>1053.0</td>\n",
       "      <td>325.250000</td>\n",
       "      <td>212.275000</td>\n",
       "      <td>41</td>\n",
       "      <td>380</td>\n",
       "      <td>293</td>\n",
       "    </tr>\n",
       "    <tr>\n",
       "      <th>...</th>\n",
       "      <td>...</td>\n",
       "      <td>...</td>\n",
       "      <td>...</td>\n",
       "      <td>...</td>\n",
       "      <td>...</td>\n",
       "      <td>...</td>\n",
       "      <td>...</td>\n",
       "      <td>...</td>\n",
       "      <td>...</td>\n",
       "      <td>...</td>\n",
       "      <td>...</td>\n",
       "      <td>...</td>\n",
       "      <td>...</td>\n",
       "      <td>...</td>\n",
       "      <td>...</td>\n",
       "      <td>...</td>\n",
       "      <td>...</td>\n",
       "      <td>...</td>\n",
       "      <td>...</td>\n",
       "      <td>...</td>\n",
       "      <td>...</td>\n",
       "    </tr>\n",
       "    <tr>\n",
       "      <th>993</th>\n",
       "      <td>unknown</td>\n",
       "      <td>0.000571</td>\n",
       "      <td>0.000772</td>\n",
       "      <td>0.000000</td>\n",
       "      <td>0.000000</td>\n",
       "      <td>0.002110</td>\n",
       "      <td>35.000000</td>\n",
       "      <td>0.884792</td>\n",
       "      <td>0.741019</td>\n",
       "      <td>0.624090</td>\n",
       "      <td>...</td>\n",
       "      <td>847.000000</td>\n",
       "      <td>271.411765</td>\n",
       "      <td>206.382353</td>\n",
       "      <td>35.000000</td>\n",
       "      <td>35.0</td>\n",
       "      <td>227.000000</td>\n",
       "      <td>310.000000</td>\n",
       "      <td>1</td>\n",
       "      <td>2</td>\n",
       "      <td>32</td>\n",
       "    </tr>\n",
       "    <tr>\n",
       "      <th>996</th>\n",
       "      <td>DA</td>\n",
       "      <td>0.000542</td>\n",
       "      <td>0.004093</td>\n",
       "      <td>0.000000</td>\n",
       "      <td>0.000000</td>\n",
       "      <td>-0.001211</td>\n",
       "      <td>43.000000</td>\n",
       "      <td>-0.605359</td>\n",
       "      <td>-1.687343</td>\n",
       "      <td>1.514147</td>\n",
       "      <td>...</td>\n",
       "      <td>1498.000000</td>\n",
       "      <td>603.285714</td>\n",
       "      <td>301.595238</td>\n",
       "      <td>43.000000</td>\n",
       "      <td>43.0</td>\n",
       "      <td>704.000000</td>\n",
       "      <td>397.000000</td>\n",
       "      <td>1</td>\n",
       "      <td>2</td>\n",
       "      <td>40</td>\n",
       "    </tr>\n",
       "    <tr>\n",
       "      <th>998</th>\n",
       "      <td>DA</td>\n",
       "      <td>0.000564</td>\n",
       "      <td>0.002914</td>\n",
       "      <td>0.000000</td>\n",
       "      <td>0.000000</td>\n",
       "      <td>-0.000032</td>\n",
       "      <td>54.000000</td>\n",
       "      <td>0.293695</td>\n",
       "      <td>-0.278710</td>\n",
       "      <td>0.219303</td>\n",
       "      <td>...</td>\n",
       "      <td>1502.000000</td>\n",
       "      <td>490.641509</td>\n",
       "      <td>208.037736</td>\n",
       "      <td>54.000000</td>\n",
       "      <td>54.0</td>\n",
       "      <td>738.000000</td>\n",
       "      <td>382.000000</td>\n",
       "      <td>1</td>\n",
       "      <td>2</td>\n",
       "      <td>51</td>\n",
       "    </tr>\n",
       "    <tr>\n",
       "      <th>1000</th>\n",
       "      <td>AI</td>\n",
       "      <td>0.000938</td>\n",
       "      <td>0.008943</td>\n",
       "      <td>1.000000</td>\n",
       "      <td>0.000000</td>\n",
       "      <td>0.002585</td>\n",
       "      <td>39.000000</td>\n",
       "      <td>0.712158</td>\n",
       "      <td>-0.900037</td>\n",
       "      <td>0.919124</td>\n",
       "      <td>...</td>\n",
       "      <td>1189.000000</td>\n",
       "      <td>521.823715</td>\n",
       "      <td>233.293288</td>\n",
       "      <td>39.000000</td>\n",
       "      <td>156.0</td>\n",
       "      <td>646.000000</td>\n",
       "      <td>271.500000</td>\n",
       "      <td>4</td>\n",
       "      <td>14</td>\n",
       "      <td>132</td>\n",
       "    </tr>\n",
       "    <tr>\n",
       "      <th>1001</th>\n",
       "      <td>CS</td>\n",
       "      <td>0.001632</td>\n",
       "      <td>0.005701</td>\n",
       "      <td>0.888889</td>\n",
       "      <td>0.000009</td>\n",
       "      <td>0.020235</td>\n",
       "      <td>25.777778</td>\n",
       "      <td>0.112723</td>\n",
       "      <td>0.675802</td>\n",
       "      <td>0.864847</td>\n",
       "      <td>...</td>\n",
       "      <td>664.444444</td>\n",
       "      <td>272.296788</td>\n",
       "      <td>228.236725</td>\n",
       "      <td>25.777778</td>\n",
       "      <td>232.0</td>\n",
       "      <td>230.333333</td>\n",
       "      <td>217.888889</td>\n",
       "      <td>9</td>\n",
       "      <td>49</td>\n",
       "      <td>143</td>\n",
       "    </tr>\n",
       "  </tbody>\n",
       "</table>\n",
       "<p>348 rows × 33 columns</p>\n",
       "</div>"
      ],
      "text/plain": [
       "        label  PageRank  EigenvectorCentrality  ClusteringCoefficient  \\\n",
       "0         MIS  0.003665               0.035426               0.471014   \n",
       "1     unknown  0.003522               0.033586               0.383399   \n",
       "2          CS  0.006285               0.030224               0.425320   \n",
       "3     unknown  0.004688               0.036006               0.539785   \n",
       "4     unknown  0.005945               0.037620               0.415655   \n",
       "...       ...       ...                    ...                    ...   \n",
       "993   unknown  0.000571               0.000772               0.000000   \n",
       "996        DA  0.000542               0.004093               0.000000   \n",
       "998        DA  0.000564               0.002914               0.000000   \n",
       "1000       AI  0.000938               0.008943               1.000000   \n",
       "1001       CS  0.001632               0.005701               0.888889   \n",
       "\n",
       "      ClosenessCentrality  CentralityDifference  MeanNumberOfConnections  \\\n",
       "0                0.004689              0.039502                28.576923   \n",
       "1                0.003313              0.038460                30.360000   \n",
       "2                0.024914              0.085050                22.150000   \n",
       "3                0.008720              0.059095                28.787879   \n",
       "4                0.019443              0.080535                24.682927   \n",
       "...                   ...                   ...                      ...   \n",
       "993              0.000000              0.002110                35.000000   \n",
       "996              0.000000             -0.001211                43.000000   \n",
       "998              0.000000             -0.000032                54.000000   \n",
       "1000             0.000000              0.002585                39.000000   \n",
       "1001             0.000009              0.020235                25.777778   \n",
       "\n",
       "             0         1         2  ...  degree(sum)(mean)  \\\n",
       "0     0.647725 -0.549868  0.385330  ...         878.800000   \n",
       "1     0.662025 -0.499140 -0.221454  ...         916.041667   \n",
       "2     0.251722  0.626512  1.173644  ...         660.923077   \n",
       "3     0.397258  0.198447  0.564016  ...         884.406250   \n",
       "4     0.139427  0.095314  0.642274  ...         747.950000   \n",
       "...        ...       ...       ...  ...                ...   \n",
       "993   0.884792  0.741019  0.624090  ...         847.000000   \n",
       "996  -0.605359 -1.687343  1.514147  ...        1498.000000   \n",
       "998   0.293695 -0.278710  0.219303  ...        1502.000000   \n",
       "1000  0.712158 -0.900037  0.919124  ...        1189.000000   \n",
       "1001  0.112723  0.675802  0.864847  ...         664.444444   \n",
       "\n",
       "      external_edges(mean)(mean)  internal_edges(mean)(mean)  degree(mean)  \\\n",
       "0                     456.392298                  214.264513     30.760000   \n",
       "1                     465.519751                  207.415492     32.666667   \n",
       "2                     297.715989                  246.274005     23.743590   \n",
       "3                     331.350721                  243.846323     30.718750   \n",
       "4                     326.372158                  249.076085     26.325000   \n",
       "...                          ...                         ...           ...   \n",
       "993                   271.411765                  206.382353     35.000000   \n",
       "996                   603.285714                  301.595238     43.000000   \n",
       "998                   490.641509                  208.037736     54.000000   \n",
       "1000                  521.823715                  233.293288     39.000000   \n",
       "1001                  272.296788                  228.236725     25.777778   \n",
       "\n",
       "      degree(sum)  external_edges(mean)  internal_edges(mean)  degree  \\\n",
       "0           769.0            449.560000            218.520000      26   \n",
       "1           784.0            467.958333            226.625000      25   \n",
       "2           926.0            273.769231            194.487179      40   \n",
       "3           983.0            377.593750            254.218750      33   \n",
       "4          1053.0            325.250000            212.275000      41   \n",
       "...           ...                   ...                   ...     ...   \n",
       "993          35.0            227.000000            310.000000       1   \n",
       "996          43.0            704.000000            397.000000       1   \n",
       "998          54.0            738.000000            382.000000       1   \n",
       "1000        156.0            646.000000            271.500000       4   \n",
       "1001        232.0            230.333333            217.888889       9   \n",
       "\n",
       "      internal_edges  external_edges  \n",
       "0                172             425  \n",
       "1                139             506  \n",
       "2                369             188  \n",
       "3                310             363  \n",
       "4                380             293  \n",
       "...              ...             ...  \n",
       "993                2              32  \n",
       "996                2              40  \n",
       "998                2              51  \n",
       "1000              14             132  \n",
       "1001              49             143  \n",
       "\n",
       "[348 rows x 33 columns]"
      ]
     },
     "execution_count": 21,
     "metadata": {},
     "output_type": "execute_result"
    }
   ],
   "source": [
    "merged_df = newDF.merge(rolx_feats, left_index=True, right_index=True)\n",
    "merged_df"
   ]
  },
  {
   "cell_type": "markdown",
   "id": "39eedf39",
   "metadata": {},
   "source": [
    "Union works as intended too. Let's prepare the data for hyperparameter tuning."
   ]
  },
  {
   "cell_type": "code",
   "execution_count": 22,
   "id": "72ac336a",
   "metadata": {},
   "outputs": [],
   "source": [
    "merged_df.columns = [\"Col_\"+str(i) for i in range(merged_df.shape[1])]"
   ]
  },
  {
   "cell_type": "code",
   "execution_count": 23,
   "id": "7a8a62a5",
   "metadata": {},
   "outputs": [],
   "source": [
    "from sklearn import model_selection as mod\n",
    "from sklearn import ensemble as ens"
   ]
  },
  {
   "cell_type": "code",
   "execution_count": 24,
   "id": "aee13937",
   "metadata": {},
   "outputs": [
    {
     "data": {
      "text/plain": [
       "array([4, 1, 2, 2, 2, 2, 0, 4, 4, 2, 2, 2, 0, 1, 1, 1, 1, 1, 0, 3, 3, 3,\n",
       "       4, 4, 3, 4, 3, 0, 0, 4, 0, 0, 1, 1, 2, 3, 2, 0, 0, 0, 4, 0, 3, 3,\n",
       "       3, 3, 3, 1, 1, 1, 1, 0, 0, 0, 0, 0, 0, 0, 0, 0, 2, 4, 4, 4, 4, 4,\n",
       "       4, 4, 4, 4, 4, 4, 0, 2, 4, 2, 0, 2, 2, 2, 2, 0, 0, 0, 1, 1, 3, 0,\n",
       "       0, 0, 4, 3, 3, 1, 4, 4, 4, 4, 4, 4, 4, 4, 4, 4, 2, 2, 4, 2, 2, 2,\n",
       "       2, 2, 0, 0, 0, 2, 2, 1, 1, 0, 4, 4, 3, 0, 2, 0, 0, 2, 0, 2, 4, 0,\n",
       "       2, 2, 0, 0, 4, 0, 2, 3, 4, 3, 3, 3, 4, 3, 0, 2, 2, 0, 2, 2, 2, 2,\n",
       "       2, 2, 2, 2, 2, 3, 3, 2, 0, 4, 4, 1, 0, 2, 0, 2, 2, 1, 0, 3, 3, 0,\n",
       "       0, 3, 3, 2, 0, 2, 0, 0, 2, 2, 0, 0, 2, 1, 0, 2, 0, 0, 3, 0, 0, 1,\n",
       "       1, 0, 2, 4, 4, 2, 0, 0, 0, 1, 3, 4, 1, 1, 4, 2, 4, 0, 2, 3, 0, 2,\n",
       "       2, 3, 1, 0, 0, 3, 0, 4, 4, 2, 0, 0, 2, 3, 0, 3, 1, 2, 0, 2, 4, 2,\n",
       "       3, 0, 2, 1, 4, 2, 3, 3, 0, 0, 0, 4, 3, 0, 1, 2, 2, 0, 1, 0, 3, 0,\n",
       "       2, 1, 2, 0, 2, 1, 2, 0, 0, 0, 0, 1, 4, 1, 4, 3, 2, 1, 1, 4, 0, 3,\n",
       "       1, 1, 1, 1, 4, 0, 0, 3, 2, 2, 4, 1, 2, 0, 0, 0, 2, 3, 2, 2, 3, 2,\n",
       "       3, 3, 3, 1, 1, 0, 2, 2, 0, 1])"
      ]
     },
     "execution_count": 24,
     "metadata": {},
     "output_type": "execute_result"
    }
   ],
   "source": [
    "merged_df.columns = [\"Col_\"+str(i) for i in range(merged_df.shape[1])]\n",
    "\n",
    "dataLabeled = merged_df[merged_df.Col_0 != \"unknown\"]\n",
    "dataUnlabeled = merged_df[merged_df.Col_0 == \"unknown\"].drop(\"Col_0\", axis = 1)\n",
    "\n",
    "le = pre.LabelEncoder()\n",
    "\n",
    "X = dataLabeled.drop(\"Col_0\", axis = 1)\n",
    "y = dataLabeled.Col_0\n",
    "\n",
    "y_labeled = le.fit_transform(y)\n",
    "y_labeled"
   ]
  },
  {
   "cell_type": "markdown",
   "id": "657b4b25",
   "metadata": {},
   "source": [
    "There are only 348 rows. I will user 33% of the data as test set to prevent overfitting."
   ]
  },
  {
   "cell_type": "code",
   "execution_count": 25,
   "id": "ced425dc",
   "metadata": {},
   "outputs": [],
   "source": [
    "X_train, X_test, y_train, y_test = mod.train_test_split(X, y_labeled, test_size=0.33, random_state=42)"
   ]
  },
  {
   "cell_type": "code",
   "execution_count": 70,
   "id": "f790957e",
   "metadata": {},
   "outputs": [
    {
     "data": {
      "text/plain": [
       "(318, 42)"
      ]
     },
     "execution_count": 70,
     "metadata": {},
     "output_type": "execute_result"
    }
   ],
   "source": [
    "X.shape"
   ]
  },
  {
   "cell_type": "markdown",
   "id": "776527d0",
   "metadata": {},
   "source": [
    "Let's create the final pipeline and find the best parameters for a RandomForest model.\n",
    "\n",
    "In the following part, I will create different dataframes in a loop and merge them to see if the performance of the model changes with different versions of the Node2Vec features. There might be columns containing similar information. Since I wouldn't be able to check for the correlaton of the columns in each iteration, I will drop columns that are highly correlated using feature engine."
   ]
  },
  {
   "cell_type": "code",
   "execution_count": 71,
   "id": "a6b1db16",
   "metadata": {},
   "outputs": [],
   "source": [
    "from feature_engine import selection as sel"
   ]
  },
  {
   "cell_type": "code",
   "execution_count": 26,
   "id": "8639003c",
   "metadata": {
    "scrolled": false
   },
   "outputs": [
    {
     "data": {
      "text/html": [
       "<style>#sk-container-id-1 {color: black;background-color: white;}#sk-container-id-1 pre{padding: 0;}#sk-container-id-1 div.sk-toggleable {background-color: white;}#sk-container-id-1 label.sk-toggleable__label {cursor: pointer;display: block;width: 100%;margin-bottom: 0;padding: 0.3em;box-sizing: border-box;text-align: center;}#sk-container-id-1 label.sk-toggleable__label-arrow:before {content: \"▸\";float: left;margin-right: 0.25em;color: #696969;}#sk-container-id-1 label.sk-toggleable__label-arrow:hover:before {color: black;}#sk-container-id-1 div.sk-estimator:hover label.sk-toggleable__label-arrow:before {color: black;}#sk-container-id-1 div.sk-toggleable__content {max-height: 0;max-width: 0;overflow: hidden;text-align: left;background-color: #f0f8ff;}#sk-container-id-1 div.sk-toggleable__content pre {margin: 0.2em;color: black;border-radius: 0.25em;background-color: #f0f8ff;}#sk-container-id-1 input.sk-toggleable__control:checked~div.sk-toggleable__content {max-height: 200px;max-width: 100%;overflow: auto;}#sk-container-id-1 input.sk-toggleable__control:checked~label.sk-toggleable__label-arrow:before {content: \"▾\";}#sk-container-id-1 div.sk-estimator input.sk-toggleable__control:checked~label.sk-toggleable__label {background-color: #d4ebff;}#sk-container-id-1 div.sk-label input.sk-toggleable__control:checked~label.sk-toggleable__label {background-color: #d4ebff;}#sk-container-id-1 input.sk-hidden--visually {border: 0;clip: rect(1px 1px 1px 1px);clip: rect(1px, 1px, 1px, 1px);height: 1px;margin: -1px;overflow: hidden;padding: 0;position: absolute;width: 1px;}#sk-container-id-1 div.sk-estimator {font-family: monospace;background-color: #f0f8ff;border: 1px dotted black;border-radius: 0.25em;box-sizing: border-box;margin-bottom: 0.5em;}#sk-container-id-1 div.sk-estimator:hover {background-color: #d4ebff;}#sk-container-id-1 div.sk-parallel-item::after {content: \"\";width: 100%;border-bottom: 1px solid gray;flex-grow: 1;}#sk-container-id-1 div.sk-label:hover label.sk-toggleable__label {background-color: #d4ebff;}#sk-container-id-1 div.sk-serial::before {content: \"\";position: absolute;border-left: 1px solid gray;box-sizing: border-box;top: 0;bottom: 0;left: 50%;z-index: 0;}#sk-container-id-1 div.sk-serial {display: flex;flex-direction: column;align-items: center;background-color: white;padding-right: 0.2em;padding-left: 0.2em;position: relative;}#sk-container-id-1 div.sk-item {position: relative;z-index: 1;}#sk-container-id-1 div.sk-parallel {display: flex;align-items: stretch;justify-content: center;background-color: white;position: relative;}#sk-container-id-1 div.sk-item::before, #sk-container-id-1 div.sk-parallel-item::before {content: \"\";position: absolute;border-left: 1px solid gray;box-sizing: border-box;top: 0;bottom: 0;left: 50%;z-index: -1;}#sk-container-id-1 div.sk-parallel-item {display: flex;flex-direction: column;z-index: 1;position: relative;background-color: white;}#sk-container-id-1 div.sk-parallel-item:first-child::after {align-self: flex-end;width: 50%;}#sk-container-id-1 div.sk-parallel-item:last-child::after {align-self: flex-start;width: 50%;}#sk-container-id-1 div.sk-parallel-item:only-child::after {width: 0;}#sk-container-id-1 div.sk-dashed-wrapped {border: 1px dashed gray;margin: 0 0.4em 0.5em 0.4em;box-sizing: border-box;padding-bottom: 0.4em;background-color: white;}#sk-container-id-1 div.sk-label label {font-family: monospace;font-weight: bold;display: inline-block;line-height: 1.2em;}#sk-container-id-1 div.sk-label-container {text-align: center;}#sk-container-id-1 div.sk-container {/* jupyter's `normalize.less` sets `[hidden] { display: none; }` but bootstrap.min.css set `[hidden] { display: none !important; }` so we also need the `!important` here to be able to override the default hidden behavior on the sphinx rendered scikit-learn.org. See: https://github.com/scikit-learn/scikit-learn/issues/21755 */display: inline-block !important;position: relative;}#sk-container-id-1 div.sk-text-repr-fallback {display: none;}</style><div id=\"sk-container-id-1\" class=\"sk-top-container\"><div class=\"sk-text-repr-fallback\"><pre>Pipeline(steps=[(&#x27;scaler&#x27;, StandardScaler()),\n",
       "                (&#x27;drop_constant&#x27;, DropConstantFeatures(tol=0.99)),\n",
       "                (&#x27;drop_duplicate&#x27;, DropDuplicateFeatures()),\n",
       "                (&#x27;drop_correlated&#x27;, DropCorrelatedFeatures(threshold=0.9)),\n",
       "                (&#x27;smart_selection&#x27;, SmartCorrelatedSelection()),\n",
       "                (&#x27;classifier&#x27;, RandomForestClassifier())])</pre><b>In a Jupyter environment, please rerun this cell to show the HTML representation or trust the notebook. <br />On GitHub, the HTML representation is unable to render, please try loading this page with nbviewer.org.</b></div><div class=\"sk-container\" hidden><div class=\"sk-item sk-dashed-wrapped\"><div class=\"sk-label-container\"><div class=\"sk-label sk-toggleable\"><input class=\"sk-toggleable__control sk-hidden--visually\" id=\"sk-estimator-id-1\" type=\"checkbox\" ><label for=\"sk-estimator-id-1\" class=\"sk-toggleable__label sk-toggleable__label-arrow\">Pipeline</label><div class=\"sk-toggleable__content\"><pre>Pipeline(steps=[(&#x27;scaler&#x27;, StandardScaler()),\n",
       "                (&#x27;drop_constant&#x27;, DropConstantFeatures(tol=0.99)),\n",
       "                (&#x27;drop_duplicate&#x27;, DropDuplicateFeatures()),\n",
       "                (&#x27;drop_correlated&#x27;, DropCorrelatedFeatures(threshold=0.9)),\n",
       "                (&#x27;smart_selection&#x27;, SmartCorrelatedSelection()),\n",
       "                (&#x27;classifier&#x27;, RandomForestClassifier())])</pre></div></div></div><div class=\"sk-serial\"><div class=\"sk-item\"><div class=\"sk-estimator sk-toggleable\"><input class=\"sk-toggleable__control sk-hidden--visually\" id=\"sk-estimator-id-2\" type=\"checkbox\" ><label for=\"sk-estimator-id-2\" class=\"sk-toggleable__label sk-toggleable__label-arrow\">StandardScaler</label><div class=\"sk-toggleable__content\"><pre>StandardScaler()</pre></div></div></div><div class=\"sk-item\"><div class=\"sk-estimator sk-toggleable\"><input class=\"sk-toggleable__control sk-hidden--visually\" id=\"sk-estimator-id-3\" type=\"checkbox\" ><label for=\"sk-estimator-id-3\" class=\"sk-toggleable__label sk-toggleable__label-arrow\">DropConstantFeatures</label><div class=\"sk-toggleable__content\"><pre>DropConstantFeatures(tol=0.99)</pre></div></div></div><div class=\"sk-item\"><div class=\"sk-estimator sk-toggleable\"><input class=\"sk-toggleable__control sk-hidden--visually\" id=\"sk-estimator-id-4\" type=\"checkbox\" ><label for=\"sk-estimator-id-4\" class=\"sk-toggleable__label sk-toggleable__label-arrow\">DropDuplicateFeatures</label><div class=\"sk-toggleable__content\"><pre>DropDuplicateFeatures()</pre></div></div></div><div class=\"sk-item\"><div class=\"sk-estimator sk-toggleable\"><input class=\"sk-toggleable__control sk-hidden--visually\" id=\"sk-estimator-id-5\" type=\"checkbox\" ><label for=\"sk-estimator-id-5\" class=\"sk-toggleable__label sk-toggleable__label-arrow\">DropCorrelatedFeatures</label><div class=\"sk-toggleable__content\"><pre>DropCorrelatedFeatures(threshold=0.9)</pre></div></div></div><div class=\"sk-item\"><div class=\"sk-estimator sk-toggleable\"><input class=\"sk-toggleable__control sk-hidden--visually\" id=\"sk-estimator-id-6\" type=\"checkbox\" ><label for=\"sk-estimator-id-6\" class=\"sk-toggleable__label sk-toggleable__label-arrow\">SmartCorrelatedSelection</label><div class=\"sk-toggleable__content\"><pre>SmartCorrelatedSelection()</pre></div></div></div><div class=\"sk-item\"><div class=\"sk-estimator sk-toggleable\"><input class=\"sk-toggleable__control sk-hidden--visually\" id=\"sk-estimator-id-7\" type=\"checkbox\" ><label for=\"sk-estimator-id-7\" class=\"sk-toggleable__label sk-toggleable__label-arrow\">RandomForestClassifier</label><div class=\"sk-toggleable__content\"><pre>RandomForestClassifier()</pre></div></div></div></div></div></div></div>"
      ],
      "text/plain": [
       "Pipeline(steps=[('scaler', StandardScaler()),\n",
       "                ('drop_constant', DropConstantFeatures(tol=0.99)),\n",
       "                ('drop_duplicate', DropDuplicateFeatures()),\n",
       "                ('drop_correlated', DropCorrelatedFeatures(threshold=0.9)),\n",
       "                ('smart_selection', SmartCorrelatedSelection()),\n",
       "                ('classifier', RandomForestClassifier())])"
      ]
     },
     "execution_count": 26,
     "metadata": {},
     "output_type": "execute_result"
    }
   ],
   "source": [
    "pipeline_RF = pip.Pipeline([\n",
    "    (\"scaler\", pre.StandardScaler()),\n",
    "    (\"drop_constant\", sel.DropConstantFeatures(tol=0.99)),\n",
    "    (\"drop_duplicate\", sel.DropDuplicateFeatures()),\n",
    "    (\"drop_correlated\", sel.DropCorrelatedFeatures(threshold=0.90)),\n",
    "    (\"smart_selection\", sel.SmartCorrelatedSelection(threshold=0.80, cv=3)),\n",
    "    (\"classifier\", ens.RandomForestClassifier())\n",
    "])\n",
    "\n",
    "pipeline_RF"
   ]
  },
  {
   "cell_type": "code",
   "execution_count": 68,
   "id": "1b8ca55a",
   "metadata": {},
   "outputs": [
    {
     "name": "stdout",
     "output_type": "stream",
     "text": [
      "Fitting 5 folds for each of 48 candidates, totalling 240 fits\n"
     ]
    },
    {
     "data": {
      "text/html": [
       "<style>#sk-container-id-6 {color: black;background-color: white;}#sk-container-id-6 pre{padding: 0;}#sk-container-id-6 div.sk-toggleable {background-color: white;}#sk-container-id-6 label.sk-toggleable__label {cursor: pointer;display: block;width: 100%;margin-bottom: 0;padding: 0.3em;box-sizing: border-box;text-align: center;}#sk-container-id-6 label.sk-toggleable__label-arrow:before {content: \"▸\";float: left;margin-right: 0.25em;color: #696969;}#sk-container-id-6 label.sk-toggleable__label-arrow:hover:before {color: black;}#sk-container-id-6 div.sk-estimator:hover label.sk-toggleable__label-arrow:before {color: black;}#sk-container-id-6 div.sk-toggleable__content {max-height: 0;max-width: 0;overflow: hidden;text-align: left;background-color: #f0f8ff;}#sk-container-id-6 div.sk-toggleable__content pre {margin: 0.2em;color: black;border-radius: 0.25em;background-color: #f0f8ff;}#sk-container-id-6 input.sk-toggleable__control:checked~div.sk-toggleable__content {max-height: 200px;max-width: 100%;overflow: auto;}#sk-container-id-6 input.sk-toggleable__control:checked~label.sk-toggleable__label-arrow:before {content: \"▾\";}#sk-container-id-6 div.sk-estimator input.sk-toggleable__control:checked~label.sk-toggleable__label {background-color: #d4ebff;}#sk-container-id-6 div.sk-label input.sk-toggleable__control:checked~label.sk-toggleable__label {background-color: #d4ebff;}#sk-container-id-6 input.sk-hidden--visually {border: 0;clip: rect(1px 1px 1px 1px);clip: rect(1px, 1px, 1px, 1px);height: 1px;margin: -1px;overflow: hidden;padding: 0;position: absolute;width: 1px;}#sk-container-id-6 div.sk-estimator {font-family: monospace;background-color: #f0f8ff;border: 1px dotted black;border-radius: 0.25em;box-sizing: border-box;margin-bottom: 0.5em;}#sk-container-id-6 div.sk-estimator:hover {background-color: #d4ebff;}#sk-container-id-6 div.sk-parallel-item::after {content: \"\";width: 100%;border-bottom: 1px solid gray;flex-grow: 1;}#sk-container-id-6 div.sk-label:hover label.sk-toggleable__label {background-color: #d4ebff;}#sk-container-id-6 div.sk-serial::before {content: \"\";position: absolute;border-left: 1px solid gray;box-sizing: border-box;top: 0;bottom: 0;left: 50%;z-index: 0;}#sk-container-id-6 div.sk-serial {display: flex;flex-direction: column;align-items: center;background-color: white;padding-right: 0.2em;padding-left: 0.2em;position: relative;}#sk-container-id-6 div.sk-item {position: relative;z-index: 1;}#sk-container-id-6 div.sk-parallel {display: flex;align-items: stretch;justify-content: center;background-color: white;position: relative;}#sk-container-id-6 div.sk-item::before, #sk-container-id-6 div.sk-parallel-item::before {content: \"\";position: absolute;border-left: 1px solid gray;box-sizing: border-box;top: 0;bottom: 0;left: 50%;z-index: -1;}#sk-container-id-6 div.sk-parallel-item {display: flex;flex-direction: column;z-index: 1;position: relative;background-color: white;}#sk-container-id-6 div.sk-parallel-item:first-child::after {align-self: flex-end;width: 50%;}#sk-container-id-6 div.sk-parallel-item:last-child::after {align-self: flex-start;width: 50%;}#sk-container-id-6 div.sk-parallel-item:only-child::after {width: 0;}#sk-container-id-6 div.sk-dashed-wrapped {border: 1px dashed gray;margin: 0 0.4em 0.5em 0.4em;box-sizing: border-box;padding-bottom: 0.4em;background-color: white;}#sk-container-id-6 div.sk-label label {font-family: monospace;font-weight: bold;display: inline-block;line-height: 1.2em;}#sk-container-id-6 div.sk-label-container {text-align: center;}#sk-container-id-6 div.sk-container {/* jupyter's `normalize.less` sets `[hidden] { display: none; }` but bootstrap.min.css set `[hidden] { display: none !important; }` so we also need the `!important` here to be able to override the default hidden behavior on the sphinx rendered scikit-learn.org. See: https://github.com/scikit-learn/scikit-learn/issues/21755 */display: inline-block !important;position: relative;}#sk-container-id-6 div.sk-text-repr-fallback {display: none;}</style><div id=\"sk-container-id-6\" class=\"sk-top-container\"><div class=\"sk-text-repr-fallback\"><pre>GridSearchCV(cv=5,\n",
       "             estimator=Pipeline(steps=[(&#x27;scaler&#x27;, StandardScaler()),\n",
       "                                       (&#x27;drop_constant&#x27;,\n",
       "                                        DropConstantFeatures(tol=0.99)),\n",
       "                                       (&#x27;drop_duplicate&#x27;,\n",
       "                                        DropDuplicateFeatures()),\n",
       "                                       (&#x27;drop_correlated&#x27;,\n",
       "                                        DropCorrelatedFeatures(threshold=0.9)),\n",
       "                                       (&#x27;smart_selection&#x27;,\n",
       "                                        SmartCorrelatedSelection()),\n",
       "                                       (&#x27;classifier&#x27;,\n",
       "                                        RandomForestClassifier())]),\n",
       "             param_grid={&#x27;classifier__criterion&#x27;: [&#x27;gini&#x27;, &#x27;entropy&#x27;],\n",
       "                         &#x27;classifier__max_depth&#x27;: [None, 5, 10],\n",
       "                         &#x27;classifier__min_samples_leaf&#x27;: [2, 4],\n",
       "                         &#x27;classifier__min_samples_split&#x27;: [2, 5],\n",
       "                         &#x27;classifier__n_estimators&#x27;: [100, 200]},\n",
       "             scoring=&#x27;f1_macro&#x27;, verbose=1)</pre><b>In a Jupyter environment, please rerun this cell to show the HTML representation or trust the notebook. <br />On GitHub, the HTML representation is unable to render, please try loading this page with nbviewer.org.</b></div><div class=\"sk-container\" hidden><div class=\"sk-item sk-dashed-wrapped\"><div class=\"sk-label-container\"><div class=\"sk-label sk-toggleable\"><input class=\"sk-toggleable__control sk-hidden--visually\" id=\"sk-estimator-id-39\" type=\"checkbox\" ><label for=\"sk-estimator-id-39\" class=\"sk-toggleable__label sk-toggleable__label-arrow\">GridSearchCV</label><div class=\"sk-toggleable__content\"><pre>GridSearchCV(cv=5,\n",
       "             estimator=Pipeline(steps=[(&#x27;scaler&#x27;, StandardScaler()),\n",
       "                                       (&#x27;drop_constant&#x27;,\n",
       "                                        DropConstantFeatures(tol=0.99)),\n",
       "                                       (&#x27;drop_duplicate&#x27;,\n",
       "                                        DropDuplicateFeatures()),\n",
       "                                       (&#x27;drop_correlated&#x27;,\n",
       "                                        DropCorrelatedFeatures(threshold=0.9)),\n",
       "                                       (&#x27;smart_selection&#x27;,\n",
       "                                        SmartCorrelatedSelection()),\n",
       "                                       (&#x27;classifier&#x27;,\n",
       "                                        RandomForestClassifier())]),\n",
       "             param_grid={&#x27;classifier__criterion&#x27;: [&#x27;gini&#x27;, &#x27;entropy&#x27;],\n",
       "                         &#x27;classifier__max_depth&#x27;: [None, 5, 10],\n",
       "                         &#x27;classifier__min_samples_leaf&#x27;: [2, 4],\n",
       "                         &#x27;classifier__min_samples_split&#x27;: [2, 5],\n",
       "                         &#x27;classifier__n_estimators&#x27;: [100, 200]},\n",
       "             scoring=&#x27;f1_macro&#x27;, verbose=1)</pre></div></div></div><div class=\"sk-parallel\"><div class=\"sk-parallel-item\"><div class=\"sk-item\"><div class=\"sk-label-container\"><div class=\"sk-label sk-toggleable\"><input class=\"sk-toggleable__control sk-hidden--visually\" id=\"sk-estimator-id-40\" type=\"checkbox\" ><label for=\"sk-estimator-id-40\" class=\"sk-toggleable__label sk-toggleable__label-arrow\">estimator: Pipeline</label><div class=\"sk-toggleable__content\"><pre>Pipeline(steps=[(&#x27;scaler&#x27;, StandardScaler()),\n",
       "                (&#x27;drop_constant&#x27;, DropConstantFeatures(tol=0.99)),\n",
       "                (&#x27;drop_duplicate&#x27;, DropDuplicateFeatures()),\n",
       "                (&#x27;drop_correlated&#x27;, DropCorrelatedFeatures(threshold=0.9)),\n",
       "                (&#x27;smart_selection&#x27;, SmartCorrelatedSelection()),\n",
       "                (&#x27;classifier&#x27;, RandomForestClassifier())])</pre></div></div></div><div class=\"sk-serial\"><div class=\"sk-item\"><div class=\"sk-serial\"><div class=\"sk-item\"><div class=\"sk-estimator sk-toggleable\"><input class=\"sk-toggleable__control sk-hidden--visually\" id=\"sk-estimator-id-41\" type=\"checkbox\" ><label for=\"sk-estimator-id-41\" class=\"sk-toggleable__label sk-toggleable__label-arrow\">StandardScaler</label><div class=\"sk-toggleable__content\"><pre>StandardScaler()</pre></div></div></div><div class=\"sk-item\"><div class=\"sk-estimator sk-toggleable\"><input class=\"sk-toggleable__control sk-hidden--visually\" id=\"sk-estimator-id-42\" type=\"checkbox\" ><label for=\"sk-estimator-id-42\" class=\"sk-toggleable__label sk-toggleable__label-arrow\">DropConstantFeatures</label><div class=\"sk-toggleable__content\"><pre>DropConstantFeatures(tol=0.99)</pre></div></div></div><div class=\"sk-item\"><div class=\"sk-estimator sk-toggleable\"><input class=\"sk-toggleable__control sk-hidden--visually\" id=\"sk-estimator-id-43\" type=\"checkbox\" ><label for=\"sk-estimator-id-43\" class=\"sk-toggleable__label sk-toggleable__label-arrow\">DropDuplicateFeatures</label><div class=\"sk-toggleable__content\"><pre>DropDuplicateFeatures()</pre></div></div></div><div class=\"sk-item\"><div class=\"sk-estimator sk-toggleable\"><input class=\"sk-toggleable__control sk-hidden--visually\" id=\"sk-estimator-id-44\" type=\"checkbox\" ><label for=\"sk-estimator-id-44\" class=\"sk-toggleable__label sk-toggleable__label-arrow\">DropCorrelatedFeatures</label><div class=\"sk-toggleable__content\"><pre>DropCorrelatedFeatures(threshold=0.9)</pre></div></div></div><div class=\"sk-item\"><div class=\"sk-estimator sk-toggleable\"><input class=\"sk-toggleable__control sk-hidden--visually\" id=\"sk-estimator-id-45\" type=\"checkbox\" ><label for=\"sk-estimator-id-45\" class=\"sk-toggleable__label sk-toggleable__label-arrow\">SmartCorrelatedSelection</label><div class=\"sk-toggleable__content\"><pre>SmartCorrelatedSelection()</pre></div></div></div><div class=\"sk-item\"><div class=\"sk-estimator sk-toggleable\"><input class=\"sk-toggleable__control sk-hidden--visually\" id=\"sk-estimator-id-46\" type=\"checkbox\" ><label for=\"sk-estimator-id-46\" class=\"sk-toggleable__label sk-toggleable__label-arrow\">RandomForestClassifier</label><div class=\"sk-toggleable__content\"><pre>RandomForestClassifier()</pre></div></div></div></div></div></div></div></div></div></div></div></div>"
      ],
      "text/plain": [
       "GridSearchCV(cv=5,\n",
       "             estimator=Pipeline(steps=[('scaler', StandardScaler()),\n",
       "                                       ('drop_constant',\n",
       "                                        DropConstantFeatures(tol=0.99)),\n",
       "                                       ('drop_duplicate',\n",
       "                                        DropDuplicateFeatures()),\n",
       "                                       ('drop_correlated',\n",
       "                                        DropCorrelatedFeatures(threshold=0.9)),\n",
       "                                       ('smart_selection',\n",
       "                                        SmartCorrelatedSelection()),\n",
       "                                       ('classifier',\n",
       "                                        RandomForestClassifier())]),\n",
       "             param_grid={'classifier__criterion': ['gini', 'entropy'],\n",
       "                         'classifier__max_depth': [None, 5, 10],\n",
       "                         'classifier__min_samples_leaf': [2, 4],\n",
       "                         'classifier__min_samples_split': [2, 5],\n",
       "                         'classifier__n_estimators': [100, 200]},\n",
       "             scoring='f1_macro', verbose=1)"
      ]
     },
     "execution_count": 68,
     "metadata": {},
     "output_type": "execute_result"
    }
   ],
   "source": [
    "param_grid_RF = {\n",
    "    'classifier__n_estimators': [100, 200],\n",
    "    'classifier__max_depth': [None, 5, 10],\n",
    "    'classifier__min_samples_split': [2, 5],\n",
    "    'classifier__min_samples_leaf': [2, 4],\n",
    "    'classifier__criterion' : ['gini', 'entropy']\n",
    "}\n",
    "\n",
    "grid_search_RF = mod.GridSearchCV(pipeline_RF, \n",
    "                                   param_grid_RF, \n",
    "                                   cv=5,\n",
    "                                   verbose=1,\n",
    "                                   scoring='f1_macro')\n",
    "grid_search_RF.fit(X_train, y_train)"
   ]
  },
  {
   "cell_type": "code",
   "execution_count": 69,
   "id": "858ce006",
   "metadata": {},
   "outputs": [
    {
     "name": "stdout",
     "output_type": "stream",
     "text": [
      "Best parameters: \n",
      "\n",
      "criterion : gini\n",
      "max_depth : 10\n",
      "min_samples_leaf : 2\n",
      "min_samples_split : 2\n",
      "n_estimators : 100\n",
      "\n",
      "Best score:  0.968995640676459\n"
     ]
    }
   ],
   "source": [
    "print(\"Best parameters: \\n\")\n",
    "\n",
    "for i,j in grid_search_RF.best_params_.items():\n",
    "    print(i[12:], \":\", j)\n",
    "\n",
    "print(\"\\nBest score: \", grid_search_RF.best_score_)"
   ]
  },
  {
   "cell_type": "markdown",
   "id": "e9affcc2",
   "metadata": {},
   "source": [
    "Now I will create a similar pipeline for XGBClassifier."
   ]
  },
  {
   "cell_type": "code",
   "execution_count": 29,
   "id": "2ef5ea42",
   "metadata": {},
   "outputs": [
    {
     "data": {
      "text/html": [
       "<style>#sk-container-id-3 {color: black;background-color: white;}#sk-container-id-3 pre{padding: 0;}#sk-container-id-3 div.sk-toggleable {background-color: white;}#sk-container-id-3 label.sk-toggleable__label {cursor: pointer;display: block;width: 100%;margin-bottom: 0;padding: 0.3em;box-sizing: border-box;text-align: center;}#sk-container-id-3 label.sk-toggleable__label-arrow:before {content: \"▸\";float: left;margin-right: 0.25em;color: #696969;}#sk-container-id-3 label.sk-toggleable__label-arrow:hover:before {color: black;}#sk-container-id-3 div.sk-estimator:hover label.sk-toggleable__label-arrow:before {color: black;}#sk-container-id-3 div.sk-toggleable__content {max-height: 0;max-width: 0;overflow: hidden;text-align: left;background-color: #f0f8ff;}#sk-container-id-3 div.sk-toggleable__content pre {margin: 0.2em;color: black;border-radius: 0.25em;background-color: #f0f8ff;}#sk-container-id-3 input.sk-toggleable__control:checked~div.sk-toggleable__content {max-height: 200px;max-width: 100%;overflow: auto;}#sk-container-id-3 input.sk-toggleable__control:checked~label.sk-toggleable__label-arrow:before {content: \"▾\";}#sk-container-id-3 div.sk-estimator input.sk-toggleable__control:checked~label.sk-toggleable__label {background-color: #d4ebff;}#sk-container-id-3 div.sk-label input.sk-toggleable__control:checked~label.sk-toggleable__label {background-color: #d4ebff;}#sk-container-id-3 input.sk-hidden--visually {border: 0;clip: rect(1px 1px 1px 1px);clip: rect(1px, 1px, 1px, 1px);height: 1px;margin: -1px;overflow: hidden;padding: 0;position: absolute;width: 1px;}#sk-container-id-3 div.sk-estimator {font-family: monospace;background-color: #f0f8ff;border: 1px dotted black;border-radius: 0.25em;box-sizing: border-box;margin-bottom: 0.5em;}#sk-container-id-3 div.sk-estimator:hover {background-color: #d4ebff;}#sk-container-id-3 div.sk-parallel-item::after {content: \"\";width: 100%;border-bottom: 1px solid gray;flex-grow: 1;}#sk-container-id-3 div.sk-label:hover label.sk-toggleable__label {background-color: #d4ebff;}#sk-container-id-3 div.sk-serial::before {content: \"\";position: absolute;border-left: 1px solid gray;box-sizing: border-box;top: 0;bottom: 0;left: 50%;z-index: 0;}#sk-container-id-3 div.sk-serial {display: flex;flex-direction: column;align-items: center;background-color: white;padding-right: 0.2em;padding-left: 0.2em;position: relative;}#sk-container-id-3 div.sk-item {position: relative;z-index: 1;}#sk-container-id-3 div.sk-parallel {display: flex;align-items: stretch;justify-content: center;background-color: white;position: relative;}#sk-container-id-3 div.sk-item::before, #sk-container-id-3 div.sk-parallel-item::before {content: \"\";position: absolute;border-left: 1px solid gray;box-sizing: border-box;top: 0;bottom: 0;left: 50%;z-index: -1;}#sk-container-id-3 div.sk-parallel-item {display: flex;flex-direction: column;z-index: 1;position: relative;background-color: white;}#sk-container-id-3 div.sk-parallel-item:first-child::after {align-self: flex-end;width: 50%;}#sk-container-id-3 div.sk-parallel-item:last-child::after {align-self: flex-start;width: 50%;}#sk-container-id-3 div.sk-parallel-item:only-child::after {width: 0;}#sk-container-id-3 div.sk-dashed-wrapped {border: 1px dashed gray;margin: 0 0.4em 0.5em 0.4em;box-sizing: border-box;padding-bottom: 0.4em;background-color: white;}#sk-container-id-3 div.sk-label label {font-family: monospace;font-weight: bold;display: inline-block;line-height: 1.2em;}#sk-container-id-3 div.sk-label-container {text-align: center;}#sk-container-id-3 div.sk-container {/* jupyter's `normalize.less` sets `[hidden] { display: none; }` but bootstrap.min.css set `[hidden] { display: none !important; }` so we also need the `!important` here to be able to override the default hidden behavior on the sphinx rendered scikit-learn.org. See: https://github.com/scikit-learn/scikit-learn/issues/21755 */display: inline-block !important;position: relative;}#sk-container-id-3 div.sk-text-repr-fallback {display: none;}</style><div id=\"sk-container-id-3\" class=\"sk-top-container\"><div class=\"sk-text-repr-fallback\"><pre>Pipeline(steps=[(&#x27;scaler&#x27;, StandardScaler()),\n",
       "                (&#x27;drop_constant&#x27;, DropConstantFeatures(tol=0.99)),\n",
       "                (&#x27;drop_duplicate&#x27;, DropDuplicateFeatures()),\n",
       "                (&#x27;drop_correlated&#x27;, DropCorrelatedFeatures(threshold=0.9)),\n",
       "                (&#x27;smart_selection&#x27;, SmartCorrelatedSelection()),\n",
       "                (&#x27;classifier&#x27;,\n",
       "                 XGBClassifier(base_score=None, booster=None, callbacks=None,\n",
       "                               colsample_bylevel=None, colsample_byno...\n",
       "                               feature_types=None, gamma=None, gpu_id=None,\n",
       "                               grow_policy=None, importance_type=None,\n",
       "                               interaction_constraints=None, learning_rate=None,\n",
       "                               max_bin=None, max_cat_threshold=None,\n",
       "                               max_cat_to_onehot=None, max_delta_step=None,\n",
       "                               max_depth=None, max_leaves=None,\n",
       "                               min_child_weight=None, missing=nan,\n",
       "                               monotone_constraints=None, n_estimators=100,\n",
       "                               n_jobs=None, num_parallel_tree=None,\n",
       "                               predictor=None, random_state=None, ...))])</pre><b>In a Jupyter environment, please rerun this cell to show the HTML representation or trust the notebook. <br />On GitHub, the HTML representation is unable to render, please try loading this page with nbviewer.org.</b></div><div class=\"sk-container\" hidden><div class=\"sk-item sk-dashed-wrapped\"><div class=\"sk-label-container\"><div class=\"sk-label sk-toggleable\"><input class=\"sk-toggleable__control sk-hidden--visually\" id=\"sk-estimator-id-16\" type=\"checkbox\" ><label for=\"sk-estimator-id-16\" class=\"sk-toggleable__label sk-toggleable__label-arrow\">Pipeline</label><div class=\"sk-toggleable__content\"><pre>Pipeline(steps=[(&#x27;scaler&#x27;, StandardScaler()),\n",
       "                (&#x27;drop_constant&#x27;, DropConstantFeatures(tol=0.99)),\n",
       "                (&#x27;drop_duplicate&#x27;, DropDuplicateFeatures()),\n",
       "                (&#x27;drop_correlated&#x27;, DropCorrelatedFeatures(threshold=0.9)),\n",
       "                (&#x27;smart_selection&#x27;, SmartCorrelatedSelection()),\n",
       "                (&#x27;classifier&#x27;,\n",
       "                 XGBClassifier(base_score=None, booster=None, callbacks=None,\n",
       "                               colsample_bylevel=None, colsample_byno...\n",
       "                               feature_types=None, gamma=None, gpu_id=None,\n",
       "                               grow_policy=None, importance_type=None,\n",
       "                               interaction_constraints=None, learning_rate=None,\n",
       "                               max_bin=None, max_cat_threshold=None,\n",
       "                               max_cat_to_onehot=None, max_delta_step=None,\n",
       "                               max_depth=None, max_leaves=None,\n",
       "                               min_child_weight=None, missing=nan,\n",
       "                               monotone_constraints=None, n_estimators=100,\n",
       "                               n_jobs=None, num_parallel_tree=None,\n",
       "                               predictor=None, random_state=None, ...))])</pre></div></div></div><div class=\"sk-serial\"><div class=\"sk-item\"><div class=\"sk-estimator sk-toggleable\"><input class=\"sk-toggleable__control sk-hidden--visually\" id=\"sk-estimator-id-17\" type=\"checkbox\" ><label for=\"sk-estimator-id-17\" class=\"sk-toggleable__label sk-toggleable__label-arrow\">StandardScaler</label><div class=\"sk-toggleable__content\"><pre>StandardScaler()</pre></div></div></div><div class=\"sk-item\"><div class=\"sk-estimator sk-toggleable\"><input class=\"sk-toggleable__control sk-hidden--visually\" id=\"sk-estimator-id-18\" type=\"checkbox\" ><label for=\"sk-estimator-id-18\" class=\"sk-toggleable__label sk-toggleable__label-arrow\">DropConstantFeatures</label><div class=\"sk-toggleable__content\"><pre>DropConstantFeatures(tol=0.99)</pre></div></div></div><div class=\"sk-item\"><div class=\"sk-estimator sk-toggleable\"><input class=\"sk-toggleable__control sk-hidden--visually\" id=\"sk-estimator-id-19\" type=\"checkbox\" ><label for=\"sk-estimator-id-19\" class=\"sk-toggleable__label sk-toggleable__label-arrow\">DropDuplicateFeatures</label><div class=\"sk-toggleable__content\"><pre>DropDuplicateFeatures()</pre></div></div></div><div class=\"sk-item\"><div class=\"sk-estimator sk-toggleable\"><input class=\"sk-toggleable__control sk-hidden--visually\" id=\"sk-estimator-id-20\" type=\"checkbox\" ><label for=\"sk-estimator-id-20\" class=\"sk-toggleable__label sk-toggleable__label-arrow\">DropCorrelatedFeatures</label><div class=\"sk-toggleable__content\"><pre>DropCorrelatedFeatures(threshold=0.9)</pre></div></div></div><div class=\"sk-item\"><div class=\"sk-estimator sk-toggleable\"><input class=\"sk-toggleable__control sk-hidden--visually\" id=\"sk-estimator-id-21\" type=\"checkbox\" ><label for=\"sk-estimator-id-21\" class=\"sk-toggleable__label sk-toggleable__label-arrow\">SmartCorrelatedSelection</label><div class=\"sk-toggleable__content\"><pre>SmartCorrelatedSelection()</pre></div></div></div><div class=\"sk-item\"><div class=\"sk-estimator sk-toggleable\"><input class=\"sk-toggleable__control sk-hidden--visually\" id=\"sk-estimator-id-22\" type=\"checkbox\" ><label for=\"sk-estimator-id-22\" class=\"sk-toggleable__label sk-toggleable__label-arrow\">XGBClassifier</label><div class=\"sk-toggleable__content\"><pre>XGBClassifier(base_score=None, booster=None, callbacks=None,\n",
       "              colsample_bylevel=None, colsample_bynode=None,\n",
       "              colsample_bytree=None, early_stopping_rounds=None,\n",
       "              enable_categorical=False, eval_metric=None, feature_types=None,\n",
       "              gamma=None, gpu_id=None, grow_policy=None, importance_type=None,\n",
       "              interaction_constraints=None, learning_rate=None, max_bin=None,\n",
       "              max_cat_threshold=None, max_cat_to_onehot=None,\n",
       "              max_delta_step=None, max_depth=None, max_leaves=None,\n",
       "              min_child_weight=None, missing=nan, monotone_constraints=None,\n",
       "              n_estimators=100, n_jobs=None, num_parallel_tree=None,\n",
       "              predictor=None, random_state=None, ...)</pre></div></div></div></div></div></div></div>"
      ],
      "text/plain": [
       "Pipeline(steps=[('scaler', StandardScaler()),\n",
       "                ('drop_constant', DropConstantFeatures(tol=0.99)),\n",
       "                ('drop_duplicate', DropDuplicateFeatures()),\n",
       "                ('drop_correlated', DropCorrelatedFeatures(threshold=0.9)),\n",
       "                ('smart_selection', SmartCorrelatedSelection()),\n",
       "                ('classifier',\n",
       "                 XGBClassifier(base_score=None, booster=None, callbacks=None,\n",
       "                               colsample_bylevel=None, colsample_byno...\n",
       "                               feature_types=None, gamma=None, gpu_id=None,\n",
       "                               grow_policy=None, importance_type=None,\n",
       "                               interaction_constraints=None, learning_rate=None,\n",
       "                               max_bin=None, max_cat_threshold=None,\n",
       "                               max_cat_to_onehot=None, max_delta_step=None,\n",
       "                               max_depth=None, max_leaves=None,\n",
       "                               min_child_weight=None, missing=nan,\n",
       "                               monotone_constraints=None, n_estimators=100,\n",
       "                               n_jobs=None, num_parallel_tree=None,\n",
       "                               predictor=None, random_state=None, ...))])"
      ]
     },
     "execution_count": 29,
     "metadata": {},
     "output_type": "execute_result"
    }
   ],
   "source": [
    "from xgboost import XGBClassifier\n",
    "\n",
    "pipeline_XGB = pip.Pipeline([\n",
    "    (\"scaler\", pre.StandardScaler()),\n",
    "    (\"drop_constant\", sel.DropConstantFeatures(tol=0.99)),\n",
    "    (\"drop_duplicate\", sel.DropDuplicateFeatures()),\n",
    "    (\"drop_correlated\", sel.DropCorrelatedFeatures(threshold=0.90)),\n",
    "    (\"smart_selection\", sel.SmartCorrelatedSelection(threshold=0.80, cv=3)),\n",
    "    (\"classifier\", XGBClassifier())\n",
    "])\n",
    "\n",
    "pipeline_XGB"
   ]
  },
  {
   "cell_type": "code",
   "execution_count": 66,
   "id": "f7e18ea8",
   "metadata": {},
   "outputs": [
    {
     "name": "stdout",
     "output_type": "stream",
     "text": [
      "Fitting 3 folds for each of 324 candidates, totalling 972 fits\n"
     ]
    },
    {
     "data": {
      "text/html": [
       "<style>#sk-container-id-5 {color: black;background-color: white;}#sk-container-id-5 pre{padding: 0;}#sk-container-id-5 div.sk-toggleable {background-color: white;}#sk-container-id-5 label.sk-toggleable__label {cursor: pointer;display: block;width: 100%;margin-bottom: 0;padding: 0.3em;box-sizing: border-box;text-align: center;}#sk-container-id-5 label.sk-toggleable__label-arrow:before {content: \"▸\";float: left;margin-right: 0.25em;color: #696969;}#sk-container-id-5 label.sk-toggleable__label-arrow:hover:before {color: black;}#sk-container-id-5 div.sk-estimator:hover label.sk-toggleable__label-arrow:before {color: black;}#sk-container-id-5 div.sk-toggleable__content {max-height: 0;max-width: 0;overflow: hidden;text-align: left;background-color: #f0f8ff;}#sk-container-id-5 div.sk-toggleable__content pre {margin: 0.2em;color: black;border-radius: 0.25em;background-color: #f0f8ff;}#sk-container-id-5 input.sk-toggleable__control:checked~div.sk-toggleable__content {max-height: 200px;max-width: 100%;overflow: auto;}#sk-container-id-5 input.sk-toggleable__control:checked~label.sk-toggleable__label-arrow:before {content: \"▾\";}#sk-container-id-5 div.sk-estimator input.sk-toggleable__control:checked~label.sk-toggleable__label {background-color: #d4ebff;}#sk-container-id-5 div.sk-label input.sk-toggleable__control:checked~label.sk-toggleable__label {background-color: #d4ebff;}#sk-container-id-5 input.sk-hidden--visually {border: 0;clip: rect(1px 1px 1px 1px);clip: rect(1px, 1px, 1px, 1px);height: 1px;margin: -1px;overflow: hidden;padding: 0;position: absolute;width: 1px;}#sk-container-id-5 div.sk-estimator {font-family: monospace;background-color: #f0f8ff;border: 1px dotted black;border-radius: 0.25em;box-sizing: border-box;margin-bottom: 0.5em;}#sk-container-id-5 div.sk-estimator:hover {background-color: #d4ebff;}#sk-container-id-5 div.sk-parallel-item::after {content: \"\";width: 100%;border-bottom: 1px solid gray;flex-grow: 1;}#sk-container-id-5 div.sk-label:hover label.sk-toggleable__label {background-color: #d4ebff;}#sk-container-id-5 div.sk-serial::before {content: \"\";position: absolute;border-left: 1px solid gray;box-sizing: border-box;top: 0;bottom: 0;left: 50%;z-index: 0;}#sk-container-id-5 div.sk-serial {display: flex;flex-direction: column;align-items: center;background-color: white;padding-right: 0.2em;padding-left: 0.2em;position: relative;}#sk-container-id-5 div.sk-item {position: relative;z-index: 1;}#sk-container-id-5 div.sk-parallel {display: flex;align-items: stretch;justify-content: center;background-color: white;position: relative;}#sk-container-id-5 div.sk-item::before, #sk-container-id-5 div.sk-parallel-item::before {content: \"\";position: absolute;border-left: 1px solid gray;box-sizing: border-box;top: 0;bottom: 0;left: 50%;z-index: -1;}#sk-container-id-5 div.sk-parallel-item {display: flex;flex-direction: column;z-index: 1;position: relative;background-color: white;}#sk-container-id-5 div.sk-parallel-item:first-child::after {align-self: flex-end;width: 50%;}#sk-container-id-5 div.sk-parallel-item:last-child::after {align-self: flex-start;width: 50%;}#sk-container-id-5 div.sk-parallel-item:only-child::after {width: 0;}#sk-container-id-5 div.sk-dashed-wrapped {border: 1px dashed gray;margin: 0 0.4em 0.5em 0.4em;box-sizing: border-box;padding-bottom: 0.4em;background-color: white;}#sk-container-id-5 div.sk-label label {font-family: monospace;font-weight: bold;display: inline-block;line-height: 1.2em;}#sk-container-id-5 div.sk-label-container {text-align: center;}#sk-container-id-5 div.sk-container {/* jupyter's `normalize.less` sets `[hidden] { display: none; }` but bootstrap.min.css set `[hidden] { display: none !important; }` so we also need the `!important` here to be able to override the default hidden behavior on the sphinx rendered scikit-learn.org. See: https://github.com/scikit-learn/scikit-learn/issues/21755 */display: inline-block !important;position: relative;}#sk-container-id-5 div.sk-text-repr-fallback {display: none;}</style><div id=\"sk-container-id-5\" class=\"sk-top-container\"><div class=\"sk-text-repr-fallback\"><pre>GridSearchCV(cv=3,\n",
       "             estimator=Pipeline(steps=[(&#x27;scaler&#x27;, StandardScaler()),\n",
       "                                       (&#x27;drop_constant&#x27;,\n",
       "                                        DropConstantFeatures(tol=0.99)),\n",
       "                                       (&#x27;drop_duplicate&#x27;,\n",
       "                                        DropDuplicateFeatures()),\n",
       "                                       (&#x27;drop_correlated&#x27;,\n",
       "                                        DropCorrelatedFeatures(threshold=0.9)),\n",
       "                                       (&#x27;smart_selection&#x27;,\n",
       "                                        SmartCorrelatedSelection()),\n",
       "                                       (&#x27;classifier&#x27;,\n",
       "                                        XGBClassifier(base_score=None,\n",
       "                                                      booster=None,\n",
       "                                                      callbacks=None,\n",
       "                                                      colsample...\n",
       "                                                      n_estimators=100,\n",
       "                                                      n_jobs=None,\n",
       "                                                      num_parallel_tree=None,\n",
       "                                                      predictor=None,\n",
       "                                                      random_state=None, ...))]),\n",
       "             param_grid={&#x27;classifier__colsample_bytree&#x27;: [0.5, 0.8, 1],\n",
       "                         &#x27;classifier__gamma&#x27;: [0, 1, 5],\n",
       "                         &#x27;classifier__learning_rate&#x27;: [0.01, 0.1, 0.2],\n",
       "                         &#x27;classifier__max_depth&#x27;: [5, 10],\n",
       "                         &#x27;classifier__n_estimators&#x27;: [100, 200],\n",
       "                         &#x27;classifier__subsample&#x27;: [0.5, 0.8, 1]},\n",
       "             scoring=&#x27;f1_macro&#x27;, verbose=1)</pre><b>In a Jupyter environment, please rerun this cell to show the HTML representation or trust the notebook. <br />On GitHub, the HTML representation is unable to render, please try loading this page with nbviewer.org.</b></div><div class=\"sk-container\" hidden><div class=\"sk-item sk-dashed-wrapped\"><div class=\"sk-label-container\"><div class=\"sk-label sk-toggleable\"><input class=\"sk-toggleable__control sk-hidden--visually\" id=\"sk-estimator-id-31\" type=\"checkbox\" ><label for=\"sk-estimator-id-31\" class=\"sk-toggleable__label sk-toggleable__label-arrow\">GridSearchCV</label><div class=\"sk-toggleable__content\"><pre>GridSearchCV(cv=3,\n",
       "             estimator=Pipeline(steps=[(&#x27;scaler&#x27;, StandardScaler()),\n",
       "                                       (&#x27;drop_constant&#x27;,\n",
       "                                        DropConstantFeatures(tol=0.99)),\n",
       "                                       (&#x27;drop_duplicate&#x27;,\n",
       "                                        DropDuplicateFeatures()),\n",
       "                                       (&#x27;drop_correlated&#x27;,\n",
       "                                        DropCorrelatedFeatures(threshold=0.9)),\n",
       "                                       (&#x27;smart_selection&#x27;,\n",
       "                                        SmartCorrelatedSelection()),\n",
       "                                       (&#x27;classifier&#x27;,\n",
       "                                        XGBClassifier(base_score=None,\n",
       "                                                      booster=None,\n",
       "                                                      callbacks=None,\n",
       "                                                      colsample...\n",
       "                                                      n_estimators=100,\n",
       "                                                      n_jobs=None,\n",
       "                                                      num_parallel_tree=None,\n",
       "                                                      predictor=None,\n",
       "                                                      random_state=None, ...))]),\n",
       "             param_grid={&#x27;classifier__colsample_bytree&#x27;: [0.5, 0.8, 1],\n",
       "                         &#x27;classifier__gamma&#x27;: [0, 1, 5],\n",
       "                         &#x27;classifier__learning_rate&#x27;: [0.01, 0.1, 0.2],\n",
       "                         &#x27;classifier__max_depth&#x27;: [5, 10],\n",
       "                         &#x27;classifier__n_estimators&#x27;: [100, 200],\n",
       "                         &#x27;classifier__subsample&#x27;: [0.5, 0.8, 1]},\n",
       "             scoring=&#x27;f1_macro&#x27;, verbose=1)</pre></div></div></div><div class=\"sk-parallel\"><div class=\"sk-parallel-item\"><div class=\"sk-item\"><div class=\"sk-label-container\"><div class=\"sk-label sk-toggleable\"><input class=\"sk-toggleable__control sk-hidden--visually\" id=\"sk-estimator-id-32\" type=\"checkbox\" ><label for=\"sk-estimator-id-32\" class=\"sk-toggleable__label sk-toggleable__label-arrow\">estimator: Pipeline</label><div class=\"sk-toggleable__content\"><pre>Pipeline(steps=[(&#x27;scaler&#x27;, StandardScaler()),\n",
       "                (&#x27;drop_constant&#x27;, DropConstantFeatures(tol=0.99)),\n",
       "                (&#x27;drop_duplicate&#x27;, DropDuplicateFeatures()),\n",
       "                (&#x27;drop_correlated&#x27;, DropCorrelatedFeatures(threshold=0.9)),\n",
       "                (&#x27;smart_selection&#x27;, SmartCorrelatedSelection()),\n",
       "                (&#x27;classifier&#x27;,\n",
       "                 XGBClassifier(base_score=None, booster=None, callbacks=None,\n",
       "                               colsample_bylevel=None, colsample_byno...\n",
       "                               feature_types=None, gamma=None, gpu_id=None,\n",
       "                               grow_policy=None, importance_type=None,\n",
       "                               interaction_constraints=None, learning_rate=None,\n",
       "                               max_bin=None, max_cat_threshold=None,\n",
       "                               max_cat_to_onehot=None, max_delta_step=None,\n",
       "                               max_depth=None, max_leaves=None,\n",
       "                               min_child_weight=None, missing=nan,\n",
       "                               monotone_constraints=None, n_estimators=100,\n",
       "                               n_jobs=None, num_parallel_tree=None,\n",
       "                               predictor=None, random_state=None, ...))])</pre></div></div></div><div class=\"sk-serial\"><div class=\"sk-item\"><div class=\"sk-serial\"><div class=\"sk-item\"><div class=\"sk-estimator sk-toggleable\"><input class=\"sk-toggleable__control sk-hidden--visually\" id=\"sk-estimator-id-33\" type=\"checkbox\" ><label for=\"sk-estimator-id-33\" class=\"sk-toggleable__label sk-toggleable__label-arrow\">StandardScaler</label><div class=\"sk-toggleable__content\"><pre>StandardScaler()</pre></div></div></div><div class=\"sk-item\"><div class=\"sk-estimator sk-toggleable\"><input class=\"sk-toggleable__control sk-hidden--visually\" id=\"sk-estimator-id-34\" type=\"checkbox\" ><label for=\"sk-estimator-id-34\" class=\"sk-toggleable__label sk-toggleable__label-arrow\">DropConstantFeatures</label><div class=\"sk-toggleable__content\"><pre>DropConstantFeatures(tol=0.99)</pre></div></div></div><div class=\"sk-item\"><div class=\"sk-estimator sk-toggleable\"><input class=\"sk-toggleable__control sk-hidden--visually\" id=\"sk-estimator-id-35\" type=\"checkbox\" ><label for=\"sk-estimator-id-35\" class=\"sk-toggleable__label sk-toggleable__label-arrow\">DropDuplicateFeatures</label><div class=\"sk-toggleable__content\"><pre>DropDuplicateFeatures()</pre></div></div></div><div class=\"sk-item\"><div class=\"sk-estimator sk-toggleable\"><input class=\"sk-toggleable__control sk-hidden--visually\" id=\"sk-estimator-id-36\" type=\"checkbox\" ><label for=\"sk-estimator-id-36\" class=\"sk-toggleable__label sk-toggleable__label-arrow\">DropCorrelatedFeatures</label><div class=\"sk-toggleable__content\"><pre>DropCorrelatedFeatures(threshold=0.9)</pre></div></div></div><div class=\"sk-item\"><div class=\"sk-estimator sk-toggleable\"><input class=\"sk-toggleable__control sk-hidden--visually\" id=\"sk-estimator-id-37\" type=\"checkbox\" ><label for=\"sk-estimator-id-37\" class=\"sk-toggleable__label sk-toggleable__label-arrow\">SmartCorrelatedSelection</label><div class=\"sk-toggleable__content\"><pre>SmartCorrelatedSelection()</pre></div></div></div><div class=\"sk-item\"><div class=\"sk-estimator sk-toggleable\"><input class=\"sk-toggleable__control sk-hidden--visually\" id=\"sk-estimator-id-38\" type=\"checkbox\" ><label for=\"sk-estimator-id-38\" class=\"sk-toggleable__label sk-toggleable__label-arrow\">XGBClassifier</label><div class=\"sk-toggleable__content\"><pre>XGBClassifier(base_score=None, booster=None, callbacks=None,\n",
       "              colsample_bylevel=None, colsample_bynode=None,\n",
       "              colsample_bytree=None, early_stopping_rounds=None,\n",
       "              enable_categorical=False, eval_metric=None, feature_types=None,\n",
       "              gamma=None, gpu_id=None, grow_policy=None, importance_type=None,\n",
       "              interaction_constraints=None, learning_rate=None, max_bin=None,\n",
       "              max_cat_threshold=None, max_cat_to_onehot=None,\n",
       "              max_delta_step=None, max_depth=None, max_leaves=None,\n",
       "              min_child_weight=None, missing=nan, monotone_constraints=None,\n",
       "              n_estimators=100, n_jobs=None, num_parallel_tree=None,\n",
       "              predictor=None, random_state=None, ...)</pre></div></div></div></div></div></div></div></div></div></div></div></div>"
      ],
      "text/plain": [
       "GridSearchCV(cv=3,\n",
       "             estimator=Pipeline(steps=[('scaler', StandardScaler()),\n",
       "                                       ('drop_constant',\n",
       "                                        DropConstantFeatures(tol=0.99)),\n",
       "                                       ('drop_duplicate',\n",
       "                                        DropDuplicateFeatures()),\n",
       "                                       ('drop_correlated',\n",
       "                                        DropCorrelatedFeatures(threshold=0.9)),\n",
       "                                       ('smart_selection',\n",
       "                                        SmartCorrelatedSelection()),\n",
       "                                       ('classifier',\n",
       "                                        XGBClassifier(base_score=None,\n",
       "                                                      booster=None,\n",
       "                                                      callbacks=None,\n",
       "                                                      colsample...\n",
       "                                                      n_estimators=100,\n",
       "                                                      n_jobs=None,\n",
       "                                                      num_parallel_tree=None,\n",
       "                                                      predictor=None,\n",
       "                                                      random_state=None, ...))]),\n",
       "             param_grid={'classifier__colsample_bytree': [0.5, 0.8, 1],\n",
       "                         'classifier__gamma': [0, 1, 5],\n",
       "                         'classifier__learning_rate': [0.01, 0.1, 0.2],\n",
       "                         'classifier__max_depth': [5, 10],\n",
       "                         'classifier__n_estimators': [100, 200],\n",
       "                         'classifier__subsample': [0.5, 0.8, 1]},\n",
       "             scoring='f1_macro', verbose=1)"
      ]
     },
     "execution_count": 66,
     "metadata": {},
     "output_type": "execute_result"
    }
   ],
   "source": [
    "param_grid_XGB = {\n",
    "    'classifier__n_estimators': [100, 200],\n",
    "    'classifier__max_depth': [5, 10],\n",
    "    'classifier__learning_rate': [0.01, 0.1, 0.2],\n",
    "    'classifier__subsample': [0.5, 0.8, 1],\n",
    "    'classifier__colsample_bytree': [0.5, 0.8, 1],\n",
    "    'classifier__gamma': [0, 1, 5],\n",
    "}\n",
    "\n",
    "grid_search_XGB = mod.GridSearchCV(pipeline_XGB, \n",
    "                                   param_grid_XGB, \n",
    "                                   cv=3,\n",
    "                                   verbose=1,\n",
    "                                   scoring='f1_macro')\n",
    "grid_search_XGB.fit(X_train, y_train)"
   ]
  },
  {
   "cell_type": "code",
   "execution_count": 67,
   "id": "48d327de",
   "metadata": {},
   "outputs": [
    {
     "name": "stdout",
     "output_type": "stream",
     "text": [
      "Best parameters: \n",
      "\n",
      "colsample_bytree : 0.5\n",
      "gamma : 0\n",
      "learning_rate : 0.1\n",
      "max_depth : 5\n",
      "n_estimators : 100\n",
      "subsample : 0.5\n",
      "\n",
      "Best score:  0.9607464592361618\n"
     ]
    }
   ],
   "source": [
    "print(\"Best parameters: \\n\")\n",
    "\n",
    "for i,j in grid_search_XGB.best_params_.items():\n",
    "    print(i[12:], \":\", j)\n",
    "\n",
    "print(\"\\nBest score: \", grid_search_XGB.best_score_)"
   ]
  },
  {
   "cell_type": "markdown",
   "id": "4f5a2025",
   "metadata": {},
   "source": [
    "Both RandomForestClassifier and XGBClassifier seem to work fine. I will try to tune Node2Vec parameters using both of them. I will start with RandomForestClassifier.\n",
    "\n",
    "In this section, I will merge dataframes created using rolX features and Node2Vec features with the features I have created in a loop and measure the perormance of both models."
   ]
  },
  {
   "cell_type": "code",
   "execution_count": 51,
   "id": "12a4e8bf",
   "metadata": {},
   "outputs": [
    {
     "name": "stderr",
     "output_type": "stream",
     "text": [
      "\r",
      "  0%|                                                                                           | 0/64 [00:00<?, ?it/s]"
     ]
    },
    {
     "data": {
      "application/vnd.jupyter.widget-view+json": {
       "model_id": "e5231bd7834949859f677f910f5d6af1",
       "version_major": 2,
       "version_minor": 0
      },
      "text/plain": [
       "Computing transition probabilities:   0%|          | 0/348 [00:00<?, ?it/s]"
      ]
     },
     "metadata": {},
     "output_type": "display_data"
    },
    {
     "name": "stdout",
     "output_type": "stream",
     "text": [
      "Fitting 5 folds for each of 32 candidates, totalling 160 fits\n"
     ]
    },
    {
     "name": "stderr",
     "output_type": "stream",
     "text": [
      "\r",
      "  2%|█▎                                                                               | 1/64 [01:09<1:12:59, 69.51s/it]"
     ]
    },
    {
     "data": {
      "application/vnd.jupyter.widget-view+json": {
       "model_id": "88226ef5989543b9a9ad38ce51fd8dc8",
       "version_major": 2,
       "version_minor": 0
      },
      "text/plain": [
       "Computing transition probabilities:   0%|          | 0/348 [00:00<?, ?it/s]"
      ]
     },
     "metadata": {},
     "output_type": "display_data"
    },
    {
     "name": "stdout",
     "output_type": "stream",
     "text": [
      "Fitting 5 folds for each of 32 candidates, totalling 160 fits\n"
     ]
    },
    {
     "name": "stderr",
     "output_type": "stream",
     "text": [
      "\r",
      "  3%|██▌                                                                              | 2/64 [02:19<1:12:20, 70.02s/it]"
     ]
    },
    {
     "data": {
      "application/vnd.jupyter.widget-view+json": {
       "model_id": "7af8fc9fb6d54c13b887cf400591b27b",
       "version_major": 2,
       "version_minor": 0
      },
      "text/plain": [
       "Computing transition probabilities:   0%|          | 0/348 [00:00<?, ?it/s]"
      ]
     },
     "metadata": {},
     "output_type": "display_data"
    },
    {
     "name": "stdout",
     "output_type": "stream",
     "text": [
      "Fitting 5 folds for each of 32 candidates, totalling 160 fits\n"
     ]
    },
    {
     "name": "stderr",
     "output_type": "stream",
     "text": [
      "\r",
      "  5%|███▊                                                                             | 3/64 [03:31<1:12:03, 70.87s/it]"
     ]
    },
    {
     "data": {
      "application/vnd.jupyter.widget-view+json": {
       "model_id": "eb978f7a0b58438d9f153fbc907b0cbc",
       "version_major": 2,
       "version_minor": 0
      },
      "text/plain": [
       "Computing transition probabilities:   0%|          | 0/348 [00:00<?, ?it/s]"
      ]
     },
     "metadata": {},
     "output_type": "display_data"
    },
    {
     "name": "stdout",
     "output_type": "stream",
     "text": [
      "Fitting 5 folds for each of 32 candidates, totalling 160 fits\n"
     ]
    },
    {
     "name": "stderr",
     "output_type": "stream",
     "text": [
      "\r",
      "  6%|█████                                                                            | 4/64 [04:42<1:10:49, 70.83s/it]"
     ]
    },
    {
     "data": {
      "application/vnd.jupyter.widget-view+json": {
       "model_id": "f888bcc2cff84f4b90d9118086877c2d",
       "version_major": 2,
       "version_minor": 0
      },
      "text/plain": [
       "Computing transition probabilities:   0%|          | 0/348 [00:00<?, ?it/s]"
      ]
     },
     "metadata": {},
     "output_type": "display_data"
    },
    {
     "name": "stdout",
     "output_type": "stream",
     "text": [
      "Fitting 5 folds for each of 32 candidates, totalling 160 fits\n"
     ]
    },
    {
     "name": "stderr",
     "output_type": "stream",
     "text": [
      "\r",
      "  8%|██████▎                                                                          | 5/64 [05:57<1:11:10, 72.39s/it]"
     ]
    },
    {
     "data": {
      "application/vnd.jupyter.widget-view+json": {
       "model_id": "ed73a3a1025442cca5a7e4149cfd3ace",
       "version_major": 2,
       "version_minor": 0
      },
      "text/plain": [
       "Computing transition probabilities:   0%|          | 0/348 [00:00<?, ?it/s]"
      ]
     },
     "metadata": {},
     "output_type": "display_data"
    },
    {
     "name": "stdout",
     "output_type": "stream",
     "text": [
      "Fitting 5 folds for each of 32 candidates, totalling 160 fits\n"
     ]
    },
    {
     "name": "stderr",
     "output_type": "stream",
     "text": [
      "\r",
      "  9%|███████▌                                                                         | 6/64 [07:11<1:10:17, 72.72s/it]"
     ]
    },
    {
     "data": {
      "application/vnd.jupyter.widget-view+json": {
       "model_id": "93beb48af00a4da5a58c1a040e128643",
       "version_major": 2,
       "version_minor": 0
      },
      "text/plain": [
       "Computing transition probabilities:   0%|          | 0/348 [00:00<?, ?it/s]"
      ]
     },
     "metadata": {},
     "output_type": "display_data"
    },
    {
     "name": "stdout",
     "output_type": "stream",
     "text": [
      "Fitting 5 folds for each of 32 candidates, totalling 160 fits\n"
     ]
    },
    {
     "name": "stderr",
     "output_type": "stream",
     "text": [
      "\r",
      " 11%|████████▊                                                                        | 7/64 [08:23<1:09:02, 72.67s/it]"
     ]
    },
    {
     "data": {
      "application/vnd.jupyter.widget-view+json": {
       "model_id": "1db17e95c1a945fc845021cdc1e812a5",
       "version_major": 2,
       "version_minor": 0
      },
      "text/plain": [
       "Computing transition probabilities:   0%|          | 0/348 [00:00<?, ?it/s]"
      ]
     },
     "metadata": {},
     "output_type": "display_data"
    },
    {
     "name": "stdout",
     "output_type": "stream",
     "text": [
      "Fitting 5 folds for each of 32 candidates, totalling 160 fits\n"
     ]
    },
    {
     "name": "stderr",
     "output_type": "stream",
     "text": [
      "\r",
      " 12%|██████████▏                                                                      | 8/64 [09:36<1:07:59, 72.85s/it]"
     ]
    },
    {
     "data": {
      "application/vnd.jupyter.widget-view+json": {
       "model_id": "3b3f4926840e475b8e8e45f635c56a3e",
       "version_major": 2,
       "version_minor": 0
      },
      "text/plain": [
       "Computing transition probabilities:   0%|          | 0/348 [00:00<?, ?it/s]"
      ]
     },
     "metadata": {},
     "output_type": "display_data"
    },
    {
     "name": "stdout",
     "output_type": "stream",
     "text": [
      "Fitting 5 folds for each of 32 candidates, totalling 160 fits\n"
     ]
    },
    {
     "name": "stderr",
     "output_type": "stream",
     "text": [
      "\r",
      " 14%|███████████▍                                                                     | 9/64 [11:04<1:11:07, 77.60s/it]"
     ]
    },
    {
     "data": {
      "application/vnd.jupyter.widget-view+json": {
       "model_id": "9306421eb3ab4c54a00030597ab9a8a4",
       "version_major": 2,
       "version_minor": 0
      },
      "text/plain": [
       "Computing transition probabilities:   0%|          | 0/348 [00:00<?, ?it/s]"
      ]
     },
     "metadata": {},
     "output_type": "display_data"
    },
    {
     "name": "stdout",
     "output_type": "stream",
     "text": [
      "Fitting 5 folds for each of 32 candidates, totalling 160 fits\n"
     ]
    },
    {
     "name": "stderr",
     "output_type": "stream",
     "text": [
      "\r",
      " 16%|████████████▌                                                                   | 10/64 [12:32<1:12:44, 80.83s/it]"
     ]
    },
    {
     "data": {
      "application/vnd.jupyter.widget-view+json": {
       "model_id": "323a844beece4427ac6ee2d438da9610",
       "version_major": 2,
       "version_minor": 0
      },
      "text/plain": [
       "Computing transition probabilities:   0%|          | 0/348 [00:00<?, ?it/s]"
      ]
     },
     "metadata": {},
     "output_type": "display_data"
    },
    {
     "name": "stdout",
     "output_type": "stream",
     "text": [
      "Fitting 5 folds for each of 32 candidates, totalling 160 fits\n"
     ]
    },
    {
     "name": "stderr",
     "output_type": "stream",
     "text": [
      "\r",
      " 17%|█████████████▊                                                                  | 11/64 [14:01<1:13:26, 83.13s/it]"
     ]
    },
    {
     "data": {
      "application/vnd.jupyter.widget-view+json": {
       "model_id": "35bdff3c1def4d148d1f608d4b78d5cc",
       "version_major": 2,
       "version_minor": 0
      },
      "text/plain": [
       "Computing transition probabilities:   0%|          | 0/348 [00:00<?, ?it/s]"
      ]
     },
     "metadata": {},
     "output_type": "display_data"
    },
    {
     "name": "stdout",
     "output_type": "stream",
     "text": [
      "Fitting 5 folds for each of 32 candidates, totalling 160 fits\n"
     ]
    },
    {
     "name": "stderr",
     "output_type": "stream",
     "text": [
      "\r",
      " 19%|███████████████                                                                 | 12/64 [15:29<1:13:29, 84.80s/it]"
     ]
    },
    {
     "data": {
      "application/vnd.jupyter.widget-view+json": {
       "model_id": "b9e7f777fe8e4949a29b05aae7d983c4",
       "version_major": 2,
       "version_minor": 0
      },
      "text/plain": [
       "Computing transition probabilities:   0%|          | 0/348 [00:00<?, ?it/s]"
      ]
     },
     "metadata": {},
     "output_type": "display_data"
    },
    {
     "name": "stdout",
     "output_type": "stream",
     "text": [
      "Fitting 5 folds for each of 32 candidates, totalling 160 fits\n"
     ]
    },
    {
     "name": "stderr",
     "output_type": "stream",
     "text": [
      "\r",
      " 20%|████████████████▎                                                               | 13/64 [17:05<1:14:49, 88.02s/it]"
     ]
    },
    {
     "data": {
      "application/vnd.jupyter.widget-view+json": {
       "model_id": "1e4849fc7ee446129c2a4255ef98b698",
       "version_major": 2,
       "version_minor": 0
      },
      "text/plain": [
       "Computing transition probabilities:   0%|          | 0/348 [00:00<?, ?it/s]"
      ]
     },
     "metadata": {},
     "output_type": "display_data"
    },
    {
     "name": "stdout",
     "output_type": "stream",
     "text": [
      "Fitting 5 folds for each of 32 candidates, totalling 160 fits\n"
     ]
    },
    {
     "name": "stderr",
     "output_type": "stream",
     "text": [
      "\r",
      " 22%|█████████████████▌                                                              | 14/64 [18:40<1:15:13, 90.27s/it]"
     ]
    },
    {
     "data": {
      "application/vnd.jupyter.widget-view+json": {
       "model_id": "3ba4098b3e884529a52a61d15385ec74",
       "version_major": 2,
       "version_minor": 0
      },
      "text/plain": [
       "Computing transition probabilities:   0%|          | 0/348 [00:00<?, ?it/s]"
      ]
     },
     "metadata": {},
     "output_type": "display_data"
    },
    {
     "name": "stdout",
     "output_type": "stream",
     "text": [
      "Fitting 5 folds for each of 32 candidates, totalling 160 fits\n"
     ]
    },
    {
     "name": "stderr",
     "output_type": "stream",
     "text": [
      "\r",
      " 23%|██████████████████▊                                                             | 15/64 [20:15<1:14:54, 91.72s/it]"
     ]
    },
    {
     "data": {
      "application/vnd.jupyter.widget-view+json": {
       "model_id": "06b25f109a8f4ec29c5c359ee21e2048",
       "version_major": 2,
       "version_minor": 0
      },
      "text/plain": [
       "Computing transition probabilities:   0%|          | 0/348 [00:00<?, ?it/s]"
      ]
     },
     "metadata": {},
     "output_type": "display_data"
    },
    {
     "name": "stdout",
     "output_type": "stream",
     "text": [
      "Fitting 5 folds for each of 32 candidates, totalling 160 fits\n"
     ]
    },
    {
     "name": "stderr",
     "output_type": "stream",
     "text": [
      "\r",
      " 25%|████████████████████                                                            | 16/64 [21:51<1:14:22, 92.96s/it]"
     ]
    },
    {
     "data": {
      "application/vnd.jupyter.widget-view+json": {
       "model_id": "946c33d9578c4a0b84132510510c23cd",
       "version_major": 2,
       "version_minor": 0
      },
      "text/plain": [
       "Computing transition probabilities:   0%|          | 0/348 [00:00<?, ?it/s]"
      ]
     },
     "metadata": {},
     "output_type": "display_data"
    },
    {
     "name": "stdout",
     "output_type": "stream",
     "text": [
      "Fitting 5 folds for each of 32 candidates, totalling 160 fits\n"
     ]
    },
    {
     "name": "stderr",
     "output_type": "stream",
     "text": [
      "\r",
      " 27%|█████████████████████▎                                                          | 17/64 [23:01<1:07:21, 85.99s/it]"
     ]
    },
    {
     "data": {
      "application/vnd.jupyter.widget-view+json": {
       "model_id": "564c22149e7549a89be2f9c16e030f34",
       "version_major": 2,
       "version_minor": 0
      },
      "text/plain": [
       "Computing transition probabilities:   0%|          | 0/348 [00:00<?, ?it/s]"
      ]
     },
     "metadata": {},
     "output_type": "display_data"
    },
    {
     "name": "stdout",
     "output_type": "stream",
     "text": [
      "Fitting 5 folds for each of 32 candidates, totalling 160 fits\n"
     ]
    },
    {
     "name": "stderr",
     "output_type": "stream",
     "text": [
      "\r",
      " 28%|██████████████████████▌                                                         | 18/64 [24:14<1:02:49, 81.95s/it]"
     ]
    },
    {
     "data": {
      "application/vnd.jupyter.widget-view+json": {
       "model_id": "97f42717bbf9463c8aff6e422fb5fb86",
       "version_major": 2,
       "version_minor": 0
      },
      "text/plain": [
       "Computing transition probabilities:   0%|          | 0/348 [00:00<?, ?it/s]"
      ]
     },
     "metadata": {},
     "output_type": "display_data"
    },
    {
     "name": "stdout",
     "output_type": "stream",
     "text": [
      "Fitting 5 folds for each of 32 candidates, totalling 160 fits\n"
     ]
    },
    {
     "name": "stderr",
     "output_type": "stream",
     "text": [
      "\r",
      " 30%|████████████████████████▎                                                         | 19/64 [25:25<59:09, 78.88s/it]"
     ]
    },
    {
     "data": {
      "application/vnd.jupyter.widget-view+json": {
       "model_id": "ee3516474dde4255a24fcc081fa1ba56",
       "version_major": 2,
       "version_minor": 0
      },
      "text/plain": [
       "Computing transition probabilities:   0%|          | 0/348 [00:00<?, ?it/s]"
      ]
     },
     "metadata": {},
     "output_type": "display_data"
    },
    {
     "name": "stdout",
     "output_type": "stream",
     "text": [
      "Fitting 5 folds for each of 32 candidates, totalling 160 fits\n"
     ]
    },
    {
     "name": "stderr",
     "output_type": "stream",
     "text": [
      "\r",
      " 31%|█████████████████████████▋                                                        | 20/64 [26:44<57:46, 78.78s/it]"
     ]
    },
    {
     "data": {
      "application/vnd.jupyter.widget-view+json": {
       "model_id": "6c7e784b171b41a391035c3880d9489f",
       "version_major": 2,
       "version_minor": 0
      },
      "text/plain": [
       "Computing transition probabilities:   0%|          | 0/348 [00:00<?, ?it/s]"
      ]
     },
     "metadata": {},
     "output_type": "display_data"
    },
    {
     "name": "stdout",
     "output_type": "stream",
     "text": [
      "Fitting 5 folds for each of 32 candidates, totalling 160 fits\n"
     ]
    },
    {
     "name": "stderr",
     "output_type": "stream",
     "text": [
      "\r",
      " 33%|██████████████████████████▉                                                       | 21/64 [28:04<56:46, 79.22s/it]"
     ]
    },
    {
     "data": {
      "application/vnd.jupyter.widget-view+json": {
       "model_id": "c4daafe39d884cb38c7fc17a2cfee5f7",
       "version_major": 2,
       "version_minor": 0
      },
      "text/plain": [
       "Computing transition probabilities:   0%|          | 0/348 [00:00<?, ?it/s]"
      ]
     },
     "metadata": {},
     "output_type": "display_data"
    },
    {
     "name": "stdout",
     "output_type": "stream",
     "text": [
      "Fitting 5 folds for each of 32 candidates, totalling 160 fits\n"
     ]
    },
    {
     "name": "stderr",
     "output_type": "stream",
     "text": [
      "\r",
      " 34%|████████████████████████████▏                                                     | 22/64 [29:24<55:41, 79.55s/it]"
     ]
    },
    {
     "data": {
      "application/vnd.jupyter.widget-view+json": {
       "model_id": "b89d8043ba774df6baf85ca21005cb4a",
       "version_major": 2,
       "version_minor": 0
      },
      "text/plain": [
       "Computing transition probabilities:   0%|          | 0/348 [00:00<?, ?it/s]"
      ]
     },
     "metadata": {},
     "output_type": "display_data"
    },
    {
     "name": "stdout",
     "output_type": "stream",
     "text": [
      "Fitting 5 folds for each of 32 candidates, totalling 160 fits\n"
     ]
    },
    {
     "name": "stderr",
     "output_type": "stream",
     "text": [
      "\r",
      " 36%|█████████████████████████████▍                                                    | 23/64 [30:42<53:58, 79.00s/it]"
     ]
    },
    {
     "data": {
      "application/vnd.jupyter.widget-view+json": {
       "model_id": "314ab76c53e74694bc5268fb1c274b1c",
       "version_major": 2,
       "version_minor": 0
      },
      "text/plain": [
       "Computing transition probabilities:   0%|          | 0/348 [00:00<?, ?it/s]"
      ]
     },
     "metadata": {},
     "output_type": "display_data"
    },
    {
     "name": "stdout",
     "output_type": "stream",
     "text": [
      "Fitting 5 folds for each of 32 candidates, totalling 160 fits\n"
     ]
    },
    {
     "name": "stderr",
     "output_type": "stream",
     "text": [
      "\r",
      " 38%|██████████████████████████████▊                                                   | 24/64 [32:06<53:36, 80.40s/it]"
     ]
    },
    {
     "data": {
      "application/vnd.jupyter.widget-view+json": {
       "model_id": "7aaa2a6b3abe47799909c8b1f9e4f48c",
       "version_major": 2,
       "version_minor": 0
      },
      "text/plain": [
       "Computing transition probabilities:   0%|          | 0/348 [00:00<?, ?it/s]"
      ]
     },
     "metadata": {},
     "output_type": "display_data"
    },
    {
     "name": "stdout",
     "output_type": "stream",
     "text": [
      "Fitting 5 folds for each of 32 candidates, totalling 160 fits\n"
     ]
    },
    {
     "name": "stderr",
     "output_type": "stream",
     "text": [
      "\r",
      " 39%|████████████████████████████████                                                  | 25/64 [33:41<55:08, 84.83s/it]"
     ]
    },
    {
     "data": {
      "application/vnd.jupyter.widget-view+json": {
       "model_id": "9565cdc34fc24cda9f8a8ae0697135f6",
       "version_major": 2,
       "version_minor": 0
      },
      "text/plain": [
       "Computing transition probabilities:   0%|          | 0/348 [00:00<?, ?it/s]"
      ]
     },
     "metadata": {},
     "output_type": "display_data"
    },
    {
     "name": "stdout",
     "output_type": "stream",
     "text": [
      "Fitting 5 folds for each of 32 candidates, totalling 160 fits\n"
     ]
    },
    {
     "name": "stderr",
     "output_type": "stream",
     "text": [
      "\r",
      " 41%|█████████████████████████████████▎                                                | 26/64 [35:11<54:40, 86.33s/it]"
     ]
    },
    {
     "data": {
      "application/vnd.jupyter.widget-view+json": {
       "model_id": "52dfacf09c8a4128b472e3dce68236cf",
       "version_major": 2,
       "version_minor": 0
      },
      "text/plain": [
       "Computing transition probabilities:   0%|          | 0/348 [00:00<?, ?it/s]"
      ]
     },
     "metadata": {},
     "output_type": "display_data"
    },
    {
     "name": "stdout",
     "output_type": "stream",
     "text": [
      "Fitting 5 folds for each of 32 candidates, totalling 160 fits\n"
     ]
    },
    {
     "name": "stderr",
     "output_type": "stream",
     "text": [
      "\r",
      " 42%|██████████████████████████████████▌                                               | 27/64 [36:42<54:11, 87.88s/it]"
     ]
    },
    {
     "data": {
      "application/vnd.jupyter.widget-view+json": {
       "model_id": "21211ecf2c454c35893290f2f128cec4",
       "version_major": 2,
       "version_minor": 0
      },
      "text/plain": [
       "Computing transition probabilities:   0%|          | 0/348 [00:00<?, ?it/s]"
      ]
     },
     "metadata": {},
     "output_type": "display_data"
    },
    {
     "name": "stdout",
     "output_type": "stream",
     "text": [
      "Fitting 5 folds for each of 32 candidates, totalling 160 fits\n"
     ]
    },
    {
     "name": "stderr",
     "output_type": "stream",
     "text": [
      "\r",
      " 44%|███████████████████████████████████▉                                              | 28/64 [38:15<53:31, 89.20s/it]"
     ]
    },
    {
     "data": {
      "application/vnd.jupyter.widget-view+json": {
       "model_id": "a324932e2a8c4b55a6ce37368355498d",
       "version_major": 2,
       "version_minor": 0
      },
      "text/plain": [
       "Computing transition probabilities:   0%|          | 0/348 [00:00<?, ?it/s]"
      ]
     },
     "metadata": {},
     "output_type": "display_data"
    },
    {
     "name": "stdout",
     "output_type": "stream",
     "text": [
      "Fitting 5 folds for each of 32 candidates, totalling 160 fits\n"
     ]
    },
    {
     "name": "stderr",
     "output_type": "stream",
     "text": [
      "\r",
      " 45%|█████████████████████████████████████▏                                            | 29/64 [39:53<53:41, 92.04s/it]"
     ]
    },
    {
     "data": {
      "application/vnd.jupyter.widget-view+json": {
       "model_id": "4768e3be954f428cbc4f518b89e6ea27",
       "version_major": 2,
       "version_minor": 0
      },
      "text/plain": [
       "Computing transition probabilities:   0%|          | 0/348 [00:00<?, ?it/s]"
      ]
     },
     "metadata": {},
     "output_type": "display_data"
    },
    {
     "name": "stdout",
     "output_type": "stream",
     "text": [
      "Fitting 5 folds for each of 32 candidates, totalling 160 fits\n"
     ]
    },
    {
     "name": "stderr",
     "output_type": "stream",
     "text": [
      "\r",
      " 47%|██████████████████████████████████████▍                                           | 30/64 [41:32<53:21, 94.16s/it]"
     ]
    },
    {
     "data": {
      "application/vnd.jupyter.widget-view+json": {
       "model_id": "5c6540ae49aa4e22b1fc9d31c180b65b",
       "version_major": 2,
       "version_minor": 0
      },
      "text/plain": [
       "Computing transition probabilities:   0%|          | 0/348 [00:00<?, ?it/s]"
      ]
     },
     "metadata": {},
     "output_type": "display_data"
    },
    {
     "name": "stdout",
     "output_type": "stream",
     "text": [
      "Fitting 5 folds for each of 32 candidates, totalling 160 fits\n"
     ]
    },
    {
     "name": "stderr",
     "output_type": "stream",
     "text": [
      "\r",
      " 48%|███████████████████████████████████████▋                                          | 31/64 [43:10<52:24, 95.28s/it]"
     ]
    },
    {
     "data": {
      "application/vnd.jupyter.widget-view+json": {
       "model_id": "84812c9f55e4498586545501816ce357",
       "version_major": 2,
       "version_minor": 0
      },
      "text/plain": [
       "Computing transition probabilities:   0%|          | 0/348 [00:00<?, ?it/s]"
      ]
     },
     "metadata": {},
     "output_type": "display_data"
    },
    {
     "name": "stdout",
     "output_type": "stream",
     "text": [
      "Fitting 5 folds for each of 32 candidates, totalling 160 fits\n"
     ]
    },
    {
     "name": "stderr",
     "output_type": "stream",
     "text": [
      "\r",
      " 50%|█████████████████████████████████████████                                         | 32/64 [44:48<51:16, 96.14s/it]"
     ]
    },
    {
     "data": {
      "application/vnd.jupyter.widget-view+json": {
       "model_id": "6a031d07c80a4224bb5f1e052deca90a",
       "version_major": 2,
       "version_minor": 0
      },
      "text/plain": [
       "Computing transition probabilities:   0%|          | 0/348 [00:00<?, ?it/s]"
      ]
     },
     "metadata": {},
     "output_type": "display_data"
    },
    {
     "name": "stdout",
     "output_type": "stream",
     "text": [
      "Fitting 5 folds for each of 32 candidates, totalling 160 fits\n"
     ]
    },
    {
     "name": "stderr",
     "output_type": "stream",
     "text": [
      "\r",
      " 52%|██████████████████████████████████████████▎                                       | 33/64 [46:03<46:18, 89.62s/it]"
     ]
    },
    {
     "data": {
      "application/vnd.jupyter.widget-view+json": {
       "model_id": "9f33c5f0fc934c5e97199dd378cb991d",
       "version_major": 2,
       "version_minor": 0
      },
      "text/plain": [
       "Computing transition probabilities:   0%|          | 0/348 [00:00<?, ?it/s]"
      ]
     },
     "metadata": {},
     "output_type": "display_data"
    },
    {
     "name": "stdout",
     "output_type": "stream",
     "text": [
      "Fitting 5 folds for each of 32 candidates, totalling 160 fits\n"
     ]
    },
    {
     "name": "stderr",
     "output_type": "stream",
     "text": [
      "\r",
      " 53%|███████████████████████████████████████████▌                                      | 34/64 [47:18<42:38, 85.30s/it]"
     ]
    },
    {
     "data": {
      "application/vnd.jupyter.widget-view+json": {
       "model_id": "326298a028c949ef8fefdb38abc0239a",
       "version_major": 2,
       "version_minor": 0
      },
      "text/plain": [
       "Computing transition probabilities:   0%|          | 0/348 [00:00<?, ?it/s]"
      ]
     },
     "metadata": {},
     "output_type": "display_data"
    },
    {
     "name": "stdout",
     "output_type": "stream",
     "text": [
      "Fitting 5 folds for each of 32 candidates, totalling 160 fits\n"
     ]
    },
    {
     "name": "stderr",
     "output_type": "stream",
     "text": [
      "\r",
      " 55%|████████████████████████████████████████████▊                                     | 35/64 [48:33<39:41, 82.12s/it]"
     ]
    },
    {
     "data": {
      "application/vnd.jupyter.widget-view+json": {
       "model_id": "e5d43f5fc65a4244b7ef13f3c403042b",
       "version_major": 2,
       "version_minor": 0
      },
      "text/plain": [
       "Computing transition probabilities:   0%|          | 0/348 [00:00<?, ?it/s]"
      ]
     },
     "metadata": {},
     "output_type": "display_data"
    },
    {
     "name": "stdout",
     "output_type": "stream",
     "text": [
      "Fitting 5 folds for each of 32 candidates, totalling 160 fits\n"
     ]
    },
    {
     "name": "stderr",
     "output_type": "stream",
     "text": [
      "\r",
      " 56%|██████████████████████████████████████████████▏                                   | 36/64 [49:49<37:30, 80.36s/it]"
     ]
    },
    {
     "data": {
      "application/vnd.jupyter.widget-view+json": {
       "model_id": "4001b2e737354bb282c74d2507a9bc0c",
       "version_major": 2,
       "version_minor": 0
      },
      "text/plain": [
       "Computing transition probabilities:   0%|          | 0/348 [00:00<?, ?it/s]"
      ]
     },
     "metadata": {},
     "output_type": "display_data"
    },
    {
     "name": "stdout",
     "output_type": "stream",
     "text": [
      "Fitting 5 folds for each of 32 candidates, totalling 160 fits\n"
     ]
    },
    {
     "name": "stderr",
     "output_type": "stream",
     "text": [
      "\r",
      " 58%|███████████████████████████████████████████████▍                                  | 37/64 [51:09<36:07, 80.30s/it]"
     ]
    },
    {
     "data": {
      "application/vnd.jupyter.widget-view+json": {
       "model_id": "a948dae63961407e84f83300decadef5",
       "version_major": 2,
       "version_minor": 0
      },
      "text/plain": [
       "Computing transition probabilities:   0%|          | 0/348 [00:00<?, ?it/s]"
      ]
     },
     "metadata": {},
     "output_type": "display_data"
    },
    {
     "name": "stdout",
     "output_type": "stream",
     "text": [
      "Fitting 5 folds for each of 32 candidates, totalling 160 fits\n"
     ]
    },
    {
     "name": "stderr",
     "output_type": "stream",
     "text": [
      "\r",
      " 59%|████████████████████████████████████████████████▋                                 | 38/64 [52:29<34:42, 80.10s/it]"
     ]
    },
    {
     "data": {
      "application/vnd.jupyter.widget-view+json": {
       "model_id": "77aec956bd9c42658a8e9471dbe329a2",
       "version_major": 2,
       "version_minor": 0
      },
      "text/plain": [
       "Computing transition probabilities:   0%|          | 0/348 [00:00<?, ?it/s]"
      ]
     },
     "metadata": {},
     "output_type": "display_data"
    },
    {
     "name": "stdout",
     "output_type": "stream",
     "text": [
      "Fitting 5 folds for each of 32 candidates, totalling 160 fits\n"
     ]
    },
    {
     "name": "stderr",
     "output_type": "stream",
     "text": [
      "\r",
      " 61%|█████████████████████████████████████████████████▉                                | 39/64 [53:49<33:25, 80.21s/it]"
     ]
    },
    {
     "data": {
      "application/vnd.jupyter.widget-view+json": {
       "model_id": "01a4128f41e346f9bd474fde54379e81",
       "version_major": 2,
       "version_minor": 0
      },
      "text/plain": [
       "Computing transition probabilities:   0%|          | 0/348 [00:00<?, ?it/s]"
      ]
     },
     "metadata": {},
     "output_type": "display_data"
    },
    {
     "name": "stdout",
     "output_type": "stream",
     "text": [
      "Fitting 5 folds for each of 32 candidates, totalling 160 fits\n"
     ]
    },
    {
     "name": "stderr",
     "output_type": "stream",
     "text": [
      "\r",
      " 62%|███████████████████████████████████████████████████▎                              | 40/64 [55:09<31:58, 79.93s/it]"
     ]
    },
    {
     "data": {
      "application/vnd.jupyter.widget-view+json": {
       "model_id": "40353eae334a445cb6ffee78bad3a1ee",
       "version_major": 2,
       "version_minor": 0
      },
      "text/plain": [
       "Computing transition probabilities:   0%|          | 0/348 [00:00<?, ?it/s]"
      ]
     },
     "metadata": {},
     "output_type": "display_data"
    },
    {
     "name": "stdout",
     "output_type": "stream",
     "text": [
      "Fitting 5 folds for each of 32 candidates, totalling 160 fits\n"
     ]
    },
    {
     "name": "stderr",
     "output_type": "stream",
     "text": [
      "\r",
      " 64%|████████████████████████████████████████████████████▌                             | 41/64 [56:56<33:48, 88.20s/it]"
     ]
    },
    {
     "data": {
      "application/vnd.jupyter.widget-view+json": {
       "model_id": "d82aa8c28d124e819e6e16c75938bc3f",
       "version_major": 2,
       "version_minor": 0
      },
      "text/plain": [
       "Computing transition probabilities:   0%|          | 0/348 [00:00<?, ?it/s]"
      ]
     },
     "metadata": {},
     "output_type": "display_data"
    },
    {
     "name": "stdout",
     "output_type": "stream",
     "text": [
      "Fitting 5 folds for each of 32 candidates, totalling 160 fits\n"
     ]
    },
    {
     "name": "stderr",
     "output_type": "stream",
     "text": [
      "\r",
      " 66%|█████████████████████████████████████████████████████▊                            | 42/64 [58:31<33:02, 90.10s/it]"
     ]
    },
    {
     "data": {
      "application/vnd.jupyter.widget-view+json": {
       "model_id": "fe79b93c43f94cb99028618d4742e13f",
       "version_major": 2,
       "version_minor": 0
      },
      "text/plain": [
       "Computing transition probabilities:   0%|          | 0/348 [00:00<?, ?it/s]"
      ]
     },
     "metadata": {},
     "output_type": "display_data"
    },
    {
     "name": "stdout",
     "output_type": "stream",
     "text": [
      "Fitting 5 folds for each of 32 candidates, totalling 160 fits\n"
     ]
    },
    {
     "name": "stderr",
     "output_type": "stream",
     "text": [
      "\r",
      " 67%|█████████████████████████████████████████████████████▊                          | 43/64 [1:00:03<31:44, 90.69s/it]"
     ]
    },
    {
     "data": {
      "application/vnd.jupyter.widget-view+json": {
       "model_id": "69fb864c8c414adf91d57d359035d8ee",
       "version_major": 2,
       "version_minor": 0
      },
      "text/plain": [
       "Computing transition probabilities:   0%|          | 0/348 [00:00<?, ?it/s]"
      ]
     },
     "metadata": {},
     "output_type": "display_data"
    },
    {
     "name": "stdout",
     "output_type": "stream",
     "text": [
      "Fitting 5 folds for each of 32 candidates, totalling 160 fits\n"
     ]
    },
    {
     "name": "stderr",
     "output_type": "stream",
     "text": [
      "\r",
      " 69%|███████████████████████████████████████████████████████                         | 44/64 [1:01:37<30:34, 91.74s/it]"
     ]
    },
    {
     "data": {
      "application/vnd.jupyter.widget-view+json": {
       "model_id": "116d719dd1e247a78ef4c55ec2cb63f0",
       "version_major": 2,
       "version_minor": 0
      },
      "text/plain": [
       "Computing transition probabilities:   0%|          | 0/348 [00:00<?, ?it/s]"
      ]
     },
     "metadata": {},
     "output_type": "display_data"
    },
    {
     "name": "stdout",
     "output_type": "stream",
     "text": [
      "Fitting 5 folds for each of 32 candidates, totalling 160 fits\n"
     ]
    },
    {
     "name": "stderr",
     "output_type": "stream",
     "text": [
      "\r",
      " 70%|████████████████████████████████████████████████████████▎                       | 45/64 [1:03:29<30:58, 97.83s/it]"
     ]
    },
    {
     "data": {
      "application/vnd.jupyter.widget-view+json": {
       "model_id": "9ff57be12ac542a1a12365788622a897",
       "version_major": 2,
       "version_minor": 0
      },
      "text/plain": [
       "Computing transition probabilities:   0%|          | 0/348 [00:00<?, ?it/s]"
      ]
     },
     "metadata": {},
     "output_type": "display_data"
    },
    {
     "name": "stdout",
     "output_type": "stream",
     "text": [
      "Fitting 5 folds for each of 32 candidates, totalling 160 fits\n"
     ]
    },
    {
     "name": "stderr",
     "output_type": "stream",
     "text": [
      "\r",
      " 72%|█████████████████████████████████████████████████████████▌                      | 46/64 [1:05:12<29:50, 99.48s/it]"
     ]
    },
    {
     "data": {
      "application/vnd.jupyter.widget-view+json": {
       "model_id": "c5cb614c2fd343b2b0e9476785f66b98",
       "version_major": 2,
       "version_minor": 0
      },
      "text/plain": [
       "Computing transition probabilities:   0%|          | 0/348 [00:00<?, ?it/s]"
      ]
     },
     "metadata": {},
     "output_type": "display_data"
    },
    {
     "name": "stdout",
     "output_type": "stream",
     "text": [
      "Fitting 5 folds for each of 32 candidates, totalling 160 fits\n"
     ]
    },
    {
     "name": "stderr",
     "output_type": "stream",
     "text": [
      "\r",
      " 73%|██████████████████████████████████████████████████████████                     | 47/64 [1:06:54<28:22, 100.17s/it]"
     ]
    },
    {
     "data": {
      "application/vnd.jupyter.widget-view+json": {
       "model_id": "25038ed6e21e4c6aa9d5c6ce41e9c0db",
       "version_major": 2,
       "version_minor": 0
      },
      "text/plain": [
       "Computing transition probabilities:   0%|          | 0/348 [00:00<?, ?it/s]"
      ]
     },
     "metadata": {},
     "output_type": "display_data"
    },
    {
     "name": "stdout",
     "output_type": "stream",
     "text": [
      "Fitting 5 folds for each of 32 candidates, totalling 160 fits\n"
     ]
    },
    {
     "name": "stderr",
     "output_type": "stream",
     "text": [
      "\r",
      " 75%|███████████████████████████████████████████████████████████▎                   | 48/64 [1:08:36<26:50, 100.67s/it]"
     ]
    },
    {
     "data": {
      "application/vnd.jupyter.widget-view+json": {
       "model_id": "1bbd283e76134ecdb9c02bc4b700109c",
       "version_major": 2,
       "version_minor": 0
      },
      "text/plain": [
       "Computing transition probabilities:   0%|          | 0/348 [00:00<?, ?it/s]"
      ]
     },
     "metadata": {},
     "output_type": "display_data"
    },
    {
     "name": "stdout",
     "output_type": "stream",
     "text": [
      "Fitting 5 folds for each of 32 candidates, totalling 160 fits\n"
     ]
    },
    {
     "name": "stderr",
     "output_type": "stream",
     "text": [
      "\r",
      " 77%|█████████████████████████████████████████████████████████████▎                  | 49/64 [1:09:49<23:07, 92.50s/it]"
     ]
    },
    {
     "data": {
      "application/vnd.jupyter.widget-view+json": {
       "model_id": "3e2f9df52aec494c9eae73a4cd687480",
       "version_major": 2,
       "version_minor": 0
      },
      "text/plain": [
       "Computing transition probabilities:   0%|          | 0/348 [00:00<?, ?it/s]"
      ]
     },
     "metadata": {},
     "output_type": "display_data"
    },
    {
     "name": "stdout",
     "output_type": "stream",
     "text": [
      "Fitting 5 folds for each of 32 candidates, totalling 160 fits\n"
     ]
    },
    {
     "name": "stderr",
     "output_type": "stream",
     "text": [
      "\r",
      " 78%|██████████████████████████████████████████████████████████████▌                 | 50/64 [1:11:09<20:42, 88.76s/it]"
     ]
    },
    {
     "data": {
      "application/vnd.jupyter.widget-view+json": {
       "model_id": "e8acfb8702b14a0094b54902055c33ad",
       "version_major": 2,
       "version_minor": 0
      },
      "text/plain": [
       "Computing transition probabilities:   0%|          | 0/348 [00:00<?, ?it/s]"
      ]
     },
     "metadata": {},
     "output_type": "display_data"
    },
    {
     "name": "stdout",
     "output_type": "stream",
     "text": [
      "Fitting 5 folds for each of 32 candidates, totalling 160 fits\n"
     ]
    },
    {
     "name": "stderr",
     "output_type": "stream",
     "text": [
      "\r",
      " 80%|███████████████████████████████████████████████████████████████▊                | 51/64 [1:12:31<18:48, 86.78s/it]"
     ]
    },
    {
     "data": {
      "application/vnd.jupyter.widget-view+json": {
       "model_id": "18a18fcc13f84bc5b1dba5aa346cd4d8",
       "version_major": 2,
       "version_minor": 0
      },
      "text/plain": [
       "Computing transition probabilities:   0%|          | 0/348 [00:00<?, ?it/s]"
      ]
     },
     "metadata": {},
     "output_type": "display_data"
    },
    {
     "name": "stdout",
     "output_type": "stream",
     "text": [
      "Fitting 5 folds for each of 32 candidates, totalling 160 fits\n"
     ]
    },
    {
     "name": "stderr",
     "output_type": "stream",
     "text": [
      "\r",
      " 81%|█████████████████████████████████████████████████████████████████               | 52/64 [1:13:53<17:02, 85.18s/it]"
     ]
    },
    {
     "data": {
      "application/vnd.jupyter.widget-view+json": {
       "model_id": "001c44c023e54f31a8e913e77159f2bb",
       "version_major": 2,
       "version_minor": 0
      },
      "text/plain": [
       "Computing transition probabilities:   0%|          | 0/348 [00:00<?, ?it/s]"
      ]
     },
     "metadata": {},
     "output_type": "display_data"
    },
    {
     "name": "stdout",
     "output_type": "stream",
     "text": [
      "Fitting 5 folds for each of 32 candidates, totalling 160 fits\n"
     ]
    },
    {
     "name": "stderr",
     "output_type": "stream",
     "text": [
      "\r",
      " 83%|██████████████████████████████████████████████████████████████████▎             | 53/64 [1:15:16<15:30, 84.59s/it]"
     ]
    },
    {
     "data": {
      "application/vnd.jupyter.widget-view+json": {
       "model_id": "47831a98fd124c57bfebc1d4ba7d7825",
       "version_major": 2,
       "version_minor": 0
      },
      "text/plain": [
       "Computing transition probabilities:   0%|          | 0/348 [00:00<?, ?it/s]"
      ]
     },
     "metadata": {},
     "output_type": "display_data"
    },
    {
     "name": "stdout",
     "output_type": "stream",
     "text": [
      "Fitting 5 folds for each of 32 candidates, totalling 160 fits\n"
     ]
    },
    {
     "name": "stderr",
     "output_type": "stream",
     "text": [
      "\r",
      " 84%|███████████████████████████████████████████████████████████████████▌            | 54/64 [1:16:34<13:45, 82.60s/it]"
     ]
    },
    {
     "data": {
      "application/vnd.jupyter.widget-view+json": {
       "model_id": "805f40d179fc4781a4f08cc421ab4578",
       "version_major": 2,
       "version_minor": 0
      },
      "text/plain": [
       "Computing transition probabilities:   0%|          | 0/348 [00:00<?, ?it/s]"
      ]
     },
     "metadata": {},
     "output_type": "display_data"
    },
    {
     "name": "stdout",
     "output_type": "stream",
     "text": [
      "Fitting 5 folds for each of 32 candidates, totalling 160 fits\n"
     ]
    },
    {
     "name": "stderr",
     "output_type": "stream",
     "text": [
      "\r",
      " 86%|████████████████████████████████████████████████████████████████████▊           | 55/64 [1:17:50<12:06, 80.73s/it]"
     ]
    },
    {
     "data": {
      "application/vnd.jupyter.widget-view+json": {
       "model_id": "d9ae204bbfe94346ae949b7755f8af88",
       "version_major": 2,
       "version_minor": 0
      },
      "text/plain": [
       "Computing transition probabilities:   0%|          | 0/348 [00:00<?, ?it/s]"
      ]
     },
     "metadata": {},
     "output_type": "display_data"
    },
    {
     "name": "stdout",
     "output_type": "stream",
     "text": [
      "Fitting 5 folds for each of 32 candidates, totalling 160 fits\n"
     ]
    },
    {
     "name": "stderr",
     "output_type": "stream",
     "text": [
      "\r",
      " 88%|██████████████████████████████████████████████████████████████████████          | 56/64 [1:19:07<10:35, 79.42s/it]"
     ]
    },
    {
     "data": {
      "application/vnd.jupyter.widget-view+json": {
       "model_id": "897adf017a1e4a04aaa868194dbeaabc",
       "version_major": 2,
       "version_minor": 0
      },
      "text/plain": [
       "Computing transition probabilities:   0%|          | 0/348 [00:00<?, ?it/s]"
      ]
     },
     "metadata": {},
     "output_type": "display_data"
    },
    {
     "name": "stdout",
     "output_type": "stream",
     "text": [
      "Fitting 5 folds for each of 32 candidates, totalling 160 fits\n"
     ]
    },
    {
     "name": "stderr",
     "output_type": "stream",
     "text": [
      "\r",
      " 89%|███████████████████████████████████████████████████████████████████████▎        | 57/64 [1:20:40<09:44, 83.50s/it]"
     ]
    },
    {
     "data": {
      "application/vnd.jupyter.widget-view+json": {
       "model_id": "bb1e19200c0841cda5fb7e1c6edbc59c",
       "version_major": 2,
       "version_minor": 0
      },
      "text/plain": [
       "Computing transition probabilities:   0%|          | 0/348 [00:00<?, ?it/s]"
      ]
     },
     "metadata": {},
     "output_type": "display_data"
    },
    {
     "name": "stdout",
     "output_type": "stream",
     "text": [
      "Fitting 5 folds for each of 32 candidates, totalling 160 fits\n"
     ]
    },
    {
     "name": "stderr",
     "output_type": "stream",
     "text": [
      "\r",
      " 91%|████████████████████████████████████████████████████████████████████████▌       | 58/64 [1:22:12<08:36, 86.14s/it]"
     ]
    },
    {
     "data": {
      "application/vnd.jupyter.widget-view+json": {
       "model_id": "89ccff7d6f824479ab5023ed1231304e",
       "version_major": 2,
       "version_minor": 0
      },
      "text/plain": [
       "Computing transition probabilities:   0%|          | 0/348 [00:00<?, ?it/s]"
      ]
     },
     "metadata": {},
     "output_type": "display_data"
    },
    {
     "name": "stdout",
     "output_type": "stream",
     "text": [
      "Fitting 5 folds for each of 32 candidates, totalling 160 fits\n"
     ]
    },
    {
     "name": "stderr",
     "output_type": "stream",
     "text": [
      "\r",
      " 92%|█████████████████████████████████████████████████████████████████████████▊      | 59/64 [1:23:45<07:21, 88.25s/it]"
     ]
    },
    {
     "data": {
      "application/vnd.jupyter.widget-view+json": {
       "model_id": "957ae584cb5841a08b0d4a7ccfdac6a9",
       "version_major": 2,
       "version_minor": 0
      },
      "text/plain": [
       "Computing transition probabilities:   0%|          | 0/348 [00:00<?, ?it/s]"
      ]
     },
     "metadata": {},
     "output_type": "display_data"
    },
    {
     "name": "stdout",
     "output_type": "stream",
     "text": [
      "Fitting 5 folds for each of 32 candidates, totalling 160 fits\n"
     ]
    },
    {
     "name": "stderr",
     "output_type": "stream",
     "text": [
      "\r",
      " 94%|███████████████████████████████████████████████████████████████████████████     | 60/64 [1:25:18<05:57, 89.49s/it]"
     ]
    },
    {
     "data": {
      "application/vnd.jupyter.widget-view+json": {
       "model_id": "346b8fec9f474db091d9e04374dcab4b",
       "version_major": 2,
       "version_minor": 0
      },
      "text/plain": [
       "Computing transition probabilities:   0%|          | 0/348 [00:00<?, ?it/s]"
      ]
     },
     "metadata": {},
     "output_type": "display_data"
    },
    {
     "name": "stdout",
     "output_type": "stream",
     "text": [
      "Fitting 5 folds for each of 32 candidates, totalling 160 fits\n"
     ]
    },
    {
     "name": "stderr",
     "output_type": "stream",
     "text": [
      "\r",
      " 95%|████████████████████████████████████████████████████████████████████████████▎   | 61/64 [1:26:58<04:37, 92.66s/it]"
     ]
    },
    {
     "data": {
      "application/vnd.jupyter.widget-view+json": {
       "model_id": "10440a0e12ca4772ab414e48e730f63b",
       "version_major": 2,
       "version_minor": 0
      },
      "text/plain": [
       "Computing transition probabilities:   0%|          | 0/348 [00:00<?, ?it/s]"
      ]
     },
     "metadata": {},
     "output_type": "display_data"
    },
    {
     "name": "stdout",
     "output_type": "stream",
     "text": [
      "Fitting 5 folds for each of 32 candidates, totalling 160 fits\n"
     ]
    },
    {
     "name": "stderr",
     "output_type": "stream",
     "text": [
      "\r",
      " 97%|█████████████████████████████████████████████████████████████████████████████▌  | 62/64 [1:28:37<03:09, 94.57s/it]"
     ]
    },
    {
     "data": {
      "application/vnd.jupyter.widget-view+json": {
       "model_id": "9066367aea0d4ca29b986448168bc658",
       "version_major": 2,
       "version_minor": 0
      },
      "text/plain": [
       "Computing transition probabilities:   0%|          | 0/348 [00:00<?, ?it/s]"
      ]
     },
     "metadata": {},
     "output_type": "display_data"
    },
    {
     "name": "stdout",
     "output_type": "stream",
     "text": [
      "Fitting 5 folds for each of 32 candidates, totalling 160 fits\n"
     ]
    },
    {
     "name": "stderr",
     "output_type": "stream",
     "text": [
      "\r",
      " 98%|██████████████████████████████████████████████████████████████████████████████▊ | 63/64 [1:30:16<01:36, 96.01s/it]"
     ]
    },
    {
     "data": {
      "application/vnd.jupyter.widget-view+json": {
       "model_id": "c1ac3005649143a7a2ce42d29a20d618",
       "version_major": 2,
       "version_minor": 0
      },
      "text/plain": [
       "Computing transition probabilities:   0%|          | 0/348 [00:00<?, ?it/s]"
      ]
     },
     "metadata": {},
     "output_type": "display_data"
    },
    {
     "name": "stdout",
     "output_type": "stream",
     "text": [
      "Fitting 5 folds for each of 32 candidates, totalling 160 fits\n"
     ]
    },
    {
     "name": "stderr",
     "output_type": "stream",
     "text": [
      "100%|████████████████████████████████████████████████████████████████████████████████| 64/64 [1:31:57<00:00, 86.21s/it]\n"
     ]
    }
   ],
   "source": [
    "import itertools\n",
    "from tqdm import tqdm\n",
    "\n",
    "param_grid_RF = {\n",
    "    'classifier__n_estimators': [100, 200],\n",
    "    'classifier__max_depth': [5, 10],\n",
    "    'classifier__min_samples_split': [2, 5],\n",
    "    'classifier__min_samples_leaf': [2, 4],\n",
    "    'classifier__criterion' : ['gini', 'entropy']\n",
    "}\n",
    "\n",
    "grid_search_RF = mod.GridSearchCV(pipeline_RF, \n",
    "                                   param_grid_RF, \n",
    "                                   cv=5,\n",
    "                                   verbose=1,\n",
    "                                   scoring='f1_macro')\n",
    "\n",
    "bestScoreTest = 0\n",
    "bestScoreGrid = 0\n",
    "bestParamsModel = {}\n",
    "bestParamsN2V = \"\"\n",
    "dataUnlabeledFinal = pd.DataFrame()\n",
    "\n",
    "#Here are the parameters that I will tuneusing Node2Vec.\n",
    "dimensionsList = [15, 20]\n",
    "walkLengthList = [40, 50]\n",
    "numWalksList = [150, 250]\n",
    "workersList = [5,6]\n",
    "pList = [0.5, 0.7]\n",
    "qList = [2,3]\n",
    "\n",
    "#I will create combinations of these parameters without changing the order of themn.\n",
    "combinations = list(itertools.product(dimensionsList, walkLengthList, numWalksList, workersList, pList, qList))\n",
    "\n",
    "#Now I will try each combination to create a different Node2Vec dataframe.\n",
    "for i, j, k, w, p, q in tqdm(combinations):\n",
    "    n2v = Node2Vec(myEdgeList, dimensions=i, walk_length=j, num_walks=k, workers=w, p = p, q = q)\n",
    "    n2vModel = n2v.fit(window=4, min_count=1, batch_words=4)\n",
    "\n",
    "    n2vDic = dict()\n",
    "    for node in myEdgeList.nodes():\n",
    "        n2vDic[node] = n2vModel.wv[str(node)]\n",
    "    dfN2v = pd.DataFrame(n2vDic).T\n",
    "    dfN2v.index = pd.to_numeric(dfN2v.index)\n",
    "    newDF = pd.merge(data, dfN2v, left_index=True, right_index=True)\n",
    "    merged_df = newDF.merge(rolx_feats, left_index=True, right_index=True)\n",
    "\n",
    "    merged_df.columns = [\"Col_\"+str(i) for i in range(merged_df.shape[1])]\n",
    "\n",
    "    dataLabeled = merged_df[merged_df.Col_0 != \"unknown\"]\n",
    "    dataUnlabeled = merged_df[merged_df.Col_0 == \"unknown\"].drop(\"Col_0\", axis = 1)\n",
    "\n",
    "    le = pre.LabelEncoder()\n",
    "\n",
    "    X = dataLabeled.drop(\"Col_0\", axis = 1)\n",
    "    y = dataLabeled.Col_0\n",
    "\n",
    "    y_labeled = le.fit_transform(y)\n",
    "\n",
    "    X_train, X_test, y_train, y_test = mod.train_test_split(X, y_labeled, test_size=0.33, random_state=42)\n",
    "\n",
    "    grid_search_RF.fit(X_train, y_train)\n",
    "\n",
    "    y_pred = grid_search_RF.predict(X_test)\n",
    "    score = met.f1_score(y_test, y_pred, average=\"macro\")\n",
    "\n",
    "    #I will keep the information of the best performing combination to predict later on.\n",
    "    if score > bestScoreTest:\n",
    "        bestScoreTest = score\n",
    "        bestScoreGrid = grid_search_RF.best_score_\n",
    "        bestParamsModel = grid_search_RF.best_params_\n",
    "        dataUnlabeledFinal = dataUnlabeled\n",
    "        bestParamsN2V = (f\"\\ndimensions={i}, walk_length={j}, num_walks={k}, workers={w}, p={p}, q={q}\\n\")"
   ]
  },
  {
   "cell_type": "code",
   "execution_count": 52,
   "id": "7c3e9b36",
   "metadata": {},
   "outputs": [
    {
     "name": "stdout",
     "output_type": "stream",
     "text": [
      "Best parameters of the model: \n",
      "criterion : entropy\n",
      "max_depth : 5\n",
      "min_samples_leaf : 2\n",
      "min_samples_split : 5\n",
      "n_estimators : 100\n",
      "\n",
      "\n",
      "Best parameters of the N2W:  \n",
      "dimensions=20, walk_length=40, num_walks=150, workers=6, p=0.5, q=2\n",
      "\n",
      "Best score from the grid:  0.9665425633190339\n",
      "\n",
      "F1 Score of the test predictions:  0.9778363343580736\n"
     ]
    }
   ],
   "source": [
    "print(\"Best parameters of the model: \")\n",
    "for i,j in bestParamsModel.items():\n",
    "    print(i[12:], \":\", j)\n",
    "print(\"\\n\")\n",
    "print(\"Best parameters of the N2W: \", bestParamsN2V)\n",
    "print(\"Best score from the grid: \", bestScoreGrid)\n",
    "print(\"\\nF1 Score of the test predictions: \", bestScoreTest)"
   ]
  },
  {
   "cell_type": "markdown",
   "id": "8a1fedd2",
   "metadata": {},
   "source": [
    "Exporting the results of the Random Forest Model."
   ]
  },
  {
   "cell_type": "code",
   "execution_count": 53,
   "id": "1c808340",
   "metadata": {},
   "outputs": [],
   "source": [
    "data_unknown_RF = data[data.label == \"unknown\"].drop(\"label\", axis = 1)\n",
    "data_unknown_RF[\"label\"] = le.inverse_transform(grid_search_RF.predict(dataUnlabeledFinal))\n",
    "data_unknown_RF = data_unknown_RF[[\"label\"]]"
   ]
  },
  {
   "cell_type": "code",
   "execution_count": 54,
   "id": "d26065c1",
   "metadata": {},
   "outputs": [],
   "source": [
    "data_unknown_RF.to_csv('predictions_RF.txt', index_label=\"stdid\", sep=' ')"
   ]
  },
  {
   "cell_type": "markdown",
   "id": "fd316af7",
   "metadata": {},
   "source": [
    "I will try to tune Node2Vec parameters using XGBClassifier too."
   ]
  },
  {
   "cell_type": "code",
   "execution_count": 55,
   "id": "26a8bcda",
   "metadata": {},
   "outputs": [
    {
     "name": "stderr",
     "output_type": "stream",
     "text": [
      "\r",
      "  0%|                                                                                           | 0/64 [00:00<?, ?it/s]"
     ]
    },
    {
     "data": {
      "application/vnd.jupyter.widget-view+json": {
       "model_id": "134e32db075a4936a8c62aeb4c9c335a",
       "version_major": 2,
       "version_minor": 0
      },
      "text/plain": [
       "Computing transition probabilities:   0%|          | 0/348 [00:00<?, ?it/s]"
      ]
     },
     "metadata": {},
     "output_type": "display_data"
    },
    {
     "name": "stdout",
     "output_type": "stream",
     "text": [
      "Fitting 3 folds for each of 64 candidates, totalling 192 fits\n"
     ]
    },
    {
     "name": "stderr",
     "output_type": "stream",
     "text": [
      "\r",
      "  2%|█▎                                                                               | 1/64 [01:25<1:29:34, 85.30s/it]"
     ]
    },
    {
     "data": {
      "application/vnd.jupyter.widget-view+json": {
       "model_id": "cab788eef1cf4895a8b1a3b0ffe6b47b",
       "version_major": 2,
       "version_minor": 0
      },
      "text/plain": [
       "Computing transition probabilities:   0%|          | 0/348 [00:00<?, ?it/s]"
      ]
     },
     "metadata": {},
     "output_type": "display_data"
    },
    {
     "name": "stdout",
     "output_type": "stream",
     "text": [
      "Fitting 3 folds for each of 64 candidates, totalling 192 fits\n"
     ]
    },
    {
     "name": "stderr",
     "output_type": "stream",
     "text": [
      "\r",
      "  3%|██▌                                                                              | 2/64 [02:48<1:26:47, 83.99s/it]"
     ]
    },
    {
     "data": {
      "application/vnd.jupyter.widget-view+json": {
       "model_id": "7d9d5cc7bc8b457c90198a831e8ee68f",
       "version_major": 2,
       "version_minor": 0
      },
      "text/plain": [
       "Computing transition probabilities:   0%|          | 0/348 [00:00<?, ?it/s]"
      ]
     },
     "metadata": {},
     "output_type": "display_data"
    },
    {
     "name": "stdout",
     "output_type": "stream",
     "text": [
      "Fitting 3 folds for each of 64 candidates, totalling 192 fits\n"
     ]
    },
    {
     "name": "stderr",
     "output_type": "stream",
     "text": [
      "\r",
      "  5%|███▊                                                                             | 3/64 [04:11<1:24:48, 83.43s/it]"
     ]
    },
    {
     "data": {
      "application/vnd.jupyter.widget-view+json": {
       "model_id": "83e9bd0634754f6f9cb65b459a2493fe",
       "version_major": 2,
       "version_minor": 0
      },
      "text/plain": [
       "Computing transition probabilities:   0%|          | 0/348 [00:00<?, ?it/s]"
      ]
     },
     "metadata": {},
     "output_type": "display_data"
    },
    {
     "name": "stdout",
     "output_type": "stream",
     "text": [
      "Fitting 3 folds for each of 64 candidates, totalling 192 fits\n"
     ]
    },
    {
     "name": "stderr",
     "output_type": "stream",
     "text": [
      "\r",
      "  6%|█████                                                                            | 4/64 [05:32<1:22:43, 82.73s/it]"
     ]
    },
    {
     "data": {
      "application/vnd.jupyter.widget-view+json": {
       "model_id": "a04c79f0b8c447c89f40f05a2d2c9532",
       "version_major": 2,
       "version_minor": 0
      },
      "text/plain": [
       "Computing transition probabilities:   0%|          | 0/348 [00:00<?, ?it/s]"
      ]
     },
     "metadata": {},
     "output_type": "display_data"
    },
    {
     "name": "stdout",
     "output_type": "stream",
     "text": [
      "Fitting 3 folds for each of 64 candidates, totalling 192 fits\n"
     ]
    },
    {
     "name": "stderr",
     "output_type": "stream",
     "text": [
      "\r",
      "  8%|██████▎                                                                          | 5/64 [07:01<1:23:23, 84.81s/it]"
     ]
    },
    {
     "data": {
      "application/vnd.jupyter.widget-view+json": {
       "model_id": "a688884af82d414a8144e810ea3b32b8",
       "version_major": 2,
       "version_minor": 0
      },
      "text/plain": [
       "Computing transition probabilities:   0%|          | 0/348 [00:00<?, ?it/s]"
      ]
     },
     "metadata": {},
     "output_type": "display_data"
    },
    {
     "name": "stdout",
     "output_type": "stream",
     "text": [
      "Fitting 3 folds for each of 64 candidates, totalling 192 fits\n"
     ]
    },
    {
     "name": "stderr",
     "output_type": "stream",
     "text": [
      "\r",
      "  9%|███████▌                                                                         | 6/64 [08:30<1:23:23, 86.27s/it]"
     ]
    },
    {
     "data": {
      "application/vnd.jupyter.widget-view+json": {
       "model_id": "0eadd179c0aa476da929f836b9d026f9",
       "version_major": 2,
       "version_minor": 0
      },
      "text/plain": [
       "Computing transition probabilities:   0%|          | 0/348 [00:00<?, ?it/s]"
      ]
     },
     "metadata": {},
     "output_type": "display_data"
    },
    {
     "name": "stdout",
     "output_type": "stream",
     "text": [
      "Fitting 3 folds for each of 64 candidates, totalling 192 fits\n"
     ]
    },
    {
     "name": "stderr",
     "output_type": "stream",
     "text": [
      "\r",
      " 11%|████████▊                                                                        | 7/64 [09:58<1:22:40, 87.03s/it]"
     ]
    },
    {
     "data": {
      "application/vnd.jupyter.widget-view+json": {
       "model_id": "adefa1878d224855bac097632ff16968",
       "version_major": 2,
       "version_minor": 0
      },
      "text/plain": [
       "Computing transition probabilities:   0%|          | 0/348 [00:00<?, ?it/s]"
      ]
     },
     "metadata": {},
     "output_type": "display_data"
    },
    {
     "name": "stdout",
     "output_type": "stream",
     "text": [
      "Fitting 3 folds for each of 64 candidates, totalling 192 fits\n"
     ]
    },
    {
     "name": "stderr",
     "output_type": "stream",
     "text": [
      "\r",
      " 12%|██████████▏                                                                      | 8/64 [11:27<1:21:42, 87.55s/it]"
     ]
    },
    {
     "data": {
      "application/vnd.jupyter.widget-view+json": {
       "model_id": "026de45dbe96485cafc5a6d4ffcd4119",
       "version_major": 2,
       "version_minor": 0
      },
      "text/plain": [
       "Computing transition probabilities:   0%|          | 0/348 [00:00<?, ?it/s]"
      ]
     },
     "metadata": {},
     "output_type": "display_data"
    },
    {
     "name": "stdout",
     "output_type": "stream",
     "text": [
      "Fitting 3 folds for each of 64 candidates, totalling 192 fits\n"
     ]
    },
    {
     "name": "stderr",
     "output_type": "stream",
     "text": [
      "\r",
      " 14%|███████████▍                                                                     | 9/64 [13:10<1:24:45, 92.46s/it]"
     ]
    },
    {
     "data": {
      "application/vnd.jupyter.widget-view+json": {
       "model_id": "61b73fbfb107454b9c1d7d8f3fff1f02",
       "version_major": 2,
       "version_minor": 0
      },
      "text/plain": [
       "Computing transition probabilities:   0%|          | 0/348 [00:00<?, ?it/s]"
      ]
     },
     "metadata": {},
     "output_type": "display_data"
    },
    {
     "name": "stdout",
     "output_type": "stream",
     "text": [
      "Fitting 3 folds for each of 64 candidates, totalling 192 fits\n"
     ]
    },
    {
     "name": "stderr",
     "output_type": "stream",
     "text": [
      "\r",
      " 16%|████████████▌                                                                   | 10/64 [14:55<1:26:27, 96.07s/it]"
     ]
    },
    {
     "data": {
      "application/vnd.jupyter.widget-view+json": {
       "model_id": "a049fd3cf0cc4e4b97fed833748456df",
       "version_major": 2,
       "version_minor": 0
      },
      "text/plain": [
       "Computing transition probabilities:   0%|          | 0/348 [00:00<?, ?it/s]"
      ]
     },
     "metadata": {},
     "output_type": "display_data"
    },
    {
     "name": "stdout",
     "output_type": "stream",
     "text": [
      "Fitting 3 folds for each of 64 candidates, totalling 192 fits\n"
     ]
    },
    {
     "name": "stderr",
     "output_type": "stream",
     "text": [
      "\r",
      " 17%|█████████████▊                                                                  | 11/64 [16:37<1:26:33, 97.98s/it]"
     ]
    },
    {
     "data": {
      "application/vnd.jupyter.widget-view+json": {
       "model_id": "eba8086ecaed4dedb6aa0e8cc8785979",
       "version_major": 2,
       "version_minor": 0
      },
      "text/plain": [
       "Computing transition probabilities:   0%|          | 0/348 [00:00<?, ?it/s]"
      ]
     },
     "metadata": {},
     "output_type": "display_data"
    },
    {
     "name": "stdout",
     "output_type": "stream",
     "text": [
      "Fitting 3 folds for each of 64 candidates, totalling 192 fits\n"
     ]
    },
    {
     "name": "stderr",
     "output_type": "stream",
     "text": [
      "\r",
      " 19%|███████████████                                                                 | 12/64 [18:18<1:25:48, 99.01s/it]"
     ]
    },
    {
     "data": {
      "application/vnd.jupyter.widget-view+json": {
       "model_id": "2a1dfb839e6548bca8517435a8de54f1",
       "version_major": 2,
       "version_minor": 0
      },
      "text/plain": [
       "Computing transition probabilities:   0%|          | 0/348 [00:00<?, ?it/s]"
      ]
     },
     "metadata": {},
     "output_type": "display_data"
    },
    {
     "name": "stdout",
     "output_type": "stream",
     "text": [
      "Fitting 3 folds for each of 64 candidates, totalling 192 fits\n"
     ]
    },
    {
     "name": "stderr",
     "output_type": "stream",
     "text": [
      "\r",
      " 20%|████████████████                                                               | 13/64 [20:10<1:27:25, 102.85s/it]"
     ]
    },
    {
     "data": {
      "application/vnd.jupyter.widget-view+json": {
       "model_id": "c7dc4c2aa4734dad9dd189813a85e85d",
       "version_major": 2,
       "version_minor": 0
      },
      "text/plain": [
       "Computing transition probabilities:   0%|          | 0/348 [00:00<?, ?it/s]"
      ]
     },
     "metadata": {},
     "output_type": "display_data"
    },
    {
     "name": "stdout",
     "output_type": "stream",
     "text": [
      "Fitting 3 folds for each of 64 candidates, totalling 192 fits\n"
     ]
    },
    {
     "name": "stderr",
     "output_type": "stream",
     "text": [
      "\r",
      " 22%|█████████████████▎                                                             | 14/64 [22:01<1:27:49, 105.40s/it]"
     ]
    },
    {
     "data": {
      "application/vnd.jupyter.widget-view+json": {
       "model_id": "6a619fb2232e48ecb2c346a1d2652036",
       "version_major": 2,
       "version_minor": 0
      },
      "text/plain": [
       "Computing transition probabilities:   0%|          | 0/348 [00:00<?, ?it/s]"
      ]
     },
     "metadata": {},
     "output_type": "display_data"
    },
    {
     "name": "stdout",
     "output_type": "stream",
     "text": [
      "Fitting 3 folds for each of 64 candidates, totalling 192 fits\n"
     ]
    },
    {
     "name": "stderr",
     "output_type": "stream",
     "text": [
      "\r",
      " 23%|██████████████████▌                                                            | 15/64 [23:52<1:27:18, 106.90s/it]"
     ]
    },
    {
     "data": {
      "application/vnd.jupyter.widget-view+json": {
       "model_id": "f86538bb32484d4fb0be597d23c474e7",
       "version_major": 2,
       "version_minor": 0
      },
      "text/plain": [
       "Computing transition probabilities:   0%|          | 0/348 [00:00<?, ?it/s]"
      ]
     },
     "metadata": {},
     "output_type": "display_data"
    },
    {
     "name": "stdout",
     "output_type": "stream",
     "text": [
      "Fitting 3 folds for each of 64 candidates, totalling 192 fits\n"
     ]
    },
    {
     "name": "stderr",
     "output_type": "stream",
     "text": [
      "\r",
      " 25%|███████████████████▊                                                           | 16/64 [25:42<1:26:28, 108.10s/it]"
     ]
    },
    {
     "data": {
      "application/vnd.jupyter.widget-view+json": {
       "model_id": "4ab9fa5c0401447e91ecab30201f89f2",
       "version_major": 2,
       "version_minor": 0
      },
      "text/plain": [
       "Computing transition probabilities:   0%|          | 0/348 [00:00<?, ?it/s]"
      ]
     },
     "metadata": {},
     "output_type": "display_data"
    },
    {
     "name": "stdout",
     "output_type": "stream",
     "text": [
      "Fitting 3 folds for each of 64 candidates, totalling 192 fits\n"
     ]
    },
    {
     "name": "stderr",
     "output_type": "stream",
     "text": [
      "\r",
      " 27%|████████████████████▉                                                          | 17/64 [27:06<1:18:55, 100.76s/it]"
     ]
    },
    {
     "data": {
      "application/vnd.jupyter.widget-view+json": {
       "model_id": "f6e55113c4684fa68a76801023a5c120",
       "version_major": 2,
       "version_minor": 0
      },
      "text/plain": [
       "Computing transition probabilities:   0%|          | 0/348 [00:00<?, ?it/s]"
      ]
     },
     "metadata": {},
     "output_type": "display_data"
    },
    {
     "name": "stdout",
     "output_type": "stream",
     "text": [
      "Fitting 3 folds for each of 64 candidates, totalling 192 fits\n"
     ]
    },
    {
     "name": "stderr",
     "output_type": "stream",
     "text": [
      "\r",
      " 28%|██████████████████████▌                                                         | 18/64 [28:29<1:13:13, 95.50s/it]"
     ]
    },
    {
     "data": {
      "application/vnd.jupyter.widget-view+json": {
       "model_id": "161bc36e90b8486ab7db94ecdb66ee58",
       "version_major": 2,
       "version_minor": 0
      },
      "text/plain": [
       "Computing transition probabilities:   0%|          | 0/348 [00:00<?, ?it/s]"
      ]
     },
     "metadata": {},
     "output_type": "display_data"
    },
    {
     "name": "stdout",
     "output_type": "stream",
     "text": [
      "Fitting 3 folds for each of 64 candidates, totalling 192 fits\n"
     ]
    },
    {
     "name": "stderr",
     "output_type": "stream",
     "text": [
      "\r",
      " 30%|███████████████████████▊                                                        | 19/64 [29:53<1:09:00, 92.01s/it]"
     ]
    },
    {
     "data": {
      "application/vnd.jupyter.widget-view+json": {
       "model_id": "7fde677ae99443b2bdcb5158ddec0c58",
       "version_major": 2,
       "version_minor": 0
      },
      "text/plain": [
       "Computing transition probabilities:   0%|          | 0/348 [00:00<?, ?it/s]"
      ]
     },
     "metadata": {},
     "output_type": "display_data"
    },
    {
     "name": "stdout",
     "output_type": "stream",
     "text": [
      "Fitting 3 folds for each of 64 candidates, totalling 192 fits\n"
     ]
    },
    {
     "name": "stderr",
     "output_type": "stream",
     "text": [
      "\r",
      " 31%|█████████████████████████                                                       | 20/64 [31:19<1:06:05, 90.13s/it]"
     ]
    },
    {
     "data": {
      "application/vnd.jupyter.widget-view+json": {
       "model_id": "a2ae1e5599a24f6a9c7705142e4c550e",
       "version_major": 2,
       "version_minor": 0
      },
      "text/plain": [
       "Computing transition probabilities:   0%|          | 0/348 [00:00<?, ?it/s]"
      ]
     },
     "metadata": {},
     "output_type": "display_data"
    },
    {
     "name": "stdout",
     "output_type": "stream",
     "text": [
      "Fitting 3 folds for each of 64 candidates, totalling 192 fits\n"
     ]
    },
    {
     "name": "stderr",
     "output_type": "stream",
     "text": [
      "\r",
      " 33%|██████████████████████████▎                                                     | 21/64 [32:48<1:04:23, 89.85s/it]"
     ]
    },
    {
     "data": {
      "application/vnd.jupyter.widget-view+json": {
       "model_id": "614b90ca2f1b42da9b7bfaa09a3fb1b8",
       "version_major": 2,
       "version_minor": 0
      },
      "text/plain": [
       "Computing transition probabilities:   0%|          | 0/348 [00:00<?, ?it/s]"
      ]
     },
     "metadata": {},
     "output_type": "display_data"
    },
    {
     "name": "stdout",
     "output_type": "stream",
     "text": [
      "Fitting 3 folds for each of 64 candidates, totalling 192 fits\n"
     ]
    },
    {
     "name": "stderr",
     "output_type": "stream",
     "text": [
      "\r",
      " 34%|███████████████████████████▌                                                    | 22/64 [34:16<1:02:30, 89.30s/it]"
     ]
    },
    {
     "data": {
      "application/vnd.jupyter.widget-view+json": {
       "model_id": "4e00251681e04e4db23c107d7a0c4932",
       "version_major": 2,
       "version_minor": 0
      },
      "text/plain": [
       "Computing transition probabilities:   0%|          | 0/348 [00:00<?, ?it/s]"
      ]
     },
     "metadata": {},
     "output_type": "display_data"
    },
    {
     "name": "stdout",
     "output_type": "stream",
     "text": [
      "Fitting 3 folds for each of 64 candidates, totalling 192 fits\n"
     ]
    },
    {
     "name": "stderr",
     "output_type": "stream",
     "text": [
      "\r",
      " 36%|████████████████████████████▊                                                   | 23/64 [35:44<1:00:40, 88.79s/it]"
     ]
    },
    {
     "data": {
      "application/vnd.jupyter.widget-view+json": {
       "model_id": "214bccd06d204bafbadcbe430aef5f46",
       "version_major": 2,
       "version_minor": 0
      },
      "text/plain": [
       "Computing transition probabilities:   0%|          | 0/348 [00:00<?, ?it/s]"
      ]
     },
     "metadata": {},
     "output_type": "display_data"
    },
    {
     "name": "stdout",
     "output_type": "stream",
     "text": [
      "Fitting 3 folds for each of 64 candidates, totalling 192 fits\n"
     ]
    },
    {
     "name": "stderr",
     "output_type": "stream",
     "text": [
      "\r",
      " 38%|██████████████████████████████▊                                                   | 24/64 [37:13<59:12, 88.81s/it]"
     ]
    },
    {
     "data": {
      "application/vnd.jupyter.widget-view+json": {
       "model_id": "1444f266d4d947b194c0f8d2158ff345",
       "version_major": 2,
       "version_minor": 0
      },
      "text/plain": [
       "Computing transition probabilities:   0%|          | 0/348 [00:00<?, ?it/s]"
      ]
     },
     "metadata": {},
     "output_type": "display_data"
    },
    {
     "name": "stdout",
     "output_type": "stream",
     "text": [
      "Fitting 3 folds for each of 64 candidates, totalling 192 fits\n"
     ]
    },
    {
     "name": "stderr",
     "output_type": "stream",
     "text": [
      "\r",
      " 39%|███████████████████████████████▎                                                | 25/64 [38:55<1:00:17, 92.76s/it]"
     ]
    },
    {
     "data": {
      "application/vnd.jupyter.widget-view+json": {
       "model_id": "ec6368f0fc8a498987b0e836cca8c343",
       "version_major": 2,
       "version_minor": 0
      },
      "text/plain": [
       "Computing transition probabilities:   0%|          | 0/348 [00:00<?, ?it/s]"
      ]
     },
     "metadata": {},
     "output_type": "display_data"
    },
    {
     "name": "stdout",
     "output_type": "stream",
     "text": [
      "Fitting 3 folds for each of 64 candidates, totalling 192 fits\n"
     ]
    },
    {
     "name": "stderr",
     "output_type": "stream",
     "text": [
      "\r",
      " 41%|████████████████████████████████▌                                               | 26/64 [40:37<1:00:33, 95.62s/it]"
     ]
    },
    {
     "data": {
      "application/vnd.jupyter.widget-view+json": {
       "model_id": "b86d8e37f75a4db99348f48e19426630",
       "version_major": 2,
       "version_minor": 0
      },
      "text/plain": [
       "Computing transition probabilities:   0%|          | 0/348 [00:00<?, ?it/s]"
      ]
     },
     "metadata": {},
     "output_type": "display_data"
    },
    {
     "name": "stdout",
     "output_type": "stream",
     "text": [
      "Fitting 3 folds for each of 64 candidates, totalling 192 fits\n"
     ]
    },
    {
     "name": "stderr",
     "output_type": "stream",
     "text": [
      "\r",
      " 42%|██████████████████████████████████▌                                               | 27/64 [42:17<59:46, 96.92s/it]"
     ]
    },
    {
     "data": {
      "application/vnd.jupyter.widget-view+json": {
       "model_id": "a1527f5b5aab41cc9532adfb02d08605",
       "version_major": 2,
       "version_minor": 0
      },
      "text/plain": [
       "Computing transition probabilities:   0%|          | 0/348 [00:00<?, ?it/s]"
      ]
     },
     "metadata": {},
     "output_type": "display_data"
    },
    {
     "name": "stdout",
     "output_type": "stream",
     "text": [
      "Fitting 3 folds for each of 64 candidates, totalling 192 fits\n"
     ]
    },
    {
     "name": "stderr",
     "output_type": "stream",
     "text": [
      "\r",
      " 44%|███████████████████████████████████▉                                              | 28/64 [43:59<59:03, 98.42s/it]"
     ]
    },
    {
     "data": {
      "application/vnd.jupyter.widget-view+json": {
       "model_id": "a6cf94364e484e209ae8cd201243b133",
       "version_major": 2,
       "version_minor": 0
      },
      "text/plain": [
       "Computing transition probabilities:   0%|          | 0/348 [00:00<?, ?it/s]"
      ]
     },
     "metadata": {},
     "output_type": "display_data"
    },
    {
     "name": "stdout",
     "output_type": "stream",
     "text": [
      "Fitting 3 folds for each of 64 candidates, totalling 192 fits\n"
     ]
    },
    {
     "name": "stderr",
     "output_type": "stream",
     "text": [
      "\r",
      " 45%|████████████████████████████████████▋                                            | 29/64 [45:49<59:31, 102.04s/it]"
     ]
    },
    {
     "data": {
      "application/vnd.jupyter.widget-view+json": {
       "model_id": "b81ecf62f47e4a879ebe9b3be7e4bda2",
       "version_major": 2,
       "version_minor": 0
      },
      "text/plain": [
       "Computing transition probabilities:   0%|          | 0/348 [00:00<?, ?it/s]"
      ]
     },
     "metadata": {},
     "output_type": "display_data"
    },
    {
     "name": "stdout",
     "output_type": "stream",
     "text": [
      "Fitting 3 folds for each of 64 candidates, totalling 192 fits\n"
     ]
    },
    {
     "name": "stderr",
     "output_type": "stream",
     "text": [
      "\r",
      " 47%|█████████████████████████████████████▉                                           | 30/64 [47:39<59:06, 104.32s/it]"
     ]
    },
    {
     "data": {
      "application/vnd.jupyter.widget-view+json": {
       "model_id": "33d4619737a44b71a130586f374a0ead",
       "version_major": 2,
       "version_minor": 0
      },
      "text/plain": [
       "Computing transition probabilities:   0%|          | 0/348 [00:00<?, ?it/s]"
      ]
     },
     "metadata": {},
     "output_type": "display_data"
    },
    {
     "name": "stdout",
     "output_type": "stream",
     "text": [
      "Fitting 3 folds for each of 64 candidates, totalling 192 fits\n"
     ]
    },
    {
     "name": "stderr",
     "output_type": "stream",
     "text": [
      "\r",
      " 48%|███████████████████████████████████████▏                                         | 31/64 [49:28<58:10, 105.77s/it]"
     ]
    },
    {
     "data": {
      "application/vnd.jupyter.widget-view+json": {
       "model_id": "251eea3297f44cf9b274d9ad7b8e34f0",
       "version_major": 2,
       "version_minor": 0
      },
      "text/plain": [
       "Computing transition probabilities:   0%|          | 0/348 [00:00<?, ?it/s]"
      ]
     },
     "metadata": {},
     "output_type": "display_data"
    },
    {
     "name": "stdout",
     "output_type": "stream",
     "text": [
      "Fitting 3 folds for each of 64 candidates, totalling 192 fits\n"
     ]
    },
    {
     "name": "stderr",
     "output_type": "stream",
     "text": [
      "\r",
      " 50%|████████████████████████████████████████▌                                        | 32/64 [51:18<57:02, 106.95s/it]"
     ]
    },
    {
     "data": {
      "application/vnd.jupyter.widget-view+json": {
       "model_id": "679e67a1787f43dcb54b40e3ce879148",
       "version_major": 2,
       "version_minor": 0
      },
      "text/plain": [
       "Computing transition probabilities:   0%|          | 0/348 [00:00<?, ?it/s]"
      ]
     },
     "metadata": {},
     "output_type": "display_data"
    },
    {
     "name": "stdout",
     "output_type": "stream",
     "text": [
      "Fitting 3 folds for each of 64 candidates, totalling 192 fits\n"
     ]
    },
    {
     "name": "stderr",
     "output_type": "stream",
     "text": [
      "\r",
      " 52%|█████████████████████████████████████████▊                                       | 33/64 [52:44<51:59, 100.64s/it]"
     ]
    },
    {
     "data": {
      "application/vnd.jupyter.widget-view+json": {
       "model_id": "b2412c1800294e58875a8933936513d2",
       "version_major": 2,
       "version_minor": 0
      },
      "text/plain": [
       "Computing transition probabilities:   0%|          | 0/348 [00:00<?, ?it/s]"
      ]
     },
     "metadata": {},
     "output_type": "display_data"
    },
    {
     "name": "stdout",
     "output_type": "stream",
     "text": [
      "Fitting 3 folds for each of 64 candidates, totalling 192 fits\n"
     ]
    },
    {
     "name": "stderr",
     "output_type": "stream",
     "text": [
      "\r",
      " 53%|███████████████████████████████████████▊                                   | 34/64 [3:11:51<21:27:17, 2574.57s/it]"
     ]
    },
    {
     "data": {
      "application/vnd.jupyter.widget-view+json": {
       "model_id": "0a9f926fffc4484f98209f96322fd6a2",
       "version_major": 2,
       "version_minor": 0
      },
      "text/plain": [
       "Computing transition probabilities:   0%|          | 0/348 [00:00<?, ?it/s]"
      ]
     },
     "metadata": {},
     "output_type": "display_data"
    },
    {
     "name": "stderr",
     "output_type": "stream",
     "text": [
      "C:\\Users\\duruh\\anaconda3\\lib\\site-packages\\joblib\\externals\\loky\\process_executor.py:702: UserWarning: A worker stopped while some jobs were given to the executor. This can be caused by a too short worker timeout or by a memory leak.\n",
      "  warnings.warn(\n"
     ]
    },
    {
     "name": "stdout",
     "output_type": "stream",
     "text": [
      "Fitting 3 folds for each of 64 candidates, totalling 192 fits\n"
     ]
    },
    {
     "name": "stderr",
     "output_type": "stream",
     "text": [
      "\r",
      " 55%|█████████████████████████████████████████                                  | 35/64 [3:13:22<14:44:19, 1829.62s/it]"
     ]
    },
    {
     "data": {
      "application/vnd.jupyter.widget-view+json": {
       "model_id": "8555f4e00e5e494bad29f4046ec2ab10",
       "version_major": 2,
       "version_minor": 0
      },
      "text/plain": [
       "Computing transition probabilities:   0%|          | 0/348 [00:00<?, ?it/s]"
      ]
     },
     "metadata": {},
     "output_type": "display_data"
    },
    {
     "name": "stdout",
     "output_type": "stream",
     "text": [
      "Fitting 3 folds for each of 64 candidates, totalling 192 fits\n"
     ]
    },
    {
     "name": "stderr",
     "output_type": "stream",
     "text": [
      "\r",
      " 56%|██████████████████████████████████████████▏                                | 36/64 [3:14:50<10:09:59, 1307.13s/it]"
     ]
    },
    {
     "data": {
      "application/vnd.jupyter.widget-view+json": {
       "model_id": "40452721f62d430fabee8b4492433ccb",
       "version_major": 2,
       "version_minor": 0
      },
      "text/plain": [
       "Computing transition probabilities:   0%|          | 0/348 [00:00<?, ?it/s]"
      ]
     },
     "metadata": {},
     "output_type": "display_data"
    },
    {
     "name": "stdout",
     "output_type": "stream",
     "text": [
      "Fitting 3 folds for each of 64 candidates, totalling 192 fits\n"
     ]
    },
    {
     "name": "stderr",
     "output_type": "stream",
     "text": [
      "\r",
      " 58%|████████████████████████████████████████████▌                                | 37/64 [3:16:22<7:04:04, 942.38s/it]"
     ]
    },
    {
     "data": {
      "application/vnd.jupyter.widget-view+json": {
       "model_id": "bba938ce40b54079aa032c858818bd72",
       "version_major": 2,
       "version_minor": 0
      },
      "text/plain": [
       "Computing transition probabilities:   0%|          | 0/348 [00:00<?, ?it/s]"
      ]
     },
     "metadata": {},
     "output_type": "display_data"
    },
    {
     "name": "stdout",
     "output_type": "stream",
     "text": [
      "Fitting 3 folds for each of 64 candidates, totalling 192 fits\n"
     ]
    },
    {
     "name": "stderr",
     "output_type": "stream",
     "text": [
      "\r",
      " 59%|█████████████████████████████████████████████▋                               | 38/64 [3:17:53<4:57:45, 687.15s/it]"
     ]
    },
    {
     "data": {
      "application/vnd.jupyter.widget-view+json": {
       "model_id": "f8ddd58ff5094b44bd8d38fc2fa34450",
       "version_major": 2,
       "version_minor": 0
      },
      "text/plain": [
       "Computing transition probabilities:   0%|          | 0/348 [00:00<?, ?it/s]"
      ]
     },
     "metadata": {},
     "output_type": "display_data"
    },
    {
     "name": "stdout",
     "output_type": "stream",
     "text": [
      "Fitting 3 folds for each of 64 candidates, totalling 192 fits\n"
     ]
    },
    {
     "name": "stderr",
     "output_type": "stream",
     "text": [
      "\r",
      " 61%|██████████████████████████████████████████████▉                              | 39/64 [3:19:25<3:31:53, 508.54s/it]"
     ]
    },
    {
     "data": {
      "application/vnd.jupyter.widget-view+json": {
       "model_id": "4c619d3c655040f9aa510fa626792d47",
       "version_major": 2,
       "version_minor": 0
      },
      "text/plain": [
       "Computing transition probabilities:   0%|          | 0/348 [00:00<?, ?it/s]"
      ]
     },
     "metadata": {},
     "output_type": "display_data"
    },
    {
     "name": "stdout",
     "output_type": "stream",
     "text": [
      "Fitting 3 folds for each of 64 candidates, totalling 192 fits\n"
     ]
    },
    {
     "name": "stderr",
     "output_type": "stream",
     "text": [
      "\r",
      " 62%|████████████████████████████████████████████████▏                            | 40/64 [3:20:55<2:33:14, 383.11s/it]"
     ]
    },
    {
     "data": {
      "application/vnd.jupyter.widget-view+json": {
       "model_id": "b9d0da209eed468c9fe3ad5be1d264a2",
       "version_major": 2,
       "version_minor": 0
      },
      "text/plain": [
       "Computing transition probabilities:   0%|          | 0/348 [00:00<?, ?it/s]"
      ]
     },
     "metadata": {},
     "output_type": "display_data"
    },
    {
     "name": "stdout",
     "output_type": "stream",
     "text": [
      "Fitting 3 folds for each of 64 candidates, totalling 192 fits\n"
     ]
    },
    {
     "name": "stderr",
     "output_type": "stream",
     "text": [
      "\r",
      " 64%|█████████████████████████████████████████████████▎                           | 41/64 [3:22:42<1:55:02, 300.12s/it]"
     ]
    },
    {
     "data": {
      "application/vnd.jupyter.widget-view+json": {
       "model_id": "add8eddc202a48f3aab181b26d4c064c",
       "version_major": 2,
       "version_minor": 0
      },
      "text/plain": [
       "Computing transition probabilities:   0%|          | 0/348 [00:00<?, ?it/s]"
      ]
     },
     "metadata": {},
     "output_type": "display_data"
    },
    {
     "name": "stdout",
     "output_type": "stream",
     "text": [
      "Fitting 3 folds for each of 64 candidates, totalling 192 fits\n"
     ]
    },
    {
     "name": "stderr",
     "output_type": "stream",
     "text": [
      "\r",
      " 66%|██████████████████████████████████████████████████▌                          | 42/64 [3:24:29<1:28:47, 242.15s/it]"
     ]
    },
    {
     "data": {
      "application/vnd.jupyter.widget-view+json": {
       "model_id": "26c153a9bb694c1fab7913e6292f04bd",
       "version_major": 2,
       "version_minor": 0
      },
      "text/plain": [
       "Computing transition probabilities:   0%|          | 0/348 [00:00<?, ?it/s]"
      ]
     },
     "metadata": {},
     "output_type": "display_data"
    },
    {
     "name": "stdout",
     "output_type": "stream",
     "text": [
      "Fitting 3 folds for each of 64 candidates, totalling 192 fits\n"
     ]
    },
    {
     "name": "stderr",
     "output_type": "stream",
     "text": [
      "\r",
      " 67%|███████████████████████████████████████████████████▋                         | 43/64 [3:26:14<1:10:25, 201.24s/it]"
     ]
    },
    {
     "data": {
      "application/vnd.jupyter.widget-view+json": {
       "model_id": "8f80da4429be4e258f67bf941986eb7a",
       "version_major": 2,
       "version_minor": 0
      },
      "text/plain": [
       "Computing transition probabilities:   0%|          | 0/348 [00:00<?, ?it/s]"
      ]
     },
     "metadata": {},
     "output_type": "display_data"
    },
    {
     "name": "stdout",
     "output_type": "stream",
     "text": [
      "Fitting 3 folds for each of 64 candidates, totalling 192 fits\n"
     ]
    },
    {
     "name": "stderr",
     "output_type": "stream",
     "text": [
      "\r",
      " 69%|██████████████████████████████████████████████████████▎                        | 44/64 [3:28:01<57:34, 172.71s/it]"
     ]
    },
    {
     "data": {
      "application/vnd.jupyter.widget-view+json": {
       "model_id": "d6934c26d6b74970809c2c6c17d963b7",
       "version_major": 2,
       "version_minor": 0
      },
      "text/plain": [
       "Computing transition probabilities:   0%|          | 0/348 [00:00<?, ?it/s]"
      ]
     },
     "metadata": {},
     "output_type": "display_data"
    },
    {
     "name": "stdout",
     "output_type": "stream",
     "text": [
      "Fitting 3 folds for each of 64 candidates, totalling 192 fits\n"
     ]
    },
    {
     "name": "stderr",
     "output_type": "stream",
     "text": [
      "\r",
      " 70%|███████████████████████████████████████████████████████▌                       | 45/64 [3:29:55<49:11, 155.33s/it]"
     ]
    },
    {
     "data": {
      "application/vnd.jupyter.widget-view+json": {
       "model_id": "086938b16f48400991b38b465ca5fe17",
       "version_major": 2,
       "version_minor": 0
      },
      "text/plain": [
       "Computing transition probabilities:   0%|          | 0/348 [00:00<?, ?it/s]"
      ]
     },
     "metadata": {},
     "output_type": "display_data"
    },
    {
     "name": "stdout",
     "output_type": "stream",
     "text": [
      "Fitting 3 folds for each of 64 candidates, totalling 192 fits\n"
     ]
    },
    {
     "name": "stderr",
     "output_type": "stream",
     "text": [
      "\r",
      " 72%|████████████████████████████████████████████████████████▊                      | 46/64 [3:32:02<44:03, 146.84s/it]"
     ]
    },
    {
     "data": {
      "application/vnd.jupyter.widget-view+json": {
       "model_id": "e60198bff0e24338b2c5a35394888fa8",
       "version_major": 2,
       "version_minor": 0
      },
      "text/plain": [
       "Computing transition probabilities:   0%|          | 0/348 [00:00<?, ?it/s]"
      ]
     },
     "metadata": {},
     "output_type": "display_data"
    },
    {
     "name": "stdout",
     "output_type": "stream",
     "text": [
      "Fitting 3 folds for each of 64 candidates, totalling 192 fits\n"
     ]
    },
    {
     "name": "stderr",
     "output_type": "stream",
     "text": [
      "\r",
      " 73%|██████████████████████████████████████████████████████████                     | 47/64 [3:34:01<39:14, 138.50s/it]"
     ]
    },
    {
     "data": {
      "application/vnd.jupyter.widget-view+json": {
       "model_id": "7bb7b730f86c420db56769f800618331",
       "version_major": 2,
       "version_minor": 0
      },
      "text/plain": [
       "Computing transition probabilities:   0%|          | 0/348 [00:00<?, ?it/s]"
      ]
     },
     "metadata": {},
     "output_type": "display_data"
    },
    {
     "name": "stdout",
     "output_type": "stream",
     "text": [
      "Fitting 3 folds for each of 64 candidates, totalling 192 fits\n"
     ]
    },
    {
     "name": "stderr",
     "output_type": "stream",
     "text": [
      "\r",
      " 75%|███████████████████████████████████████████████████████████▎                   | 48/64 [3:36:04<35:39, 133.73s/it]"
     ]
    },
    {
     "data": {
      "application/vnd.jupyter.widget-view+json": {
       "model_id": "f84997012cfc42caa5a42dd68cc3c712",
       "version_major": 2,
       "version_minor": 0
      },
      "text/plain": [
       "Computing transition probabilities:   0%|          | 0/348 [00:00<?, ?it/s]"
      ]
     },
     "metadata": {},
     "output_type": "display_data"
    },
    {
     "name": "stdout",
     "output_type": "stream",
     "text": [
      "Fitting 3 folds for each of 64 candidates, totalling 192 fits\n"
     ]
    },
    {
     "name": "stderr",
     "output_type": "stream",
     "text": [
      "\r",
      " 77%|████████████████████████████████████████████████████████████▍                  | 49/64 [3:37:38<30:28, 121.89s/it]"
     ]
    },
    {
     "data": {
      "application/vnd.jupyter.widget-view+json": {
       "model_id": "4cb230e9d8d144ffb62a2b06b0ada825",
       "version_major": 2,
       "version_minor": 0
      },
      "text/plain": [
       "Computing transition probabilities:   0%|          | 0/348 [00:00<?, ?it/s]"
      ]
     },
     "metadata": {},
     "output_type": "display_data"
    },
    {
     "name": "stdout",
     "output_type": "stream",
     "text": [
      "Fitting 3 folds for each of 64 candidates, totalling 192 fits\n"
     ]
    },
    {
     "name": "stderr",
     "output_type": "stream",
     "text": [
      "\r",
      " 78%|█████████████████████████████████████████████████████████████▋                 | 50/64 [3:39:12<26:28, 113.43s/it]"
     ]
    },
    {
     "data": {
      "application/vnd.jupyter.widget-view+json": {
       "model_id": "70283b29612b4503b127ee9aed1c0b67",
       "version_major": 2,
       "version_minor": 0
      },
      "text/plain": [
       "Computing transition probabilities:   0%|          | 0/348 [00:00<?, ?it/s]"
      ]
     },
     "metadata": {},
     "output_type": "display_data"
    },
    {
     "name": "stdout",
     "output_type": "stream",
     "text": [
      "Fitting 3 folds for each of 64 candidates, totalling 192 fits\n"
     ]
    },
    {
     "name": "stderr",
     "output_type": "stream",
     "text": [
      "\r",
      " 80%|██████████████████████████████████████████████████████████████▉                | 51/64 [3:40:45<23:16, 107.43s/it]"
     ]
    },
    {
     "data": {
      "application/vnd.jupyter.widget-view+json": {
       "model_id": "fe8e7c7a32864312b836a27213613149",
       "version_major": 2,
       "version_minor": 0
      },
      "text/plain": [
       "Computing transition probabilities:   0%|          | 0/348 [00:00<?, ?it/s]"
      ]
     },
     "metadata": {},
     "output_type": "display_data"
    },
    {
     "name": "stdout",
     "output_type": "stream",
     "text": [
      "Fitting 3 folds for each of 64 candidates, totalling 192 fits\n"
     ]
    },
    {
     "name": "stderr",
     "output_type": "stream",
     "text": [
      "\r",
      " 81%|████████████████████████████████████████████████████████████████▏              | 52/64 [3:42:19<20:40, 103.35s/it]"
     ]
    },
    {
     "data": {
      "application/vnd.jupyter.widget-view+json": {
       "model_id": "74248ef6260649398a57e567ccca7f61",
       "version_major": 2,
       "version_minor": 0
      },
      "text/plain": [
       "Computing transition probabilities:   0%|          | 0/348 [00:00<?, ?it/s]"
      ]
     },
     "metadata": {},
     "output_type": "display_data"
    },
    {
     "name": "stdout",
     "output_type": "stream",
     "text": [
      "Fitting 3 folds for each of 64 candidates, totalling 192 fits\n"
     ]
    },
    {
     "name": "stderr",
     "output_type": "stream",
     "text": [
      "\r",
      " 83%|█████████████████████████████████████████████████████████████████▍             | 53/64 [3:43:56<18:35, 101.40s/it]"
     ]
    },
    {
     "data": {
      "application/vnd.jupyter.widget-view+json": {
       "model_id": "4b484ea6e8a34cc5ad234616d6575c39",
       "version_major": 2,
       "version_minor": 0
      },
      "text/plain": [
       "Computing transition probabilities:   0%|          | 0/348 [00:00<?, ?it/s]"
      ]
     },
     "metadata": {},
     "output_type": "display_data"
    },
    {
     "name": "stdout",
     "output_type": "stream",
     "text": [
      "Fitting 3 folds for each of 64 candidates, totalling 192 fits\n"
     ]
    },
    {
     "name": "stderr",
     "output_type": "stream",
     "text": [
      "\r",
      " 84%|██████████████████████████████████████████████████████████████████▋            | 54/64 [3:45:33<16:40, 100.04s/it]"
     ]
    },
    {
     "data": {
      "application/vnd.jupyter.widget-view+json": {
       "model_id": "d7184823359b47b2abc9cf84f3e15cbc",
       "version_major": 2,
       "version_minor": 0
      },
      "text/plain": [
       "Computing transition probabilities:   0%|          | 0/348 [00:00<?, ?it/s]"
      ]
     },
     "metadata": {},
     "output_type": "display_data"
    },
    {
     "name": "stdout",
     "output_type": "stream",
     "text": [
      "Fitting 3 folds for each of 64 candidates, totalling 192 fits\n"
     ]
    },
    {
     "name": "stderr",
     "output_type": "stream",
     "text": [
      "\r",
      " 86%|████████████████████████████████████████████████████████████████████▊           | 55/64 [3:47:09<14:48, 98.75s/it]"
     ]
    },
    {
     "data": {
      "application/vnd.jupyter.widget-view+json": {
       "model_id": "3d6a42629eda4e06beca4303add92874",
       "version_major": 2,
       "version_minor": 0
      },
      "text/plain": [
       "Computing transition probabilities:   0%|          | 0/348 [00:00<?, ?it/s]"
      ]
     },
     "metadata": {},
     "output_type": "display_data"
    },
    {
     "name": "stdout",
     "output_type": "stream",
     "text": [
      "Fitting 3 folds for each of 64 candidates, totalling 192 fits\n"
     ]
    },
    {
     "name": "stderr",
     "output_type": "stream",
     "text": [
      "\r",
      " 88%|██████████████████████████████████████████████████████████████████████          | 56/64 [3:48:46<13:07, 98.38s/it]"
     ]
    },
    {
     "data": {
      "application/vnd.jupyter.widget-view+json": {
       "model_id": "11d9ca0377af4003b190498f92cf47b4",
       "version_major": 2,
       "version_minor": 0
      },
      "text/plain": [
       "Computing transition probabilities:   0%|          | 0/348 [00:00<?, ?it/s]"
      ]
     },
     "metadata": {},
     "output_type": "display_data"
    },
    {
     "name": "stdout",
     "output_type": "stream",
     "text": [
      "Fitting 3 folds for each of 64 candidates, totalling 192 fits\n"
     ]
    },
    {
     "name": "stderr",
     "output_type": "stream",
     "text": [
      "\r",
      " 89%|██████████████████████████████████████████████████████████████████████▎        | 57/64 [3:50:43<12:07, 103.92s/it]"
     ]
    },
    {
     "data": {
      "application/vnd.jupyter.widget-view+json": {
       "model_id": "7ce5947383b246f888d2113fdf31df79",
       "version_major": 2,
       "version_minor": 0
      },
      "text/plain": [
       "Computing transition probabilities:   0%|          | 0/348 [00:00<?, ?it/s]"
      ]
     },
     "metadata": {},
     "output_type": "display_data"
    },
    {
     "name": "stdout",
     "output_type": "stream",
     "text": [
      "Fitting 3 folds for each of 64 candidates, totalling 192 fits\n"
     ]
    },
    {
     "name": "stderr",
     "output_type": "stream",
     "text": [
      "\r",
      " 91%|███████████████████████████████████████████████████████████████████████▌       | 58/64 [3:52:41<10:48, 108.09s/it]"
     ]
    },
    {
     "data": {
      "application/vnd.jupyter.widget-view+json": {
       "model_id": "a97295304b3f476e86462da59b1ded0d",
       "version_major": 2,
       "version_minor": 0
      },
      "text/plain": [
       "Computing transition probabilities:   0%|          | 0/348 [00:00<?, ?it/s]"
      ]
     },
     "metadata": {},
     "output_type": "display_data"
    },
    {
     "name": "stdout",
     "output_type": "stream",
     "text": [
      "Fitting 3 folds for each of 64 candidates, totalling 192 fits\n"
     ]
    },
    {
     "name": "stderr",
     "output_type": "stream",
     "text": [
      "\r",
      " 92%|████████████████████████████████████████████████████████████████████████▊      | 59/64 [3:54:36<09:10, 110.19s/it]"
     ]
    },
    {
     "data": {
      "application/vnd.jupyter.widget-view+json": {
       "model_id": "ea7b2abcbbfa4d15826a2222e943bbf2",
       "version_major": 2,
       "version_minor": 0
      },
      "text/plain": [
       "Computing transition probabilities:   0%|          | 0/348 [00:00<?, ?it/s]"
      ]
     },
     "metadata": {},
     "output_type": "display_data"
    },
    {
     "name": "stdout",
     "output_type": "stream",
     "text": [
      "Fitting 3 folds for each of 64 candidates, totalling 192 fits\n"
     ]
    },
    {
     "name": "stderr",
     "output_type": "stream",
     "text": [
      "\r",
      " 94%|███████████████████████████████████████████████████████████████████████▎    | 60/64 [9:15:10<6:29:49, 5847.27s/it]"
     ]
    },
    {
     "data": {
      "application/vnd.jupyter.widget-view+json": {
       "model_id": "27681a75e9994dbcaa8f1682b1ab5866",
       "version_major": 2,
       "version_minor": 0
      },
      "text/plain": [
       "Computing transition probabilities:   0%|          | 0/348 [00:00<?, ?it/s]"
      ]
     },
     "metadata": {},
     "output_type": "display_data"
    },
    {
     "name": "stderr",
     "output_type": "stream",
     "text": [
      "C:\\Users\\duruh\\anaconda3\\lib\\site-packages\\joblib\\externals\\loky\\process_executor.py:702: UserWarning: A worker stopped while some jobs were given to the executor. This can be caused by a too short worker timeout or by a memory leak.\n",
      "  warnings.warn(\n"
     ]
    },
    {
     "name": "stdout",
     "output_type": "stream",
     "text": [
      "Fitting 3 folds for each of 64 candidates, totalling 192 fits\n"
     ]
    },
    {
     "name": "stderr",
     "output_type": "stream",
     "text": [
      "\r",
      " 95%|████████████████████████████████████████████████████████████████████████▍   | 61/64 [9:17:14<3:26:30, 4130.31s/it]"
     ]
    },
    {
     "data": {
      "application/vnd.jupyter.widget-view+json": {
       "model_id": "132fd1da626040b2992d9e34bdfb2dce",
       "version_major": 2,
       "version_minor": 0
      },
      "text/plain": [
       "Computing transition probabilities:   0%|          | 0/348 [00:00<?, ?it/s]"
      ]
     },
     "metadata": {},
     "output_type": "display_data"
    },
    {
     "name": "stdout",
     "output_type": "stream",
     "text": [
      "Fitting 3 folds for each of 64 candidates, totalling 192 fits\n"
     ]
    },
    {
     "name": "stderr",
     "output_type": "stream",
     "text": [
      "\r",
      " 97%|█████████████████████████████████████████████████████████████████████████▋  | 62/64 [9:19:14<1:37:34, 2927.15s/it]"
     ]
    },
    {
     "data": {
      "application/vnd.jupyter.widget-view+json": {
       "model_id": "fd7870d81960441c9195e721db734116",
       "version_major": 2,
       "version_minor": 0
      },
      "text/plain": [
       "Computing transition probabilities:   0%|          | 0/348 [00:00<?, ?it/s]"
      ]
     },
     "metadata": {},
     "output_type": "display_data"
    },
    {
     "name": "stdout",
     "output_type": "stream",
     "text": [
      "Fitting 3 folds for each of 64 candidates, totalling 192 fits\n"
     ]
    },
    {
     "name": "stderr",
     "output_type": "stream",
     "text": [
      "\r",
      " 98%|████████████████████████████████████████████████████████████████████████████▊ | 63/64 [9:21:09<34:43, 2083.67s/it]"
     ]
    },
    {
     "data": {
      "application/vnd.jupyter.widget-view+json": {
       "model_id": "1d0263162a6349629563b78d575701e7",
       "version_major": 2,
       "version_minor": 0
      },
      "text/plain": [
       "Computing transition probabilities:   0%|          | 0/348 [00:00<?, ?it/s]"
      ]
     },
     "metadata": {},
     "output_type": "display_data"
    },
    {
     "name": "stdout",
     "output_type": "stream",
     "text": [
      "Fitting 3 folds for each of 64 candidates, totalling 192 fits\n"
     ]
    },
    {
     "name": "stderr",
     "output_type": "stream",
     "text": [
      "100%|███████████████████████████████████████████████████████████████████████████████| 64/64 [9:23:06<00:00, 527.91s/it]\n"
     ]
    }
   ],
   "source": [
    "param_grid_XGB = {\n",
    "    'classifier__n_estimators': [100, 200],\n",
    "    'classifier__max_depth': [5, 10],\n",
    "    'classifier__learning_rate': [0.01, 0.1],\n",
    "    'classifier__subsample': [0.5, 1],\n",
    "    'classifier__colsample_bytree': [0.5, 1],\n",
    "    'classifier__gamma': [0, 3],\n",
    "}\n",
    "\n",
    "grid_search_XGB = mod.GridSearchCV(pipeline_XGB, \n",
    "                                   param_grid_XGB, \n",
    "                                   cv=3,\n",
    "                                   verbose=1,\n",
    "                                   scoring='f1_macro')\n",
    "\n",
    "bestScoreTest_XGB = 0\n",
    "bestScoreGrid_XGB = 0\n",
    "bestParamsModel_XGB = {}\n",
    "bestParamsN2V_XGB = \"\"\n",
    "dataUnlabeledFinal_XGB = pd.DataFrame()\n",
    "dimensionsList = [15, 20]\n",
    "walkLengthList = [40, 50]\n",
    "numWalksList = [150, 250]\n",
    "workersList = [5,6]\n",
    "pList = [0.5, 0.7]\n",
    "qList = [2,3]\n",
    "\n",
    "combinations = list(itertools.product(dimensionsList, walkLengthList, numWalksList, workersList, pList, qList))\n",
    "\n",
    "for i, j, k, w, p, q in tqdm(combinations):\n",
    "    n2v = Node2Vec(myEdgeList, dimensions=i, walk_length=j, num_walks=k, workers=w, p = p, q = q)\n",
    "    n2vModel = n2v.fit(window=4, min_count=1, batch_words=4)\n",
    "\n",
    "    n2vDic = dict()\n",
    "    for node in myEdgeList.nodes():\n",
    "        n2vDic[node] = n2vModel.wv[str(node)]\n",
    "    dfN2v = pd.DataFrame(n2vDic).T\n",
    "    dfN2v.index = pd.to_numeric(dfN2v.index)\n",
    "    newDF = pd.merge(data, dfN2v, left_index=True, right_index=True)\n",
    "    merged_df = newDF.merge(rolx_feats, left_index=True, right_index=True)\n",
    "\n",
    "    merged_df.columns = [\"Col_\"+str(i) for i in range(merged_df.shape[1])]\n",
    "\n",
    "    dataLabeled = merged_df[merged_df.Col_0 != \"unknown\"]\n",
    "    dataUnlabeled = merged_df[merged_df.Col_0 == \"unknown\"].drop(\"Col_0\", axis = 1)\n",
    "\n",
    "    le = pre.LabelEncoder()\n",
    "\n",
    "    X = dataLabeled.drop(\"Col_0\", axis = 1)\n",
    "    y = dataLabeled.Col_0\n",
    "\n",
    "    y_labeled = le.fit_transform(y)\n",
    "\n",
    "    X_train, X_test, y_train, y_test = mod.train_test_split(X, y_labeled, test_size=0.33, random_state=42)\n",
    "\n",
    "    grid_search_XGB.fit(X_train, y_train)\n",
    "\n",
    "    y_pred = grid_search_XGB.predict(X_test)\n",
    "    score = met.f1_score(y_test, y_pred, average=\"macro\")\n",
    "\n",
    "    if score > bestScoreTest_XGB:\n",
    "        bestScoreTest_XGB = score\n",
    "        bestScoreGrid_XGB = grid_search_XGB.best_score_\n",
    "        bestParamsModel_XGB = grid_search_XGB.best_params_\n",
    "        dataUnlabeledFinal_XGB = dataUnlabeled\n",
    "        bestParamsN2V_XGB = (f\"\\ndimensions={i}, walk_length={j}, num_walks={k}, workers={w}, p={p}, q={q}\\n\")"
   ]
  },
  {
   "cell_type": "code",
   "execution_count": 56,
   "id": "f8eb840a",
   "metadata": {},
   "outputs": [
    {
     "name": "stdout",
     "output_type": "stream",
     "text": [
      "Best parameters of the model: \n",
      "colsample_bytree : 0.5\n",
      "gamma : 0\n",
      "learning_rate : 0.1\n",
      "max_depth : 5\n",
      "n_estimators : 200\n",
      "subsample : 1\n",
      "\n",
      "\n",
      "Best parameters of the N2W:  \n",
      "dimensions=20, walk_length=40, num_walks=150, workers=6, p=0.5, q=3\n",
      "\n",
      "Best score from the grid:  0.9416343488232384\n",
      "\n",
      "F1 Score of the test predictions:  0.9867102396514161\n"
     ]
    }
   ],
   "source": [
    "print(\"Best parameters of the model: \")\n",
    "for i,j in bestParamsModel_XGB.items():\n",
    "    print(i[12:], \":\", j)\n",
    "print(\"\\n\")\n",
    "print(\"Best parameters of the N2W: \", bestParamsN2V_XGB)\n",
    "print(\"Best score from the grid: \", bestScoreGrid_XGB)\n",
    "print(\"\\nF1 Score of the test predictions: \", bestScoreTest_XGB)"
   ]
  },
  {
   "cell_type": "markdown",
   "id": "39660ca8",
   "metadata": {},
   "source": [
    "Test score seem to be higher but the difference between the validation score and test score made me think there might be a problem. I will present my RandomForest results as my final predictions.\n",
    "\n",
    "I will still export the results incase I need them."
   ]
  },
  {
   "cell_type": "code",
   "execution_count": 57,
   "id": "48d0ed82",
   "metadata": {},
   "outputs": [],
   "source": [
    "data_unknown_XGB = data[data.label == \"unknown\"].drop(\"label\", axis = 1)\n",
    "data_unknown_XGB[\"label\"] = le.inverse_transform(grid_search_XGB.predict(dataUnlabeledFinal_XGB))\n",
    "data_unknown_XGB = data_unknown_XGB[[\"label\"]]"
   ]
  },
  {
   "cell_type": "code",
   "execution_count": 58,
   "id": "d255ed73",
   "metadata": {},
   "outputs": [],
   "source": [
    "data_unknown_XGB.to_csv('predictions_XGB.txt', index_label=\"stdid\", sep=' ')"
   ]
  },
  {
   "cell_type": "markdown",
   "id": "db13229a",
   "metadata": {},
   "source": [
    "Let's save the models and finish."
   ]
  },
  {
   "cell_type": "code",
   "execution_count": 59,
   "id": "fb4f636b",
   "metadata": {},
   "outputs": [],
   "source": [
    "import pickle\n",
    "\n",
    "filename = 'RFModel.ncmodel'\n",
    "pickle.dump(grid_search_RF, open(filename,'wb'))\n",
    "\n",
    "filename = 'XGBModel.ncmodel'\n",
    "pickle.dump(grid_search_XGB, open(filename,'wb'))"
   ]
  },
  {
   "cell_type": "code",
   "execution_count": null,
   "id": "dfd87e85",
   "metadata": {},
   "outputs": [],
   "source": []
  }
 ],
 "metadata": {
  "kernelspec": {
   "display_name": "Python 3 (ipykernel)",
   "language": "python",
   "name": "python3"
  },
  "language_info": {
   "codemirror_mode": {
    "name": "ipython",
    "version": 3
   },
   "file_extension": ".py",
   "mimetype": "text/x-python",
   "name": "python",
   "nbconvert_exporter": "python",
   "pygments_lexer": "ipython3",
   "version": "3.9.16"
  }
 },
 "nbformat": 4,
 "nbformat_minor": 5
}
